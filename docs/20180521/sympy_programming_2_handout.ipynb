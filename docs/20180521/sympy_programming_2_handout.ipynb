{
 "cells": [
  {
   "cell_type": "markdown",
   "metadata": {},
   "source": [
    "最初に必要なライブラリを読み込みます。"
   ]
  },
  {
   "cell_type": "code",
   "execution_count": 1,
   "metadata": {
    "collapsed": true
   },
   "outputs": [],
   "source": [
    "from sympy import *\n",
    "from sympy.physics.quantum import *\n",
    "from sympy.physics.quantum.qubit import Qubit, QubitBra, measure_all, measure_all_oneshot\n",
    "from sympy.physics.quantum.gate import H,X,Y,Z,S,T,CPHASE,CNOT,SWAP,UGate,CGateS,gate_simp\n",
    "from sympy.physics.quantum.gate import IdentityGate as _I\n",
    "from sympy.physics.quantum.qft import *\n",
    "\n",
    "from sympy.printing.dot import dotprint\n",
    "init_printing()\n",
    "\n",
    "%matplotlib inline\n",
    "import matplotlib.pyplot as plt\n",
    "from sympy.physics.quantum.circuitplot import CircuitPlot,labeller, Mz,CreateOneQubitGate\n"
   ]
  },
  {
   "cell_type": "markdown",
   "metadata": {},
   "source": [
    "## （狭義の）量子プログラミングの手順\n",
    "\n",
    "1. 計算に必要な量子ビット（量子レジスタ）を準備して、その値を初期化する\n",
    "\n",
    "2. 量子計算をユニタリ行列（ゲート演算子）で記述する\n",
    "\n",
    "3. ユニタリ行列を量子ビットに作用する\n",
    "\n",
    "4. 測定する\n"
   ]
  },
  {
   "cell_type": "markdown",
   "metadata": {},
   "source": [
    "#### （１の例）計算に必要な量子ビット（量子レジスタ）を準備して、その値を初期化する"
   ]
  },
  {
   "cell_type": "code",
   "execution_count": 2,
   "metadata": {},
   "outputs": [
    {
     "data": {
      "image/png": "iVBORw0KGgoAAAANSUhEUgAAACgAAAAWBAMAAABAoMODAAAAMFBMVEX///8AAAAAAAAAAAAAAAAA\nAAAAAAAAAAAAAAAAAAAAAAAAAAAAAAAAAAAAAAAAAAAv3aB7AAAAD3RSTlMAMhCJRHaZZs1U3SLv\nu6tsAoCUAAAACXBIWXMAAA7EAAAOxAGVKw4bAAAAvUlEQVQYGW3PzQoBURiA4ZeZTEODXICUkqSM\nUrZW1ixkOwsXMls75QZkZ+cOuITZ24xbGFnY+T7k6JizeOs8nV8aWMOX+cgyqpMXdsZD+KaQvnBN\n74jJXtE748QmLBWDFD8zoatYS3EfJgRHwUGEezfBDwVPIYWbCewUI8VvYJWznaag3OHrRZ/AVjBI\n8DITuAjKu0v6+E+oJIIc6Nd/4mwU24vrb8r6I3tM81C2/a0sxjnozWBuHxm0bHnPn2yYTfllGwoN\nAAAAAElFTkSuQmCC\n",
      "text/latex": [
       "$${\\left|000\\right\\rangle }$$"
      ],
      "text/plain": [
       "❘000⟩"
      ]
     },
     "execution_count": 2,
     "metadata": {},
     "output_type": "execute_result"
    }
   ],
   "source": [
    "# 全て 0 の３量子ビットを準備\n",
    "Qubit('000')"
   ]
  },
  {
   "cell_type": "markdown",
   "metadata": {},
   "source": [
    "#### （２の例）量子計算をユニタリ行列（ゲート演算子）で記述する"
   ]
  },
  {
   "cell_type": "code",
   "execution_count": 3,
   "metadata": {},
   "outputs": [
    {
     "name": "stdout",
     "output_type": "stream",
     "text": [
      "⎡0  1⎤\n",
      "⎢    ⎥\n",
      "⎣1  0⎦\n",
      "⎡0  -ⅈ⎤\n",
      "⎢     ⎥\n",
      "⎣ⅈ  0 ⎦\n",
      "⎡1  0 ⎤\n",
      "⎢     ⎥\n",
      "⎣0  -1⎦\n",
      "⎡0.707106781186547  0.707106781186547 ⎤\n",
      "⎢                                     ⎥\n",
      "⎣0.707106781186547  -0.707106781186547⎦\n",
      "⎡1  0⎤\n",
      "⎢    ⎥\n",
      "⎣0  ⅈ⎦\n",
      "⎡1  0 ⎤\n",
      "⎢     ⎥\n",
      "⎣0  -ⅈ⎦\n",
      "⎡1   0  ⎤\n",
      "⎢       ⎥\n",
      "⎢    ⅈ⋅π⎥\n",
      "⎢    ───⎥\n",
      "⎢     4 ⎥\n",
      "⎣0  ℯ   ⎦\n",
      "⎡1    0   ⎤\n",
      "⎢         ⎥\n",
      "⎢    -ⅈ⋅π ⎥\n",
      "⎢    ─────⎥\n",
      "⎢      4  ⎥\n",
      "⎣0  ℯ     ⎦\n",
      "⎡1  0  0  0⎤\n",
      "⎢          ⎥\n",
      "⎢0  1  0  0⎥\n",
      "⎢          ⎥\n",
      "⎢0  0  0  1⎥\n",
      "⎢          ⎥\n",
      "⎣0  0  1  0⎦\n"
     ]
    }
   ],
   "source": [
    "# 基本的なユニタリ演算子\n",
    "pprint(represent(X(0),nqubits=1))\n",
    "pprint(represent(Y(0),nqubits=1))\n",
    "pprint(represent(Z(0),nqubits=1))\n",
    "pprint(represent(H(0),nqubits=1))\n",
    "pprint(represent(S(0),nqubits=1))\n",
    "pprint(represent(S(0)**(-1),nqubits=1))\n",
    "pprint(represent(T(0),nqubits=1))\n",
    "pprint(represent(T(0)**(-1),nqubits=1))\n",
    "pprint(represent(CNOT(1,0),nqubits=2))"
   ]
  },
  {
   "cell_type": "markdown",
   "metadata": {},
   "source": [
    "#### （３の例）ユニタリ行列を量子ビットに作用する"
   ]
  },
  {
   "cell_type": "code",
   "execution_count": 4,
   "metadata": {
    "scrolled": false
   },
   "outputs": [
    {
     "data": {
      "image/png": "iVBORw0KGgoAAAANSUhEUgAABzQAAAAWBAMAAABUCbdmAAAAMFBMVEX///8AAAAAAAAAAAAAAAAA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\ntIpcqQAAAABJRU5ErkJggg==\n",
      "text/latex": [
       "$$0.353553390593274 {\\left|000\\right\\rangle } + 0.353553390593274 {\\left|001\\right\\rangle } + 0.353553390593274 {\\left|010\\right\\rangle } + 0.353553390593274 {\\left|011\\right\\rangle } + 0.353553390593274 {\\left|100\\right\\rangle } + 0.353553390593274 {\\left|101\\right\\rangle } + 0.353553390593274 {\\left|110\\right\\rangle } + 0.353553390593274 {\\left|111\\right\\rangle }$$"
      ],
      "text/plain": [
       "0.353553390593274⋅❘000⟩ + 0.353553390593274⋅❘001⟩ + 0.353553390593274⋅❘010⟩ + \n",
       "0.353553390593274⋅❘011⟩ + 0.353553390593274⋅❘100⟩ + 0.353553390593274⋅❘101⟩ + \n",
       "0.353553390593274⋅❘110⟩ + 0.353553390593274⋅❘111⟩"
      ]
     },
     "execution_count": 4,
     "metadata": {},
     "output_type": "execute_result"
    }
   ],
   "source": [
    "# ユニタリ行列を量子ビットに作用するには、qapply() を使います。\n",
    "hadamard3 = H(2)*H(1)*H(0)\n",
    "qapply(hadamard3*Qubit('000'))"
   ]
  },
  {
   "cell_type": "markdown",
   "metadata": {},
   "source": [
    "#### （４の例）測定する"
   ]
  },
  {
   "cell_type": "code",
   "execution_count": 5,
   "metadata": {
    "scrolled": true
   },
   "outputs": [
    {
     "name": "stdout",
     "output_type": "stream",
     "text": [
      "❘101⟩\n",
      "❘111⟩\n",
      "❘000⟩\n",
      "❘001⟩\n",
      "❘001⟩\n",
      "❘110⟩\n",
      "❘101⟩\n",
      "❘100⟩\n",
      "❘010⟩\n",
      "❘110⟩\n"
     ]
    }
   ],
   "source": [
    "# 測定は、qapply() した量子状態に対して、measure_all_oneshot() で確率的な結果を得ます。\n",
    "for i in range(10):\n",
    "    pprint(measure_all_oneshot(qapply(hadamard3*Qubit('000'))))"
   ]
  },
  {
   "cell_type": "code",
   "execution_count": 6,
   "metadata": {},
   "outputs": [
    {
     "data": {
      "image/png": "iVBORw0KGgoAAAANSUhEUgAABUQAAAAWBAMAAAD6LIs/AAAAMFBMVEX///8AAAAAAAAAAAAAAAAA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\n",
      "text/latex": [
       "$$\\left [ \\left ( {\\left|000\\right\\rangle }, \\quad 0.125\\right ), \\quad \\left ( {\\left|001\\right\\rangle }, \\quad 0.125\\right ), \\quad \\left ( {\\left|010\\right\\rangle }, \\quad 0.125\\right ), \\quad \\left ( {\\left|011\\right\\rangle }, \\quad 0.125\\right ), \\quad \\left ( {\\left|100\\right\\rangle }, \\quad 0.125\\right ), \\quad \\left ( {\\left|101\\right\\rangle }, \\quad 0.125\\right ), \\quad \\left ( {\\left|110\\right\\rangle }, \\quad 0.125\\right ), \\quad \\left ( {\\left|111\\right\\rangle }, \\quad 0.125\\right )\\right ]$$"
      ],
      "text/plain": [
       "[(❘000⟩, 0.125), (❘001⟩, 0.125), (❘010⟩, 0.125), (❘011⟩, 0.125), (❘100⟩, 0.125\n",
       "), (❘101⟩, 0.125), (❘110⟩, 0.125), (❘111⟩, 0.125)]"
      ]
     },
     "execution_count": 6,
     "metadata": {},
     "output_type": "execute_result"
    }
   ],
   "source": [
    "# SymPyの量子シミュレーターでは、内部で量子状態を厳密に計算して、すべての状態を保持しています。\n",
    "# そのため。measure_all() では、全ての量子状態の確率を得ることができます。\n",
    "measure_all(qapply(hadamard3*Qubit('000')))"
   ]
  },
  {
   "cell_type": "markdown",
   "metadata": {},
   "source": [
    "## 【練習問題】いつもの説明資料の量子回路をプログラミング手順にそって計算しましょう。\n",
    "\n",
    "![計算例](quantum_calc_sample.png)"
   ]
  },
  {
   "cell_type": "code",
   "execution_count": 7,
   "metadata": {},
   "outputs": [
    {
     "data": {
      "image/png": "iVBORw0KGgoAAAANSUhEUgAAAB4AAAAWBAMAAAAlTTH8AAAAMFBMVEX///8AAAAAAAAAAAAAAAAA\nAAAAAAAAAAAAAAAAAAAAAAAAAAAAAAAAAAAAAAAAAAAv3aB7AAAAD3RSTlMAMhCJRHaZZs1U3SLv\nu6tsAoCUAAAACXBIWXMAAA7EAAAOxAGVKw4bAAAAuUlEQVQYGV3OzQoBURTA8b+PZro0yANIKUkK\npWytrFnIdhYeZLZ2ygvIzs4b8Aj2NuMVyMLOOWfUzLiLf/fX/ejQJF1OtpOU1Gbm7nQMmkJs3tI/\nYzmq/SulyMJaHcS4p4Weuh5T/lgIzuJhSPltwY3ElxGFlwUO6lCtgU3+Pi2xfOX0P/eBvTi44T8t\ncBfLKJ7O40VUb2JODBpJSjt1Z/X4paLzZdb8z3Ive16M8vYXsMw8D9oZJNsvCfg4ksvwWEUAAAAA\nSUVORK5CYII=\n",
      "text/latex": [
       "$${\\left|00\\right\\rangle }$$"
      ],
      "text/plain": [
       "❘00⟩"
      ]
     },
     "execution_count": 7,
     "metadata": {},
     "output_type": "execute_result"
    }
   ],
   "source": [
    "### 1. 計算に必要な量子ビット（量子レジスタ）を準備して、その値を初期化する\n",
    "## ２量子ビットを 0 で初期化してください。\n",
    "Qubit('00')"
   ]
  },
  {
   "cell_type": "code",
   "execution_count": 1,
<<<<<<< HEAD
   "metadata": {
    "collapsed": true
   },
=======
   "metadata": {},
>>>>>>> master
   "outputs": [],
   "source": [
    "### 2. 量子計算をユニタリ行列（ゲート演算子）で記述する\n",
    "## Hadamard のテンソル積 の行列表現を表示してください。\n",
    "\n"
   ]
  },
  {
   "cell_type": "code",
   "execution_count": 2,
<<<<<<< HEAD
   "metadata": {
    "collapsed": true
   },
=======
   "metadata": {},
>>>>>>> master
   "outputs": [],
   "source": [
    "## CNOT を Hadamard で挟んだゲート操作 の行列表現を表示してください。\n",
    "\n"
   ]
  },
  {
   "cell_type": "code",
   "execution_count": 3,
<<<<<<< HEAD
   "metadata": {
    "collapsed": true
   },
=======
   "metadata": {},
>>>>>>> master
   "outputs": [],
   "source": [
    "### 3. ユニタリ行列を量子ビットに作用する\n",
    "## Hadamard のテンソル積 を `Qubit('00')` に作用してください。\n",
    "\n"
   ]
  },
  {
   "cell_type": "code",
   "execution_count": 4,
<<<<<<< HEAD
   "metadata": {
    "collapsed": true
   },
=======
   "metadata": {},
>>>>>>> master
   "outputs": [],
   "source": [
    "## 次に、CNOT を Hadamard で挟んだゲート操作 を 前の状態に作用してください。\n",
    "\n",
    "\n"
   ]
  },
  {
   "cell_type": "code",
   "execution_count": 5,
<<<<<<< HEAD
   "metadata": {
    "collapsed": true
   },
=======
   "metadata": {},
>>>>>>> master
   "outputs": [],
   "source": [
    "### 4. 測定する\n",
    "## measure_all() を使って、それぞれの状態が測定される確率を表示してください。\n",
    "\n",
    "\n"
   ]
  },
  {
   "cell_type": "markdown",
   "metadata": {},
   "source": [
    "## 【課題１】グローバーのアルゴリズム\n",
    "<strong>\n",
    "問１）  \n",
    "１. 次の「問１の初期状態」 quest_state を入力として、この量子状態に $\\lvert 111 \\rangle $ が含まれるか  \n",
    "　グローバーのアルゴリズムを使って調べてください。  \n",
    "\n",
    "２. 上の条件で、この量子状態に $\\lvert 101 \\rangle $ が含まれるかをグローバーのアルゴリズムを  \n",
    "　使って調べる考察をします。（うまくいかない例を見ます）  \n",
    "　  \n",
    "　・プログラムを作り、実際は、$\\lvert 101 \\rangle $ が高確率で検出されることを調べてください。  \n",
    "　・なぜ、初期状態に含まれていない状態が検出されるか理由を考えましょう。（解答は口頭でよい）  \n",
    "　  \n",
    "　  \n",
    "問２）  \n",
    "１. 下の「問２の初期状態」quest2_state を入力として、問１と同様、  \n",
    "　$\\lvert 111 \\rangle $ と $\\lvert 101 \\rangle $ の状態にの検知について  グローバーのアルゴリズムを適用して、  \n",
    "　その状況を考察してください。\n",
    "　  \n",
    "　  \n",
    "</strong>"
   ]
  },
  {
   "cell_type": "markdown",
   "metadata": {},
   "source": [
    "**以降、【課題１】問１−１）の回答欄：**  "
   ]
  },
  {
   "cell_type": "code",
   "execution_count": 13,
   "metadata": {},
   "outputs": [
    {
     "data": {
      "text/plain": [
       "<sympy.physics.quantum.circuitplot.CircuitPlot at 0x1111654e0>"
      ]
     },
     "execution_count": 13,
     "metadata": {},
     "output_type": "execute_result"
    },
    {
     "data": {
      "image/png": "iVBORw0KGgoAAAANSUhEUgAAAVgAAADGCAYAAACXd5jHAAAABHNCSVQICAgIfAhkiAAAAAlwSFlz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\ngg==\n",
      "text/plain": [
       "<matplotlib.figure.Figure at 0x1111656a0>"
      ]
     },
     "metadata": {},
     "output_type": "display_data"
    }
   ],
   "source": [
    "# 問１の初期状態\n",
    "quest_state = CNOT(1,0)*CNOT(2,1)*H(2)*H(0)*Qubit('000')\n",
    "CircuitPlot(quest_state,nqubits=3)"
   ]
  },
  {
   "cell_type": "code",
   "execution_count": 14,
   "metadata": {},
   "outputs": [
    {
     "data": {
      "image/png": "iVBORw0KGgoAAAANSUhEUgAAAWcAAAAWBAMAAADun0BuAAAAMFBMVEX///8AAAAAAAAAAAAAAAAA\nAAAAAAAAAAAAAAAAAAAAAAAAAAAAAAAAAAAAAAAAAAAv3aB7AAAAD3RSTlMAEJmJZjLNVN0i77ur\nRHZ72Yd1AAAACXBIWXMAAA7EAAAOxAGVKw4bAAAEJ0lEQVRIDdWWwYscRRTGv57Z3drJzK6NQjBB\n2JGgXhLcg0YCSQwkpxzi6DnggDB6CDKQWw7JelEUD0OuHlYPBnJKcouYwxCSHALq4j9gR/QgiBKF\nSCBxfe9Vvarueg1ztg6v6nv9TX+/re2uGaAx3m4oEi5vNPVy2dTANG80tPUvCDBALQHHGhEkBjt5\np6G75vJ3jeu5sP4FAQYIEvDsa6/LrT8s35mCPKJjWZ7nucWBkyPurTxYfgUEIVqbwNlF/tp1TrEB\nOVDtA7yUgPfx/IzFtd2/wdCiU/mIr9XHyrT4lPWe3d1Nhhbtm+4rYLWsm2md+4ELbOEiKSYgBwLf\nNhUOWPoS3TE18d73M4YWnQp+4Ws8XEWFxmngMM8rR38DQ4uW8sLBh8D6Cb7I46Kfcn9x+4cSUnx0\nDAj+HAhy21Q4oD+HoyxgzuWY19L0V/Zym4erqNC4BVzirRqwIGjRvrlONyrG3OcRIHI/8Cd/nEoW\nEPw5EO0D88XCAc/MsfYPNRVadCro0/7LcJWfnwA/TWmp0KJ9U278jbdF6NyfoH10DAjQOVCN15NT\nwMYQa/9yzp0zL/FOi04FbjNAuEoWxV8EzcvBqZ9HtNOiH/imQJ8XG5WLssj91NSdlpQU4P0GyEBT\nwPYmlukNBG5ge4egRacCbPFFGq6iAvTI/C7/If2y95SgRR/xTYFeFRsVD5H76YJCh+it8IEAHboR\nyEBTwPYwQBPGFkOzTgU4FO7pKln0aFMFmtRNhmZ9xDcFurMjvgid+elihPbRGqDQGZCBpoANfTyA\nzuOWx8Ofi93J5IMrk8mcXjSCkMeD0l+dtTwe/uA9PJl8Npmcs/4adIg+Sy1EvwEy0BRAz73jF3Ew\nRvcpQYtOBaBHSIar/Ewv1iV+Ee8Bb+7Q6SHaN2Wn40sQdi73p50O0RoQ/DmQgaaA/nUs8ZGyZ4zO\nQ4IWnQqgp4GryEXjW+CtkuYrtNMlQYv2TYHuz8Smj4fxJ+gQrQEBOgcy0BRAZ3lnTDEd+jIbE7To\nVNC7Hhhc5Rf0ZfEyr4bAx3xOi/ZNgf7C2yJ07k/QkpICArTvJiADzQGfYP+oeITeEKdnBC26Vrr8\nKPBwFRUaq9Pia2yMcRlLVxlatBR/jL7hbRE69ydonxIDArQBSt8rKeC5P+4CnwOXj77I5zREpxJP\nMFd5muL47yOsztE7cLtkaNFSOvcf3UlHpH4j5n4cvHbuhC+SEgMUOgeS26YSz2DdHIbOxo+qXaWr\n2kzQ2VgbakMhVPNs/YgBbf4WoBSgN7bQ9G/wo9AXTBs8W4jBSK/v00Vttn7EgDZ/C3QK0Psa6PT7\nRy2N2ULEH1gNnwrrXxBggGADjGep0rzW2UKcafVp0/oXBBgg2IBf9e4690tdtc7r8WHQyzd00Tpb\n/4IAA0S/kf6f4z8urdHMi8VTwAAAAABJRU5ErkJggg==\n",
      "text/latex": [
       "$$0.5 {\\left|000\\right\\rangle } + 0.5 {\\left|001\\right\\rangle } + 0.5 {\\left|110\\right\\rangle } + 0.5 {\\left|111\\right\\rangle }$$"
      ],
      "text/plain": [
       "0.5⋅❘000⟩ + 0.5⋅❘001⟩ + 0.5⋅❘110⟩ + 0.5⋅❘111⟩"
      ]
     },
     "execution_count": 14,
     "metadata": {},
     "output_type": "execute_result"
    }
   ],
   "source": [
    "# 計算した初期状態を init_state とする\n",
    "init_state = qapply(quest_state)\n",
    "init_state"
   ]
  },
  {
   "cell_type": "code",
   "execution_count": 15,
   "metadata": {
    "collapsed": true
   },
   "outputs": [],
   "source": [
    "# 以降で役立ちそうな関数を定義します。\n",
    "def CCX(c1,c2,t):  return CGateS((c1,c2),X(t))\n",
    "def hadamard(s,n):\n",
    "    h = H(s)\n",
    "    for i in range(s+1,n+s):\n",
    "       h = H(i)*h\n",
    "    return h\n",
    "def CCZ(c1,c2,t): return (H(t)*CCX(c1,c2,t)*H(t)) # ＣＣＺ演算子を定義します。\n",
    "def DOp(n): return (Qubit('0'*n)*QubitBra('0'*n)*2-_I(0))     # ゲート操作で計算するには、上記コメントのような演算になります。\n",
    "h_3 = hadamard(0,3)\n",
    "d_3 = h_3 * DOp(3) * h_3    # 平均値周りの反転操作\n",
    "# represent(d_3,nqubits=3)"
   ]
  },
  {
   "cell_type": "code",
   "execution_count": 6,
   "metadata": {
<<<<<<< HEAD
    "collapsed": true,
=======
>>>>>>> master
    "scrolled": true
   },
   "outputs": [],
   "source": [
    "# | 111 > の検索する量子回路を作成する。\n",
    "\n",
    "\n"
   ]
  },
  {
   "cell_type": "code",
   "execution_count": 7,
   "metadata": {
<<<<<<< HEAD
    "collapsed": true,
=======
>>>>>>> master
    "scrolled": true
   },
   "outputs": [],
   "source": [
    "# 上で作った量子回路を初期状態と作用させて measure_all_oneshot() で何回か試行して、結果をみる。\n",
    "\n",
    "\n"
   ]
  },
  {
   "cell_type": "markdown",
   "metadata": {},
   "source": [
    "**以降、【課題１】問１−２）の回答欄：**  "
   ]
  },
  {
   "cell_type": "code",
   "execution_count": 8,
<<<<<<< HEAD
   "metadata": {
    "collapsed": true
   },
=======
   "metadata": {},
>>>>>>> master
   "outputs": [],
   "source": [
    "# | 101 > の検索する量子回路を作成する。\n",
    "\n",
    "\n"
   ]
  },
  {
   "cell_type": "code",
   "execution_count": 9,
<<<<<<< HEAD
   "metadata": {
    "collapsed": true
   },
=======
   "metadata": {},
>>>>>>> master
   "outputs": [],
   "source": [
    "# 上で作った量子回路を初期状態と作用させて measure_all() でかく状態の確率をみて、考察する。\n",
    "\n",
    "\n"
   ]
  },
  {
   "cell_type": "markdown",
   "metadata": {},
   "source": [
    "**以降、【課題１】問２−１）の回答欄：**  "
   ]
  },
  {
   "cell_type": "code",
   "execution_count": 20,
   "metadata": {
    "scrolled": true
   },
   "outputs": [
    {
     "data": {
      "text/plain": [
       "<sympy.physics.quantum.circuitplot.CircuitPlot at 0x115596e10>"
      ]
     },
     "execution_count": 20,
     "metadata": {},
     "output_type": "execute_result"
    },
    {
     "data": {
      "image/png": "iVBORw0KGgoAAAANSUhEUgAAAfsAAADGCAYAAADVGCkVAAAABHNCSVQICAgIfAhkiAAAAAlwSFlz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\nAADLUfYAAFiOsgcAwHKUPQAAlvsfEeW7t3HVmQsAAAAASUVORK5CYII=\n",
      "text/plain": [
       "<matplotlib.figure.Figure at 0x115a4f780>"
      ]
     },
     "metadata": {},
     "output_type": "display_data"
    }
   ],
   "source": [
    "# 問２の初期状態\n",
    "quest2_state = CNOT(2,1)*H(2)*X(2)*CNOT(2,1)*CNOT(2,0)*H(2)*X(2)*Qubit('000')\n",
    "CircuitPlot(quest2_state,nqubits=3)"
   ]
  },
  {
   "cell_type": "code",
   "execution_count": 10,
<<<<<<< HEAD
   "metadata": {
    "collapsed": true
   },
=======
   "metadata": {},
>>>>>>> master
   "outputs": [],
   "source": [
    "# 問２の回答欄（１）\n",
    "\n",
    "\n"
   ]
  },
  {
   "cell_type": "code",
   "execution_count": 11,
<<<<<<< HEAD
   "metadata": {
    "collapsed": true
   },
=======
   "metadata": {},
>>>>>>> master
   "outputs": [],
   "source": [
    "# 問２の回答欄（２）\n",
    "\n",
    "\n"
   ]
  },
  {
   "cell_type": "code",
   "execution_count": 12,
<<<<<<< HEAD
   "metadata": {
    "collapsed": true
   },
=======
   "metadata": {},
>>>>>>> master
   "outputs": [],
   "source": [
    "# 問２の回答欄（３）\n",
    "\n",
    "\n"
   ]
  },
  {
   "cell_type": "markdown",
   "metadata": {},
   "source": [
    "## 【課題２】量子フーリエ変換\n",
    "<strong>\n",
    "問１）  \n",
    "１. ３量子ビットを対象にした、量子フーリエ変換を行います。  \n",
    "　|000>, |001>, ..., |110>, |111> の全ての状態のそれぞれの QFT の結果を出してください。    \n",
    "　   \n",
    "　　　ヒント）sympy.physics.quantum.qft の QFT 関数を使います。\n",
    "\n",
    "２. QFT(0,3) の量子回路図を CircuitPlot() で作図してください。\n",
    "　  \n",
    "　  \n",
    "問２）  \n",
    "１. ３量子ビットを対象にした、量子フーリエ変換を基本的な量子ゲートだけで表してください。  \n",
    "　  $\\sqrt{T}$ゲートである Rk(n,4) は利用してもよい。\n",
    "　  \n",
    "　・演算をテンソル積で表してください。  \n",
    "　・（この場合の量子回路図は、うまく描けません。）  \n",
    "　  \n",
    "　  \n",
    "</strong>"
   ]
  },
  {
   "cell_type": "markdown",
   "metadata": {},
   "source": [
    "**以降、【課題２】問１−１）の回答欄：**"
   ]
  },
  {
   "cell_type": "code",
   "execution_count": 13,
   "metadata": {
<<<<<<< HEAD
    "collapsed": true,
=======
>>>>>>> master
    "scrolled": true
   },
   "outputs": [],
   "source": [
    "## QFT(0,3) の行列表現を表示してください。\n",
    "\n",
    "\n"
   ]
  },
  {
   "cell_type": "code",
   "execution_count": 14,
<<<<<<< HEAD
   "metadata": {
    "collapsed": true
   },
=======
   "metadata": {},
>>>>>>> master
   "outputs": [],
   "source": [
    "# |000> を量子フーリエ変換してください。\n",
    "\n",
    "\n"
   ]
  },
  {
   "cell_type": "code",
   "execution_count": 15,
<<<<<<< HEAD
   "metadata": {
    "collapsed": true
   },
=======
   "metadata": {},
>>>>>>> master
   "outputs": [],
   "source": [
    "# |001> を量子フーリエ変換してください。\n",
    "\n",
    "\n"
   ]
  },
  {
   "cell_type": "code",
   "execution_count": 16,
<<<<<<< HEAD
   "metadata": {
    "collapsed": true
   },
=======
   "metadata": {},
>>>>>>> master
   "outputs": [],
   "source": [
    "# |010> を量子フーリエ変換してください。\n",
    "\n",
    "\n"
   ]
  },
  {
   "cell_type": "code",
   "execution_count": 17,
<<<<<<< HEAD
   "metadata": {
    "collapsed": true
   },
=======
   "metadata": {},
>>>>>>> master
   "outputs": [],
   "source": [
    "# |011> を量子フーリエ変換してください。\n",
    "\n",
    "\n"
   ]
  },
  {
   "cell_type": "code",
   "execution_count": 18,
<<<<<<< HEAD
   "metadata": {
    "collapsed": true
   },
=======
   "metadata": {},
>>>>>>> master
   "outputs": [],
   "source": [
    "# |100> を量子フーリエ変換してください。\n",
    "\n",
    "\n"
   ]
  },
  {
   "cell_type": "code",
   "execution_count": 19,
<<<<<<< HEAD
   "metadata": {
    "collapsed": true
   },
=======
   "metadata": {},
>>>>>>> master
   "outputs": [],
   "source": [
    "# |101> を量子フーリエ変換してください。\n",
    "\n",
    "\n"
   ]
  },
  {
   "cell_type": "code",
   "execution_count": 20,
<<<<<<< HEAD
   "metadata": {
    "collapsed": true
   },
=======
   "metadata": {},
>>>>>>> master
   "outputs": [],
   "source": [
    "# |110> を量子フーリエ変換してください。\n",
    "\n",
    "\n"
   ]
  },
  {
   "cell_type": "code",
   "execution_count": 21,
<<<<<<< HEAD
   "metadata": {
    "collapsed": true
   },
=======
   "metadata": {},
>>>>>>> master
   "outputs": [],
   "source": [
    "# |111> を量子フーリエ変換してください。\n",
    "\n",
    "\n"
   ]
  },
  {
   "cell_type": "markdown",
   "metadata": {},
   "source": [
    "**以降、【課題２】問１−２）の回答欄：**"
   ]
  },
  {
   "cell_type": "code",
   "execution_count": 33,
   "metadata": {},
   "outputs": [
    {
     "data": {
      "image/png": "iVBORw0KGgoAAAANSUhEUgAAAV8AAAAVBAMAAAATL/AMAAAAMFBMVEX///8AAAAAAAAAAAAAAAAA\nAAAAAAAAAAAAAAAAAAAAAAAAAAAAAAAAAAAAAAAAAAAv3aB7AAAAD3RSTlMAVJmJZkS7EM0ydqsi\n79384c/uAAAACXBIWXMAAA7EAAAOxAGVKw4bAAAF6UlEQVRIDcVWUYhUZRT+Zu7M3p3Zu7OjD4JU\n60VJA0mHlYgscDICQckBiahIlyiULOcSIaKVU9BDGOwiPRg9zKDRU7WbRIlT7a3Ehx5cA6PoQSdJ\nglDczdrWNr195/z/3L2zK/oS9MM9/znfd/7zn/vfc/4Z4L8ZJ5JhNiWN+bpXTmCZMGGoegsaSC1d\nk6l8FD2LL65/hv7rZVmVq1Hkx6aaO1aI2R6ZsWmfj8Xc95ufeCXlvEFOGkjMnpCi0xd7dzbL3wgJ\nnIR3bSdjD+nazxXroIksXFZ6WAmlN0avg0+gCJ6BW0X2CuD8yUxHFeyekKmvBrxgvRRWpK9ldHxY\nRurushrdIScNJKZbEymrY9/8GSbBR8ZbcErobSFdpoE9IjppoKuM3ZqCoTFNn+viyJH2gQ3wfjcJ\nO4rhkb9krpeAJQ2DGLmNVt03+u5fOa8O1VhPaQKpuVZk0tfdxfdO/6NkxkcPMO4jUxHbafANO2lg\nKb9QDTKERvZvHiUz1LF/GHgC7gzw6h/Ao4p5CzX2CCOOlKyfTuvoPFI0yFDA+SmjX+RkAqn9isik\nb7ccQPa0koUQbwObi8hLALhE59Bwr9K7QdLQcGjnJ9XmQZSBdyCH/h7fo6RoJs/qAKp8xiqKWDEk\nqO6DtAY4qITX4mQDCdAtixK+WF0kkPMpgFPAMOMGyKqJN/idOmlkeXQ5Oskgje4JVol+dBr7ryhz\nFt7iK8iHRIDHUlyhLyGlkhhT1G0tjbcEf1kE8j6FDSS2I3bC19M1bkgUOKzyrEoRA5hHu9F9CZqt\nMJhshyiSTrwEh8ntVT+3kuNhI8dG7C8dOSKYs1yuhux0s/kpX0GwdQ3Bjc4eYdYaSO+XTG3WVwBH\nwnHk15akNzn0IAaeDqhuiGkcoqn0SDQT2j03ENt2oNms+hbAS2PXuG4Ii90pWxFZEy8/s2bpB5lS\napRLHsAxSltLil0eJsDeEL5QFFUC5Va2qKUorK8CBdagjIdwG/CzaBkWlBP21Kj2o00f/JKm0u7G\n6Ae7Zz8x2w4mCdpSQtWggelshRbwbrMp31OrplCBFM9F1MO4lhQ7FxBGoHqvWSeBJFfkJmJfBXq1\n/lxcQF+A72VdD5FCmJPerqNNM3cYmlfKpN2zTsy2gyYh99j+IpP+NsBZMTi4/Y+c+loU7P3vOF3A\nOFGtpZrBLhNFalh5SdgGihO2vppwYUKcF7P5e4smI17DKFQ86e06LC2HbRIu8XaYtHtKwnJ8vBU0\niX2yJOCpP8g63kSDn4vPJT51X0SIXzjxQqbTtgaBksH0Bk4bXUrCBtKEs63YVxM2N7DPAy2UzTfn\nNcyRkpPfai9oIpIwS8Id5UcSSvbcynZgC0hDKXAHp2V8RgZ58g0qwFd85COMMA15md84QaXWUsVg\n4yWC9xq9qwzYQJpwpmbrrmLq2ZPdnIBJFBqmqzZLbLH0V8vQJmE2Xeo0S0LCy85sOoctYC5aAqt8\nOKPEN4fALs5sYLqjGjLpgApP+CdO5qaSMqgGBpObb6HV5RqzgTRh2c36mqJeUkZqBXjCvQ1eYyYK\npao8LkObhImlzwP3k5awcppSMtpQAvhPrvyYMLbwuUcUtzodYFF0HndFz9FkjUqhYT2ZY9FxLCdq\nsBd3Hq1YPtuKA2nC3cOxr0nYXd68kwGuoq8i39jZER1osPZ8BsabJJQ2CZNOZ482i2S4p9D7hmYa\n6epUwwIC3mToLcAyKmWHYy+LqW30izGnCZ+KTVMSbVNviULYNrfgcX7QVts0Cc/SumeS7khidlWn\nlvdTo952HFqwKIgJwdqG0fUsFJL6w9o2y1kBax+We9icK5Hcawu287QbluQkfRDTZs8k3ZHE7Ko5\n2sBAkDuDc1GUwInFlupdobW9VTMN+/fSIApYEs4y+b183pq9UTRh/14a5OvLxxO02XOPdZapM4kE\nMU9NzUPmAN5gEugKk9Y8/WQH0k4/Bm9Bx343U26/GanciaTHpqQxX/fKCSwTJgxVb0HPdb+hXb4h\n+r+A/wI5rvj99KM0WQAAAABJRU5ErkJggg==\n",
      "text/latex": [
       "$$SWAP_{0,2} H_{0} C_{0}{\\left(S_{1}\\right)} H_{1} C_{0}{\\left(T_{2}\\right)} C_{1}{\\left(S_{2}\\right)} H_{2}$$"
      ],
      "text/plain": [
       "SWAP   ⋅H ⋅C ⎛S ⎞⋅H ⋅C ⎛T ⎞⋅C ⎛S ⎞⋅H \n",
       "    0,2  0  0⎝ 1⎠  1  0⎝ 2⎠  1⎝ 2⎠  2"
      ]
     },
     "execution_count": 33,
     "metadata": {},
     "output_type": "execute_result"
    }
   ],
   "source": [
    "### QFT(0,3) は、SymPy ではひと塊りのまとまったオペレータとして定義されています。\n",
    "### 基本ゲートを知るためには、decompose() を使います。\n",
    "QFT(0,3).decompose()"
   ]
  },
  {
   "cell_type": "code",
   "execution_count": 22,
<<<<<<< HEAD
   "metadata": {
    "collapsed": true
   },
=======
   "metadata": {},
>>>>>>> master
   "outputs": [],
   "source": [
    "# QFT(0,3) の量子回路図を CircuitPlot() で作図してください。\n",
    "\n",
    "\n"
   ]
  },
  {
   "cell_type": "code",
   "execution_count": 35,
   "metadata": {},
   "outputs": [
    {
     "data": {
      "image/png": "iVBORw0KGgoAAAANSUhEUgAAAV8AAAAVBAMAAAATL/AMAAAAMFBMVEX///8AAAAAAAAAAAAAAAAA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\n+r+A/wI5rvj99KM0WQAAAABJRU5ErkJggg==\n",
      "text/latex": [
       "$$SWAP_{0,2} H_{0} C_{0}{\\left(S_{1}\\right)} H_{1} C_{0}{\\left(T_{2}\\right)} C_{1}{\\left(S_{2}\\right)} H_{2}$$"
      ],
      "text/plain": [
       "SWAP   ⋅H ⋅C ⎛S ⎞⋅H ⋅C ⎛T ⎞⋅C ⎛S ⎞⋅H \n",
       "    0,2  0  0⎝ 1⎠  1  0⎝ 2⎠  1⎝ 2⎠  2"
      ]
     },
     "execution_count": 35,
     "metadata": {},
     "output_type": "execute_result"
    }
   ],
   "source": [
    "# decompose() した上記の回路を改めて、定義しなおします。\n",
    "qft3_decomp = SWAP(0,2)*H(0)*CGateS((0,),S(1))*H(1)*CGateS((0,),T(2))*CGateS((1,),S(2))*H(2)\n",
    "qft3_decomp"
   ]
  },
  {
   "cell_type": "code",
   "execution_count": 36,
   "metadata": {},
   "outputs": [
    {
     "data": {
      "text/plain": [
       "<sympy.physics.quantum.circuitplot.CircuitPlot at 0x11a8e7470>"
      ]
     },
     "execution_count": 36,
     "metadata": {},
     "output_type": "execute_result"
    },
    {
     "data": {
      "image/png": "iVBORw0KGgoAAAANSUhEUgAAAcUAAADGCAYAAACjIpueAAAABHNCSVQICAgIfAhkiAAAAAlwSFlz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\n",
      "text/plain": [
       "<matplotlib.figure.Figure at 0x11a7e8a58>"
      ]
     },
     "metadata": {},
     "output_type": "display_data"
    }
   ],
   "source": [
    "# 上記で定義しなおした QFT の量子回路図を CircuitPlot() で作図します。\n",
    "# QFT(0,3).decompose() の量子回路図と比較してください。\n",
    "CircuitPlot(qft3_decomp,nqubits=3)"
   ]
  },
  {
   "cell_type": "markdown",
   "metadata": {},
   "source": [
    "**以降、【課題２】問２−１）の解答欄：**  \n",
    "（ヒント）$c_{g}$ をグローバル位相として、Z軸回転\n",
    "$ R_{z\\theta} = c_{g} X \\cdot R_{z\\theta/2}^{\\dagger} \\cdot X \\cdot R_{z\\theta/2} $\n",
    "と表せることを使います。"
   ]
  },
  {
   "cell_type": "code",
   "execution_count": 37,
   "metadata": {
    "scrolled": true
   },
   "outputs": [
    {
     "name": "stdout",
     "output_type": "stream",
     "text": [
      "⎡1  0⎤\n",
      "⎢    ⎥\n",
      "⎣0  ⅈ⎦\n"
     ]
    },
    {
     "data": {
      "image/png": "iVBORw0KGgoAAAANSUhEUgAAADUAAAAyBAMAAAAOzY77AAAAMFBMVEX///8AAAAAAAAAAAAAAAAA\nAAAAAAAAAAAAAAAAAAAAAAAAAAAAAAAAAAAAAAAAAAAv3aB7AAAAD3RSTlMA74lUMhCrmXbNZt0i\nu0TKQvJ9AAAACXBIWXMAAA7EAAAOxAGVKw4bAAABQ0lEQVQ4EWOQ//+JAQtg+v9fgEHYxRWLFAOr\ni7MAgwg2GZAYC1Y51qJFDgg5wwCQShjgNGDdA5NjTc9HkVvIwKAJk2Ng6EeRu8bAYB8Atw9V7hsD\nw3sD7HKs34FyDdjleICB4a+AQw6oD5ccPjMZgG6xx+EWhrsMDOtx+QHo90pcfuc2YAXGADSsy+Sn\nLYAFJpBm1WhzgMshiSOY2OMIIj8qxxCupYIIKxCL7QI8PCczRB9AkWRbAJPjEmBgmoAiB+JAwpM3\ngYH5Kw45/gQGvs845OILGPh+IMtFVMDNPK/AwIKSeRUeIuQKUOV4DIBJCeoWdDNZGUA2QNwJdAsz\nilvArob64QIDF4ofOBOA+REiB/Q7O4rf4w0UYHIMmxkCHYA2wMF7ngVwuaCOFLg4iMG2CkhAzEQR\nh3MGmRy+MhJP2QoAqlhPskD1oYsAAAAASUVORK5CYII=\n",
      "text/latex": [
       "$$\\left[\\begin{matrix}1 & 0\\\\0 & i\\end{matrix}\\right]$$"
      ],
      "text/plain": [
       "⎡1  0⎤\n",
       "⎢    ⎥\n",
       "⎣0  ⅈ⎦"
      ]
     },
     "execution_count": 37,
     "metadata": {},
     "output_type": "execute_result"
    }
   ],
   "source": [
    "# S = c・X・T†・X・T であることを示します。\n",
    "pprint(represent(S(0),nqubits=1))\n",
    "represent(exp(I*pi/4)*X(0)*T(0)**(-1)*X(0)*T(0),nqubits=1)"
   ]
  },
  {
   "cell_type": "code",
   "execution_count": 38,
   "metadata": {},
   "outputs": [
    {
     "name": "stdout",
     "output_type": "stream",
     "text": [
      "⎡1   0  ⎤\n",
      "⎢       ⎥\n",
      "⎢    ⅈ⋅π⎥\n",
      "⎢    ───⎥\n",
      "⎢     4 ⎥\n",
      "⎣0  ℯ   ⎦\n"
     ]
    },
    {
     "data": {
      "image/png": "iVBORw0KGgoAAAANSUhEUgAAAEkAAAAyBAMAAADiuOvtAAAAMFBMVEX///8AAAAAAAAAAAAAAAAA\nAAAAAAAAAAAAAAAAAAAAAAAAAAAAAAAAAAAAAAAAAAAv3aB7AAAAD3RSTlMA74lUMhCrmXbNZt0i\nu0TKQvJ9AAAACXBIWXMAAA7EAAAOxAGVKw4bAAABtElEQVQ4EeWVPUsDQRCGX5NsjIl3CWqXIlEs\n1MazszIHxsrCaCOYwgiCpYeIKFikUdTGgGBtrMRGwTaF+ge0svMXWAiKH925m909dr3kLp2F28zO\nzLMzc+/CLXLuGwJXxHUz6C/OBEIgxekMBtowZOPcFqmYoCZKPrbHIg2NImvrfqoOjGoUcOynnoCC\niMqOLahP4NXixdpT5ItS1TCql6o4lw+laK1wqrOOoNMXQqfHM3AVrgRVdYcPj/ZKIGURecWC2sqd\nnolzniEj+7ZwZC0v13Lz76malCVQCXGL8G5Inmptg2pNVvGSzVbowSBqyoGVr7LqQZRhgzhOGFU2\nkbCuFWpxbJh5+orvIV5aZTHR8QTlWx3RPE4lM4h4Esp82uWL+pwyKoh+yKxqDS4sp9IVmO9qVu7r\nKrXswPyWGWYXDnaZMWdV6iGPmPpzNRu4Z9RSSqMcnbqzyCajqhr1u+PKxRErEhsa5DJ600fV6ekv\ngq8utaPxiKSqhJyRjDc/QuhFVe2uyfPU9gEJxZU3dIN5WwkfgvAiIsbnovo0b1WCie1LuW1aQWkx\nv/MnVGcvX0ev6A+eiGTHfvEmUAAAAABJRU5ErkJggg==\n",
      "text/latex": [
       "$$\\left[\\begin{matrix}1 & 0\\\\0 & e^{\\frac{i \\pi}{4}}\\end{matrix}\\right]$$"
      ],
      "text/plain": [
       "⎡1   0  ⎤\n",
       "⎢       ⎥\n",
       "⎢    ⅈ⋅π⎥\n",
       "⎢    ───⎥\n",
       "⎢     4 ⎥\n",
       "⎣0  ℯ   ⎦"
      ]
     },
     "execution_count": 38,
     "metadata": {},
     "output_type": "execute_result"
    }
   ],
   "source": [
    "# T = c・X・sqrt(T)†・X・sqrt(T) であることを示します。\n",
    "pprint(represent(T(0),nqubits=1))\n",
    "represent(exp(I*pi/8)*X(0)*Rk(0,4)**(-1)*X(0)*Rk(0,4),nqubits=1)"
   ]
  },
  {
   "cell_type": "code",
   "execution_count": 23,
<<<<<<< HEAD
   "metadata": {
    "collapsed": true
   },
=======
   "metadata": {},
>>>>>>> master
   "outputs": [],
   "source": [
    "# qft3_decomp = SWAP(0,2)*H(0)*CGateS((0,),S(1))*H(1)*CGateS((0,),T(2))*CGateS((1,),S(2))*H(2)\n",
    "# qft3_decomp を見ながら、制御Ｓゲートを置き換えて、qft3_decomp2 へ代入します。\n",
    "\n",
    "\n"
   ]
  },
  {
   "cell_type": "code",
   "execution_count": 24,
<<<<<<< HEAD
   "metadata": {
    "collapsed": true
   },
=======
   "metadata": {},
>>>>>>> master
   "outputs": [],
   "source": [
    "# qft3_decomp2 = SWAP(0,2)*H(0)*CNOT(0,1)*T(1)**(-1)*CNOT(0,1)*T(1)*H(1)*CGateS((0,),T(2))*CNOT(1,2)*T(2)**(-1)*CNOT(1,2)*T(2)*H(2)\n",
    "# qft3_decomp を見ながら、制御Ｔゲートを置き換えて、qft3_decomp3 へ代入します。\n",
    "\n"
   ]
  },
  {
   "cell_type": "code",
   "execution_count": 25,
<<<<<<< HEAD
   "metadata": {
    "collapsed": true
   },
=======
   "metadata": {},
>>>>>>> master
   "outputs": [],
   "source": [
    "# |000> の量子フーリエ変換の結果をみます。\n",
    "### ゲート操作が少し複雑になるため、SymPyがうまく判断できません。\n",
    "### represent()で計算します。解答例では、結果が縦ベクトルで行数が長くなるのを嫌い、transpose()します。\n",
    "\n",
    "# （解答例）transpose(represent(qft3_decomp2*Qubit('000'), nqubits=3))\n",
    "\n",
    "\n"
   ]
  },
  {
   "cell_type": "code",
   "execution_count": 26,
<<<<<<< HEAD
   "metadata": {
    "collapsed": true
   },
=======
   "metadata": {},
>>>>>>> master
   "outputs": [],
   "source": [
    "# |001> の量子フーリエ変換の結果をみます。\n",
    "### グローバル位相 exp(I*pi/4) をかけると同じになります。\n",
    "\n",
    "\n"
   ]
  },
  {
   "cell_type": "code",
<<<<<<< HEAD
   "execution_count": 1,
   "metadata": {
    "scrolled": true
   },
   "outputs": [],
=======
   "execution_count": 43,
   "metadata": {
    "scrolled": true
   },
   "outputs": [
    {
     "data": {
      "image/png": "iVBORw0KGgoAAAANSUhEUgAABlYAAAAZBAMAAACxww4+AAAAMFBMVEX///8AAAAAAAAAAAAAAAAA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\nKyINm9+KcQAAAABJRU5ErkJggg==\n",
      "text/latex": [
       "$$\\left[\\begin{matrix}0.353553390593274 & 0.353553390593274 i & -0.353553390593274 & - 0.353553390593274 i & 0.353553390593274 & 0.353553390593274 i & -0.353553390593274 & - 0.353553390593274 i\\end{matrix}\\right]$$"
      ],
      "text/plain": [
       "[0.353553390593274  0.353553390593274⋅ⅈ  -0.353553390593274  -0.35355339059327\n",
       "4⋅ⅈ  0.353553390593274  0.353553390593274⋅ⅈ  -0.353553390593274  -0.3535533905\n",
       "93274⋅ⅈ]"
      ]
     },
     "execution_count": 43,
     "metadata": {},
     "output_type": "execute_result"
    }
   ],
>>>>>>> master
   "source": [
    "# |010> の量子フーリエ変換の結果をみます。\n",
    "### グローバル位相 exp(I*pi/4) をかけると同じになります。\n",
    "\n",
<<<<<<< HEAD
    "\n"
=======
    "\n",
    "exp(I*pi/4)*transpose(represent(qft3_decomp2*Qubit('010'), nqubits=3))"
>>>>>>> master
   ]
  },
  {
   "cell_type": "code",
<<<<<<< HEAD
   "execution_count": 2,
   "metadata": {},
   "outputs": [],
=======
   "execution_count": 44,
   "metadata": {},
   "outputs": [
    {
     "data": {
      "image/png": "iVBORw0KGgoAAAANSUhEUgAABtsAAAAcBAMAAADy9R08AAAAMFBMVEX///8AAAAAAAAAAAAAAAAA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\njhz4Pzhwdkv3v4ebnUNAb7oEAAAAAElFTkSuQmCC\n",
      "text/latex": [
       "$$\\left[\\begin{matrix}0.353553390593274 & - 0.353553390593274 e^{- \\frac{i \\pi}{4}} & - 0.353553390593274 i & 0.353553390593274 e^{\\frac{i \\pi}{4}} & -0.353553390593274 & 0.353553390593274 e^{- \\frac{i \\pi}{4}} & 0.353553390593274 i & - 0.353553390593274 e^{\\frac{i \\pi}{4}}\\end{matrix}\\right]$$"
      ],
      "text/plain": [
       "⎡                                       -ⅈ⋅π                                  \n",
       "⎢                                       ─────                                 \n",
       "⎢                                         4                                   \n",
       "⎣0.353553390593274  -0.353553390593274⋅ℯ       -0.353553390593274⋅ⅈ  0.3535533\n",
       "\n",
       "          ⅈ⋅π                                         -ⅈ⋅π                    \n",
       "          ───                                         ─────                   \n",
       "           4                                            4                     \n",
       "90593274⋅ℯ     -0.353553390593274  0.353553390593274⋅ℯ       0.353553390593274\n",
       "\n",
       "                        ⅈ⋅π⎤\n",
       "                        ───⎥\n",
       "                         4 ⎥\n",
       "⋅ⅈ  -0.353553390593274⋅ℯ   ⎦"
      ]
     },
     "execution_count": 44,
     "metadata": {},
     "output_type": "execute_result"
    }
   ],
>>>>>>> master
   "source": [
    "# |011> の量子フーリエ変換の結果をみます。\n",
    "### グローバル位相 exp(I*pi/2) をかけると同じになります。\n",
    "\n",
<<<<<<< HEAD
    "\n"
=======
    "\n",
    "exp(I*pi/2)*transpose(represent(qft3_decomp2*Qubit('011'), nqubits=3))"
>>>>>>> master
   ]
  },
  {
   "cell_type": "code",
<<<<<<< HEAD
   "execution_count": 3,
   "metadata": {},
   "outputs": [],
   "source": [
    "# |100> の量子フーリエ変換の結果をみます。\n",
    "\n",
    "\n"
=======
   "execution_count": 45,
   "metadata": {},
   "outputs": [
    {
     "data": {
      "image/png": "iVBORw0KGgoAAAANSUhEUgAABjoAAAAZBAMAAAB6GOrAAAAAMFBMVEX///8AAAAAAAAAAAAAAAAA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\n",
      "text/latex": [
       "$$\\left[\\begin{matrix}0.353553390593274 & -0.353553390593274 & 0.353553390593274 & -0.353553390593274 & 0.353553390593274 & -0.353553390593274 & 0.353553390593274 & -0.353553390593274\\end{matrix}\\right]$$"
      ],
      "text/plain": [
       "[0.353553390593274  -0.353553390593274  0.353553390593274  -0.353553390593274 \n",
       " 0.353553390593274  -0.353553390593274  0.353553390593274  -0.353553390593274]"
      ]
     },
     "execution_count": 45,
     "metadata": {},
     "output_type": "execute_result"
    }
   ],
   "source": [
    "# |100> の量子フーリエ変換の結果をみます。\n",
    "\n",
    "\n",
    "transpose(represent(qft3_decomp2*Qubit('100'), nqubits=3))"
>>>>>>> master
   ]
  },
  {
   "cell_type": "code",
<<<<<<< HEAD
   "execution_count": 4,
   "metadata": {},
   "outputs": [],
=======
   "execution_count": 46,
   "metadata": {},
   "outputs": [
    {
     "data": {
      "image/png": "iVBORw0KGgoAAAANSUhEUgAABs8AAAAcBAMAAADcsDyuAAAAMFBMVEX///8AAAAAAAAAAAAAAAAA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\nGu3AyZn2/wGcQ72FOTWPegAAAABJRU5ErkJggg==\n",
      "text/latex": [
       "$$\\left[\\begin{matrix}0.353553390593274 & - 0.353553390593274 e^{\\frac{i \\pi}{4}} & 0.353553390593274 i & - 0.353553390593274 i e^{\\frac{i \\pi}{4}} & -0.353553390593274 & 0.353553390593274 e^{\\frac{i \\pi}{4}} & - 0.353553390593274 i & 0.353553390593274 i e^{\\frac{i \\pi}{4}}\\end{matrix}\\right]$$"
      ],
      "text/plain": [
       "⎡                                       ⅈ⋅π                                   \n",
       "⎢                                       ───                                   \n",
       "⎢                                        4                                    \n",
       "⎣0.353553390593274  -0.353553390593274⋅ℯ     0.353553390593274⋅ⅈ  -0.353553390\n",
       "\n",
       "          ⅈ⋅π                                         ⅈ⋅π                     \n",
       "          ───                                         ───                     \n",
       "           4                                           4                      \n",
       "593274⋅ⅈ⋅ℯ     -0.353553390593274  0.353553390593274⋅ℯ     -0.353553390593274⋅\n",
       "\n",
       "                        ⅈ⋅π⎤\n",
       "                        ───⎥\n",
       "                         4 ⎥\n",
       "ⅈ  0.353553390593274⋅ⅈ⋅ℯ   ⎦"
      ]
     },
     "execution_count": 46,
     "metadata": {},
     "output_type": "execute_result"
    }
   ],
>>>>>>> master
   "source": [
    "# |101> の量子フーリエ変換の結果をみます。\n",
    "### グローバル位相 exp(I*pi/4) をかけると同じになります。\n",
    "\n",
<<<<<<< HEAD
    "\n"
=======
    "\n",
    "exp(I*pi/4)*transpose(represent(qft3_decomp2*Qubit('101'), nqubits=3))"
>>>>>>> master
   ]
  },
  {
   "cell_type": "code",
<<<<<<< HEAD
   "execution_count": 5,
   "metadata": {},
   "outputs": [],
=======
   "execution_count": 47,
   "metadata": {},
   "outputs": [
    {
     "data": {
      "image/png": "iVBORw0KGgoAAAANSUhEUgAABlYAAAAZBAMAAACxww4+AAAAMFBMVEX///8AAAAAAAAAAAAAAAAA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\nRU5ErkJggg==\n",
      "text/latex": [
       "$$\\left[\\begin{matrix}0.353553390593274 & - 0.353553390593274 i & -0.353553390593274 & 0.353553390593274 i & 0.353553390593274 & - 0.353553390593274 i & -0.353553390593274 & 0.353553390593274 i\\end{matrix}\\right]$$"
      ],
      "text/plain": [
       "[0.353553390593274  -0.353553390593274⋅ⅈ  -0.353553390593274  0.35355339059327\n",
       "4⋅ⅈ  0.353553390593274  -0.353553390593274⋅ⅈ  -0.353553390593274  0.3535533905\n",
       "93274⋅ⅈ]"
      ]
     },
     "execution_count": 47,
     "metadata": {},
     "output_type": "execute_result"
    }
   ],
>>>>>>> master
   "source": [
    "# |110> の量子フーリエ変換の結果をみます。\n",
    "### グローバル位相 exp(I*pi/4) をかけると同じになります。\n",
    "\n",
<<<<<<< HEAD
    "\n"
=======
    "\n",
    "exp(I*pi/4)*transpose(represent(qft3_decomp2*Qubit('110'), nqubits=3))"
>>>>>>> master
   ]
  },
  {
   "cell_type": "code",
<<<<<<< HEAD
   "execution_count": 6,
   "metadata": {},
   "outputs": [],
=======
   "execution_count": 48,
   "metadata": {},
   "outputs": [
    {
     "data": {
      "image/png": "iVBORw0KGgoAAAANSUhEUgAABtsAAAAcBAMAAADy9R08AAAAMFBMVEX///8AAAAAAAAAAAAAAAAA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\nbb3/ApjUjnBCnGoxAAAAAElFTkSuQmCC\n",
      "text/latex": [
       "$$\\left[\\begin{matrix}0.353553390593274 & 0.353553390593274 e^{- \\frac{i \\pi}{4}} & - 0.353553390593274 i & - 0.353553390593274 e^{\\frac{i \\pi}{4}} & -0.353553390593274 & - 0.353553390593274 e^{- \\frac{i \\pi}{4}} & 0.353553390593274 i & 0.353553390593274 e^{\\frac{i \\pi}{4}}\\end{matrix}\\right]$$"
      ],
      "text/plain": [
       "⎡                                      -ⅈ⋅π                                   \n",
       "⎢                                      ─────                                  \n",
       "⎢                                        4                                    \n",
       "⎣0.353553390593274  0.353553390593274⋅ℯ       -0.353553390593274⋅ⅈ  -0.3535533\n",
       "\n",
       "          ⅈ⋅π                                          -ⅈ⋅π                   \n",
       "          ───                                          ─────                  \n",
       "           4                                             4                    \n",
       "90593274⋅ℯ     -0.353553390593274  -0.353553390593274⋅ℯ       0.35355339059327\n",
       "\n",
       "                        ⅈ⋅π⎤\n",
       "                        ───⎥\n",
       "                         4 ⎥\n",
       "4⋅ⅈ  0.353553390593274⋅ℯ   ⎦"
      ]
     },
     "execution_count": 48,
     "metadata": {},
     "output_type": "execute_result"
    }
   ],
>>>>>>> master
   "source": [
    "# |111> の量子フーリエ変換の結果をみます。\n",
    "### グローバル位相 exp(I*pi/2) をかけると同じになります。\n",
    "\n",
<<<<<<< HEAD
    "\n"
=======
    "\n",
    "exp(I*pi/2)*transpose(represent(qft3_decomp2*Qubit('111'), nqubits=3))"
>>>>>>> master
   ]
  },
  {
   "cell_type": "code",
   "execution_count": null,
   "metadata": {
    "collapsed": true
   },
   "outputs": [],
   "source": []
  }
 ],
 "metadata": {
  "kernelspec": {
   "display_name": "Python 3",
   "language": "python",
   "name": "python3"
  },
  "language_info": {
   "codemirror_mode": {
    "name": "ipython",
    "version": 3
   },
   "file_extension": ".py",
   "mimetype": "text/x-python",
   "name": "python",
   "nbconvert_exporter": "python",
   "pygments_lexer": "ipython3",
   "version": "3.6.3"
  }
 },
 "nbformat": 4,
 "nbformat_minor": 2
}

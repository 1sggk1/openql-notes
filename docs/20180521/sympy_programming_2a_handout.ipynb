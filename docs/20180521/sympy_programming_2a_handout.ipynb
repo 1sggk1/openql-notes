{
 "cells": [
  {
   "cell_type": "markdown",
   "metadata": {},
   "source": [
    "最初に必要なライブラリを読み込みます。"
   ]
  },
  {
   "cell_type": "code",
   "execution_count": 1,
   "metadata": {
    "collapsed": true
   },
   "outputs": [],
   "source": [
    "from sympy import *\n",
    "from sympy.physics.quantum import *\n",
    "from sympy.physics.quantum.qubit import Qubit, QubitBra, measure_all, measure_all_oneshot\n",
    "from sympy.physics.quantum.gate import H,X,Y,Z,S,T,CPHASE,CNOT,SWAP,UGate,CGateS,gate_simp\n",
    "from sympy.physics.quantum.gate import IdentityGate as _I\n",
    "from sympy.physics.quantum.qft import *\n",
    "\n",
    "from sympy.printing.dot import dotprint\n",
    "init_printing()\n",
    "\n",
    "%matplotlib inline\n",
    "import matplotlib.pyplot as plt\n",
    "from sympy.physics.quantum.circuitplot import CircuitPlot,labeller, Mz,CreateOneQubitGate\n"
   ]
  },
  {
   "cell_type": "markdown",
   "metadata": {},
   "source": [
    "## （狭義の）量子プログラミングの手順\n",
    "\n",
    "1. 計算に必要な量子ビット（量子レジスタ）を準備して、その値を初期化する\n",
    "\n",
    "2. 量子計算をユニタリ行列（ゲート演算子）で記述する\n",
    "\n",
    "3. ユニタリ行列を量子ビットに作用する\n",
    "\n",
    "4. 測定する\n"
   ]
  },
  {
   "cell_type": "markdown",
   "metadata": {},
   "source": [
    "#### （１の例）計算に必要な量子ビット（量子レジスタ）を準備して、その値を初期化する"
   ]
  },
  {
   "cell_type": "code",
   "execution_count": 2,
   "metadata": {},
   "outputs": [
    {
     "data": {
      "image/png": "[encoded data removed]",
      "text/latex": [
       "$${\\left|000\\right\\rangle }$$"
      ],
      "text/plain": [
       "❘000⟩"
      ]
     },
     "execution_count": 2,
     "metadata": {},
     "output_type": "execute_result"
    }
   ],
   "source": [
    "# 全て 0 の３量子ビットを準備\n",
    "Qubit('000')"
   ]
  },
  {
   "cell_type": "markdown",
   "metadata": {},
   "source": [
    "#### （２の例）量子計算をユニタリ行列（ゲート演算子）で記述する"
   ]
  },
  {
   "cell_type": "code",
   "execution_count": 3,
   "metadata": {},
   "outputs": [
    {
     "name": "stdout",
     "output_type": "stream",
     "text": [
      "⎡0  1⎤\n",
      "⎢    ⎥\n",
      "⎣1  0⎦\n",
      "⎡0  -ⅈ⎤\n",
      "⎢     ⎥\n",
      "⎣ⅈ  0 ⎦\n",
      "⎡1  0 ⎤\n",
      "⎢     ⎥\n",
      "⎣0  -1⎦\n",
      "⎡0.707106781186547  0.707106781186547 ⎤\n",
      "⎢                                     ⎥\n",
      "⎣0.707106781186547  -0.707106781186547⎦\n",
      "⎡1  0⎤\n",
      "⎢    ⎥\n",
      "⎣0  ⅈ⎦\n",
      "⎡1  0 ⎤\n",
      "⎢     ⎥\n",
      "⎣0  -ⅈ⎦\n",
      "⎡1   0  ⎤\n",
      "⎢       ⎥\n",
      "⎢    ⅈ⋅π⎥\n",
      "⎢    ───⎥\n",
      "⎢     4 ⎥\n",
      "⎣0  ℯ   ⎦\n",
      "⎡1    0   ⎤\n",
      "⎢         ⎥\n",
      "⎢    -ⅈ⋅π ⎥\n",
      "⎢    ─────⎥\n",
      "⎢      4  ⎥\n",
      "⎣0  ℯ     ⎦\n",
      "⎡1  0  0  0⎤\n",
      "⎢          ⎥\n",
      "⎢0  1  0  0⎥\n",
      "⎢          ⎥\n",
      "⎢0  0  0  1⎥\n",
      "⎢          ⎥\n",
      "⎣0  0  1  0⎦\n"
     ]
    }
   ],
   "source": [
    "# 基本的なユニタリ演算子\n",
    "pprint(represent(X(0),nqubits=1))\n",
    "pprint(represent(Y(0),nqubits=1))\n",
    "pprint(represent(Z(0),nqubits=1))\n",
    "pprint(represent(H(0),nqubits=1))\n",
    "pprint(represent(S(0),nqubits=1))\n",
    "pprint(represent(S(0)**(-1),nqubits=1))\n",
    "pprint(represent(T(0),nqubits=1))\n",
    "pprint(represent(T(0)**(-1),nqubits=1))\n",
    "pprint(represent(CNOT(1,0),nqubits=2))"
   ]
  },
  {
   "cell_type": "markdown",
   "metadata": {},
   "source": [
    "#### （３の例）ユニタリ行列を量子ビットに作用する"
   ]
  },
  {
   "cell_type": "code",
   "execution_count": 4,
   "metadata": {
    "scrolled": false
   },
   "outputs": [
    {
     "data": {
      "image/png": "[encoded data removed]",
      "text/latex": [
       "$$0.353553390593274 {\\left|000\\right\\rangle } + 0.353553390593274 {\\left|001\\right\\rangle } + 0.353553390593274 {\\left|010\\right\\rangle } + 0.353553390593274 {\\left|011\\right\\rangle } + 0.353553390593274 {\\left|100\\right\\rangle } + 0.353553390593274 {\\left|101\\right\\rangle } + 0.353553390593274 {\\left|110\\right\\rangle } + 0.353553390593274 {\\left|111\\right\\rangle }$$"
      ],
      "text/plain": [
       "0.353553390593274⋅❘000⟩ + 0.353553390593274⋅❘001⟩ + 0.353553390593274⋅❘010⟩ + \n",
       "0.353553390593274⋅❘011⟩ + 0.353553390593274⋅❘100⟩ + 0.353553390593274⋅❘101⟩ + \n",
       "0.353553390593274⋅❘110⟩ + 0.353553390593274⋅❘111⟩"
      ]
     },
     "execution_count": 4,
     "metadata": {},
     "output_type": "execute_result"
    }
   ],
   "source": [
    "# ユニタリ行列を量子ビットに作用するには、qapply() を使います。\n",
    "hadamard3 = H(2)*H(1)*H(0)\n",
    "qapply(hadamard3*Qubit('000'))"
   ]
  },
  {
   "cell_type": "markdown",
   "metadata": {},
   "source": [
    "#### （４の例）測定する"
   ]
  },
  {
   "cell_type": "code",
   "execution_count": 5,
   "metadata": {
    "scrolled": true
   },
   "outputs": [
    {
     "name": "stdout",
     "output_type": "stream",
     "text": [
      "❘101⟩\n",
      "❘111⟩\n",
      "❘000⟩\n",
      "❘001⟩\n",
      "❘001⟩\n",
      "❘110⟩\n",
      "❘101⟩\n",
      "❘100⟩\n",
      "❘010⟩\n",
      "❘110⟩\n"
     ]
    }
   ],
   "source": [
    "# 測定は、qapply() した量子状態に対して、measure_all_oneshot() で確率的な結果を得ます。\n",
    "for i in range(10):\n",
    "    pprint(measure_all_oneshot(qapply(hadamard3*Qubit('000'))))"
   ]
  },
  {
   "cell_type": "code",
   "execution_count": 6,
   "metadata": {},
   "outputs": [
    {
     "data": {
      "image/png": "[encoded data removed]",
      "text/latex": [
       "$$\\left [ \\left ( {\\left|000\\right\\rangle }, \\quad 0.125\\right ), \\quad \\left ( {\\left|001\\right\\rangle }, \\quad 0.125\\right ), \\quad \\left ( {\\left|010\\right\\rangle }, \\quad 0.125\\right ), \\quad \\left ( {\\left|011\\right\\rangle }, \\quad 0.125\\right ), \\quad \\left ( {\\left|100\\right\\rangle }, \\quad 0.125\\right ), \\quad \\left ( {\\left|101\\right\\rangle }, \\quad 0.125\\right ), \\quad \\left ( {\\left|110\\right\\rangle }, \\quad 0.125\\right ), \\quad \\left ( {\\left|111\\right\\rangle }, \\quad 0.125\\right )\\right ]$$"
      ],
      "text/plain": [
       "[(❘000⟩, 0.125), (❘001⟩, 0.125), (❘010⟩, 0.125), (❘011⟩, 0.125), (❘100⟩, 0.125\n",
       "), (❘101⟩, 0.125), (❘110⟩, 0.125), (❘111⟩, 0.125)]"
      ]
     },
     "execution_count": 6,
     "metadata": {},
     "output_type": "execute_result"
    }
   ],
   "source": [
    "# SymPyの量子シミュレーターでは、内部で量子状態を厳密に計算して、すべての状態を保持しています。\n",
    "# そのため。measure_all() では、全ての量子状態の確率を得ることができます。\n",
    "measure_all(qapply(hadamard3*Qubit('000')))"
   ]
  },
  {
   "cell_type": "markdown",
   "metadata": {},
   "source": [
    "## 【練習問題】いつもの説明資料の量子回路をプログラミング手順にそって計算しましょう。\n",
    "\n",
    "![計算例](quantum_calc_sample.png)"
   ]
  },
  {
   "cell_type": "code",
   "execution_count": 7,
   "metadata": {},
   "outputs": [
    {
     "data": {
      "image/png": "[encoded data removed]",
      "text/latex": [
       "$${\\left|00\\right\\rangle }$$"
      ],
      "text/plain": [
       "❘00⟩"
      ]
     },
     "execution_count": 7,
     "metadata": {},
     "output_type": "execute_result"
    }
   ],
   "source": [
    "### 1. 計算に必要な量子ビット（量子レジスタ）を準備して、その値を初期化する\n",
    "## ２量子ビットを 0 で初期化してください。\n",
    "Qubit('00')"
   ]
  },
  {
   "cell_type": "code",
   "execution_count": 8,
   "metadata": {},
   "outputs": [
    {
     "data": {
      "image/png": "[encoded data removed]",
      "text/latex": [
       "$$\\left[\\begin{matrix}0.5 & 0.5 & 0.5 & 0.5\\\\0.5 & -0.5 & 0.5 & -0.5\\\\0.5 & 0.5 & -0.5 & -0.5\\\\0.5 & -0.5 & -0.5 & 0.5\\end{matrix}\\right]$$"
      ],
      "text/plain": [
       "⎡0.5  0.5   0.5   0.5 ⎤\n",
       "⎢                     ⎥\n",
       "⎢0.5  -0.5  0.5   -0.5⎥\n",
       "⎢                     ⎥\n",
       "⎢0.5  0.5   -0.5  -0.5⎥\n",
       "⎢                     ⎥\n",
       "⎣0.5  -0.5  -0.5  0.5 ⎦"
      ]
     },
     "execution_count": 8,
     "metadata": {},
     "output_type": "execute_result"
    }
   ],
   "source": [
    "### 2. 量子計算をユニタリ行列（ゲート演算子）で記述する\n",
    "## Hadamard のテンソル積 の行列表現を表示してください。\n",
    "\n",
    "represent(H(1)*H(0),nqubits=2)"
   ]
  },
  {
   "cell_type": "code",
   "execution_count": 9,
   "metadata": {},
   "outputs": [
    {
     "data": {
      "image/png": "[encoded data removed]",
      "text/latex": [
       "$$\\left[\\begin{matrix}1.0 & 0 & 0 & 0\\\\0 & 1.0 & 0 & 0\\\\0 & 0 & 1.0 & 0\\\\0 & 0 & 0 & -1.0\\end{matrix}\\right]$$"
      ],
      "text/plain": [
       "⎡1.0   0    0    0  ⎤\n",
       "⎢                   ⎥\n",
       "⎢ 0   1.0   0    0  ⎥\n",
       "⎢                   ⎥\n",
       "⎢ 0    0   1.0   0  ⎥\n",
       "⎢                   ⎥\n",
       "⎣ 0    0    0   -1.0⎦"
      ]
     },
     "execution_count": 9,
     "metadata": {},
     "output_type": "execute_result"
    }
   ],
   "source": [
    "## CNOT を Hadamard で挟んだゲート操作 の行列表現を表示してください。\n",
    "\n",
    "represent(H(0)*CNOT(1,0)*H(0),nqubits=2)"
   ]
  },
  {
   "cell_type": "code",
   "execution_count": 10,
   "metadata": {},
   "outputs": [
    {
     "data": {
      "image/png": "[encoded data removed]",
      "text/latex": [
       "$$0.5 {\\left|00\\right\\rangle } + 0.5 {\\left|01\\right\\rangle } + 0.5 {\\left|10\\right\\rangle } + 0.5 {\\left|11\\right\\rangle }$$"
      ],
      "text/plain": [
       "0.5⋅❘00⟩ + 0.5⋅❘01⟩ + 0.5⋅❘10⟩ + 0.5⋅❘11⟩"
      ]
     },
     "execution_count": 10,
     "metadata": {},
     "output_type": "execute_result"
    }
   ],
   "source": [
    "### 3. ユニタリ行列を量子ビットに作用する\n",
    "## Hadamard のテンソル積 を `Qubit('00')` に作用してください。\n",
    "\n",
    "qapply(H(1)*H(0)*Qubit('00'))"
   ]
  },
  {
   "cell_type": "code",
   "execution_count": 11,
   "metadata": {},
   "outputs": [
    {
     "data": {
      "image/png": "[encoded data removed]",
      "text/latex": [
       "$$0.5 {\\left|00\\right\\rangle } + 0.5 {\\left|01\\right\\rangle } + 0.5 {\\left|10\\right\\rangle } - 0.5 {\\left|11\\right\\rangle }$$"
      ],
      "text/plain": [
       "0.5⋅❘00⟩ + 0.5⋅❘01⟩ + 0.5⋅❘10⟩ - 0.5⋅❘11⟩"
      ]
     },
     "execution_count": 11,
     "metadata": {},
     "output_type": "execute_result"
    }
   ],
   "source": [
    "## 次に、CNOT を Hadamard で挟んだゲート操作 を 前の状態に作用してください。\n",
    "\n",
    "\n",
    "qapply(H(0)*CNOT(1,0)*H(0)*H(1)*H(0)*Qubit('00'))"
   ]
  },
  {
   "cell_type": "code",
   "execution_count": 12,
   "metadata": {},
   "outputs": [
    {
     "data": {
      "image/png": "[encoded data removed]",
      "text/latex": [
       "$$\\left [ \\left ( {\\left|00\\right\\rangle }, \\quad 0.25\\right ), \\quad \\left ( {\\left|01\\right\\rangle }, \\quad 0.25\\right ), \\quad \\left ( {\\left|10\\right\\rangle }, \\quad 0.25\\right ), \\quad \\left ( {\\left|11\\right\\rangle }, \\quad 0.25\\right )\\right ]$$"
      ],
      "text/plain": [
       "[(❘00⟩, 0.25), (❘01⟩, 0.25), (❘10⟩, 0.25), (❘11⟩, 0.25)]"
      ]
     },
     "execution_count": 12,
     "metadata": {},
     "output_type": "execute_result"
    }
   ],
   "source": [
    "### 4. 測定する\n",
    "## measure_all() を使って、それぞれの状態が測定される確率を表示してください。\n",
    "\n",
    "\n",
    "measure_all(qapply(H(0)*CNOT(1,0)*H(0)*H(1)*H(0)*Qubit('00')))"
   ]
  },
  {
   "cell_type": "markdown",
   "metadata": {},
   "source": [
    "## 【課題１】グローバーのアルゴリズム\n",
    "<strong>\n",
    "問１）  \n",
    "１. 次の「問１の初期状態」 quest_state を入力として、この量子状態に $\\lvert 111 \\rangle $ が含まれるか  \n",
    "　グローバーのアルゴリズムを使って調べてください。  \n",
    "\n",
    "２. 上の条件で、この量子状態に $\\lvert 101 \\rangle $ が含まれるかをグローバーのアルゴリズムを  \n",
    "　使って調べる考察をします。（うまくいかない例を見ます）  \n",
    "　  \n",
    "　・プログラムを作り、実際は、$\\lvert 101 \\rangle $ が高確率で検出されることを調べてください。  \n",
    "　・なぜ、初期状態に含まれていない状態が検出されるか理由を考えましょう。（解答は口頭でよい）  \n",
    "　  \n",
    "　  \n",
    "問２）  \n",
    "１. 下の「問２の初期状態」quest2_state を入力として、問１と同様、  \n",
    "　$\\lvert 111 \\rangle $ と $\\lvert 101 \\rangle $ の状態にの検知について  グローバーのアルゴリズムを適用して、  \n",
    "　その状況を考察してください。\n",
    "　  \n",
    "　  \n",
    "</strong>"
   ]
  },
  {
   "cell_type": "markdown",
   "metadata": {},
   "source": [
    "**以降、【課題１】問１−１）の回答欄：**  "
   ]
  },
  {
   "cell_type": "code",
   "execution_count": 13,
   "metadata": {},
   "outputs": [
    {
     "data": {
      "text/plain": [
       "<sympy.physics.quantum.circuitplot.CircuitPlot at 0x1111654e0>"
      ]
     },
     "execution_count": 13,
     "metadata": {},
     "output_type": "execute_result"
    },
    {
     "data": {
      "image/png": "[encoded data removed]",
      "text/plain": [
       "<matplotlib.figure.Figure at 0x1111656a0>"
      ]
     },
     "metadata": {},
     "output_type": "display_data"
    }
   ],
   "source": [
    "# 問１の初期状態\n",
    "quest_state = CNOT(1,0)*CNOT(2,1)*H(2)*H(0)*Qubit('000')\n",
    "CircuitPlot(quest_state,nqubits=3)"
   ]
  },
  {
   "cell_type": "code",
   "execution_count": 14,
   "metadata": {},
   "outputs": [
    {
     "data": {
      "image/png": "[encoded data removed]",
      "text/latex": [
       "$$0.5 {\\left|000\\right\\rangle } + 0.5 {\\left|001\\right\\rangle } + 0.5 {\\left|110\\right\\rangle } + 0.5 {\\left|111\\right\\rangle }$$"
      ],
      "text/plain": [
       "0.5⋅❘000⟩ + 0.5⋅❘001⟩ + 0.5⋅❘110⟩ + 0.5⋅❘111⟩"
      ]
     },
     "execution_count": 14,
     "metadata": {},
     "output_type": "execute_result"
    }
   ],
   "source": [
    "# 計算した初期状態を init_state とする\n",
    "init_state = qapply(quest_state)\n",
    "init_state"
   ]
  },
  {
   "cell_type": "code",
   "execution_count": 15,
   "metadata": {
    "collapsed": true
   },
   "outputs": [],
   "source": [
    "# 以降で役立ちそうな関数を定義します。\n",
    "def CCX(c1,c2,t):  return CGateS((c1,c2),X(t))\n",
    "def hadamard(s,n):\n",
    "    h = H(s)\n",
    "    for i in range(s+1,n+s):\n",
    "       h = H(i)*h\n",
    "    return h\n",
    "def CCZ(c1,c2,t): return (H(t)*CCX(c1,c2,t)*H(t)) # ＣＣＺ演算子を定義します。\n",
    "def DOp(n): return (Qubit('0'*n)*QubitBra('0'*n)*2-_I(0))     # ゲート操作で計算するには、上記コメントのような演算になります。\n",
    "h_3 = hadamard(0,3)\n",
    "d_3 = h_3 * DOp(3) * h_3    # 平均値周りの反転操作\n",
    "# represent(d_3,nqubits=3)"
   ]
  },
  {
   "cell_type": "code",
   "execution_count": 16,
   "metadata": {
    "scrolled": true
   },
   "outputs": [
    {
     "name": "stdout",
     "output_type": "stream",
     "text": [
      "-0.25⋅❘000⟩ - 0.25⋅❘001⟩ + 0.25⋅❘010⟩ + 0.25⋅❘011⟩ + 0.25⋅❘100⟩ + 0.25⋅❘101⟩ -\n",
      " 0.25⋅❘110⟩ + 0.75⋅❘111⟩\n"
     ]
    },
    {
     "data": {
      "image/png": "[encoded data removed]",
      "text/latex": [
       "$$0.125 {\\left|000\\right\\rangle } + 0.125 {\\left|001\\right\\rangle } - 0.375 {\\left|010\\right\\rangle } - 0.375 {\\left|011\\right\\rangle } - 0.375 {\\left|100\\right\\rangle } - 0.375 {\\left|101\\right\\rangle } + 0.125 {\\left|110\\right\\rangle } + 0.624999999999999 {\\left|111\\right\\rangle }$$"
      ],
      "text/plain": [
       "0.125⋅❘000⟩ + 0.125⋅❘001⟩ - 0.375⋅❘010⟩ - 0.375⋅❘011⟩ - 0.375⋅❘100⟩ - 0.375⋅❘1\n",
       "01⟩ + 0.125⋅❘110⟩ + 0.624999999999999⋅❘111⟩"
      ]
     },
     "execution_count": 16,
     "metadata": {},
     "output_type": "execute_result"
    }
   ],
   "source": [
    "# | 111 > の検索する量子回路を作成する。\n",
    "\n",
    "\n",
    "mark_7 = CCZ(1,2,0)\n",
    "grover_7 = gate_simp(d_3*mark_7*d_3*mark_7)\n",
    "state1_7 = qapply(d_3*mark_7*init_state)\n",
    "pprint(state1_7)\n",
    "qapply(d_3*mark_7*state1_7)"
   ]
  },
  {
   "cell_type": "code",
   "execution_count": 17,
   "metadata": {
    "scrolled": true
   },
   "outputs": [
    {
     "name": "stdout",
     "output_type": "stream",
     "text": [
      "❘100⟩\n",
      "❘111⟩\n",
      "❘111⟩\n",
      "❘111⟩\n",
      "❘101⟩\n",
      "❘110⟩\n",
      "❘010⟩\n",
      "❘011⟩\n",
      "❘010⟩\n",
      "❘100⟩\n"
     ]
    }
   ],
   "source": [
    "# 上で作った量子回路を初期状態と作用させて measure_all_oneshot() で何回か試行して、結果をみる。\n",
    "\n",
    "\n",
    "for i in range(10):\n",
    "    pprint(measure_all_oneshot(qapply(grover_7*init_state)))"
   ]
  },
  {
   "cell_type": "markdown",
   "metadata": {},
   "source": [
    "**以降、【課題１】問１−２）の回答欄：**  "
   ]
  },
  {
   "cell_type": "code",
   "execution_count": 18,
   "metadata": {},
   "outputs": [
    {
     "name": "stdout",
     "output_type": "stream",
     "text": [
      "0.5⋅❘010⟩ + 0.5⋅❘011⟩ + 0.5⋅❘100⟩ + 0.5⋅❘101⟩\n"
     ]
    },
    {
     "data": {
      "image/png": "[encoded data removed]",
      "text/latex": [
       "$$0.25 {\\left|000\\right\\rangle } + 0.25 {\\left|001\\right\\rangle } - 0.25 {\\left|010\\right\\rangle } - 0.25 {\\left|011\\right\\rangle } - 0.25 {\\left|100\\right\\rangle } + 0.75 {\\left|101\\right\\rangle } + 0.25 {\\left|110\\right\\rangle } + 0.25 {\\left|111\\right\\rangle }$$"
      ],
      "text/plain": [
       "0.25⋅❘000⟩ + 0.25⋅❘001⟩ - 0.25⋅❘010⟩ - 0.25⋅❘011⟩ - 0.25⋅❘100⟩ + 0.75⋅❘101⟩ + \n",
       "0.25⋅❘110⟩ + 0.25⋅❘111⟩"
      ]
     },
     "execution_count": 18,
     "metadata": {},
     "output_type": "execute_result"
    }
   ],
   "source": [
    "# | 101 > の検索する量子回路を作成する。\n",
    "\n",
    "\n",
    "mark_5 = X(1)*CCZ(1,2,0)*X(1)\n",
    "grover_5 = gate_simp(d_3*mark_5*d_3*mark_5)\n",
    "state1_5 = qapply(d_3*mark_5*init_state)\n",
    "pprint(state1_5)\n",
    "qapply(d_3*mark_5*state1_5)"
   ]
  },
  {
   "cell_type": "code",
   "execution_count": 19,
   "metadata": {},
   "outputs": [
    {
     "data": {
      "image/png": "[encoded data removed]",
      "text/latex": [
       "$$\\left [ \\left ( {\\left|000\\right\\rangle }, \\quad 0.0624999999999999\\right ), \\quad \\left ( {\\left|001\\right\\rangle }, \\quad 0.0624999999999999\\right ), \\quad \\left ( {\\left|010\\right\\rangle }, \\quad 0.0625000000000002\\right ), \\quad \\left ( {\\left|011\\right\\rangle }, \\quad 0.0625000000000002\\right ), \\quad \\left ( {\\left|100\\right\\rangle }, \\quad 0.0625000000000002\\right ), \\quad \\left ( {\\left|101\\right\\rangle }, \\quad 0.5625\\right ), \\quad \\left ( {\\left|110\\right\\rangle }, \\quad 0.0624999999999999\\right ), \\quad \\left ( {\\left|111\\right\\rangle }, \\quad 0.0624999999999999\\right )\\right ]$$"
      ],
      "text/plain": [
       "[(❘000⟩, 0.0624999999999999), (❘001⟩, 0.0624999999999999), (❘010⟩, 0.062500000\n",
       "0000002), (❘011⟩, 0.0625000000000002), (❘100⟩, 0.0625000000000002), (❘101⟩, 0.\n",
       "5625), (❘110⟩, 0.0624999999999999), (❘111⟩, 0.0624999999999999)]"
      ]
     },
     "execution_count": 19,
     "metadata": {},
     "output_type": "execute_result"
    }
   ],
   "source": [
    "# 上で作った量子回路を初期状態と作用させて measure_all() でかく状態の確率をみて、考察する。\n",
    "\n",
    "\n",
    "measure_all(qapply(grover_5*init_state))"
   ]
  },
  {
   "cell_type": "markdown",
   "metadata": {},
   "source": [
    "**以降、【課題１】問２−１）の回答欄：**  "
   ]
  },
  {
   "cell_type": "code",
   "execution_count": 20,
   "metadata": {
    "scrolled": true
   },
   "outputs": [
    {
     "data": {
      "text/plain": [
       "<sympy.physics.quantum.circuitplot.CircuitPlot at 0x115596e10>"
      ]
     },
     "execution_count": 20,
     "metadata": {},
     "output_type": "execute_result"
    },
    {
     "data": {
      "image/png": "[encoded data removed]",
      "text/plain": [
       "<matplotlib.figure.Figure at 0x115a4f780>"
      ]
     },
     "metadata": {},
     "output_type": "display_data"
    }
   ],
   "source": [
    "# 問２の初期状態\n",
    "quest2_state = CNOT(2,1)*H(2)*X(2)*CNOT(2,1)*CNOT(2,0)*H(2)*X(2)*Qubit('000')\n",
    "CircuitPlot(quest2_state,nqubits=3)"
   ]
  },
  {
   "cell_type": "code",
   "execution_count": 21,
   "metadata": {},
   "outputs": [
    {
     "data": {
      "image/png": "[encoded data removed]",
      "text/latex": [
       "$$0.5 {\\left|000\\right\\rangle } - 0.5 {\\left|011\\right\\rangle } - 0.5 {\\left|101\\right\\rangle } - 0.5 {\\left|110\\right\\rangle }$$"
      ],
      "text/plain": [
       "0.5⋅❘000⟩ - 0.5⋅❘011⟩ - 0.5⋅❘101⟩ - 0.5⋅❘110⟩"
      ]
     },
     "execution_count": 21,
     "metadata": {},
     "output_type": "execute_result"
    }
   ],
   "source": [
    "# 問２の回答欄（１）\n",
    "\n",
    "\n",
    "init2_state = qapply(quest2_state)\n",
    "init2_state"
   ]
  },
  {
   "cell_type": "code",
   "execution_count": 22,
   "metadata": {},
   "outputs": [
    {
     "name": "stdout",
     "output_type": "stream",
     "text": [
      "❘000⟩\n",
      "❘000⟩\n",
      "❘011⟩\n",
      "❘011⟩\n",
      "❘111⟩\n",
      "❘111⟩\n",
      "❘100⟩\n",
      "❘000⟩\n",
      "❘011⟩\n",
      "❘011⟩\n"
     ]
    }
   ],
   "source": [
    "# 問２の回答欄（２）\n",
    "\n",
    "\n",
    "for i in range(10):\n",
    "    pprint(measure_all_oneshot(qapply(grover_7*init2_state)))"
   ]
  },
  {
   "cell_type": "code",
   "execution_count": 23,
   "metadata": {},
   "outputs": [
    {
     "data": {
      "image/png": "[encoded data removed]",
      "text/latex": [
       "$$\\left [ \\left ( {\\left|000\\right\\rangle }, \\quad 0.5625\\right ), \\quad \\left ( {\\left|001\\right\\rangle }, \\quad 0.0624999999999999\\right ), \\quad \\left ( {\\left|010\\right\\rangle }, \\quad 0.0624999999999999\\right ), \\quad \\left ( {\\left|011\\right\\rangle }, \\quad 0.0625000000000001\\right ), \\quad \\left ( {\\left|100\\right\\rangle }, \\quad 0.0624999999999999\\right ), \\quad \\left ( {\\left|101\\right\\rangle }, \\quad 0.0625000000000001\\right ), \\quad \\left ( {\\left|110\\right\\rangle }, \\quad 0.0625000000000001\\right ), \\quad \\left ( {\\left|111\\right\\rangle }, \\quad 0.0624999999999999\\right )\\right ]$$"
      ],
      "text/plain": [
       "[(❘000⟩, 0.5625), (❘001⟩, 0.0624999999999999), (❘010⟩, 0.0624999999999999), (❘\n",
       "011⟩, 0.0625000000000001), (❘100⟩, 0.0624999999999999), (❘101⟩, 0.062500000000\n",
       "0001), (❘110⟩, 0.0625000000000001), (❘111⟩, 0.0624999999999999)]"
      ]
     },
     "execution_count": 23,
     "metadata": {},
     "output_type": "execute_result"
    }
   ],
   "source": [
    "# 問２の回答欄（３）\n",
    "\n",
    "\n",
    "measure_all(qapply(grover_5*init2_state))"
   ]
  },
  {
   "cell_type": "markdown",
   "metadata": {},
   "source": [
    "## 【課題２】量子フーリエ変換\n",
    "<strong>\n",
    "問１）  \n",
    "１. ３量子ビットを対象にした、量子フーリエ変換を行います。  \n",
    "　|000>, |001>, ..., |110>, |111> の全ての状態のそれぞれの QFT の結果を出してください。    \n",
    "　   \n",
    "　　　ヒント）sympy.physics.quantum.qft の QFT 関数を使います。\n",
    "\n",
    "２. QFT(0,3) の量子回路図を CircuitPlot() で作図してください。\n",
    "　  \n",
    "　  \n",
    "問２）  \n",
    "１. ３量子ビットを対象にした、量子フーリエ変換を基本的な量子ゲートだけで表してください。  \n",
    "　  $\\sqrt{T}$ゲートである Rk(n,4) は利用してもよい。\n",
    "　  \n",
    "　・演算をテンソル積で表してください。  \n",
    "　・（この場合の量子回路図は、うまく描けません。）  \n",
    "　  \n",
    "　  \n",
    "</strong>"
   ]
  },
  {
   "cell_type": "markdown",
   "metadata": {},
   "source": [
    "**以降、【課題２】問１−１）の回答欄：**"
   ]
  },
  {
   "cell_type": "code",
   "execution_count": 24,
   "metadata": {
    "scrolled": true
   },
   "outputs": [
    {
     "data": {
      "image/png": "[encoded data removed]",
      "text/latex": [
       "$$\\left[\\begin{matrix}\\frac{\\sqrt{2}}{4} & \\frac{\\sqrt{2}}{4} & \\frac{\\sqrt{2}}{4} & \\frac{\\sqrt{2}}{4} & \\frac{\\sqrt{2}}{4} & \\frac{\\sqrt{2}}{4} & \\frac{\\sqrt{2}}{4} & \\frac{\\sqrt{2}}{4}\\\\\\frac{\\sqrt{2}}{4} & \\frac{\\sqrt{2}}{4} e^{\\frac{i \\pi}{4}} & \\frac{\\sqrt{2} i}{4} & \\frac{\\sqrt{2}}{4} e^{\\frac{3 \\pi}{4} i} & - \\frac{\\sqrt{2}}{4} & \\frac{\\sqrt{2}}{4} e^{\\frac{5 \\pi}{4} i} & - \\frac{\\sqrt{2} i}{4} & \\frac{\\sqrt{2}}{4} e^{\\frac{7 \\pi}{4} i}\\\\\\frac{\\sqrt{2}}{4} & \\frac{\\sqrt{2} i}{4} & - \\frac{\\sqrt{2}}{4} & - \\frac{\\sqrt{2} i}{4} & \\frac{\\sqrt{2}}{4} & \\frac{\\sqrt{2} i}{4} & - \\frac{\\sqrt{2}}{4} & - \\frac{\\sqrt{2} i}{4}\\\\\\frac{\\sqrt{2}}{4} & \\frac{\\sqrt{2}}{4} e^{\\frac{3 \\pi}{4} i} & - \\frac{\\sqrt{2} i}{4} & \\frac{\\sqrt{2}}{4} e^{\\frac{i \\pi}{4}} & - \\frac{\\sqrt{2}}{4} & \\frac{\\sqrt{2}}{4} e^{\\frac{7 \\pi}{4} i} & \\frac{\\sqrt{2} i}{4} & \\frac{\\sqrt{2}}{4} e^{\\frac{5 \\pi}{4} i}\\\\\\frac{\\sqrt{2}}{4} & - \\frac{\\sqrt{2}}{4} & \\frac{\\sqrt{2}}{4} & - \\frac{\\sqrt{2}}{4} & \\frac{\\sqrt{2}}{4} & - \\frac{\\sqrt{2}}{4} & \\frac{\\sqrt{2}}{4} & - \\frac{\\sqrt{2}}{4}\\\\\\frac{\\sqrt{2}}{4} & \\frac{\\sqrt{2}}{4} e^{\\frac{5 \\pi}{4} i} & \\frac{\\sqrt{2} i}{4} & \\frac{\\sqrt{2}}{4} e^{\\frac{7 \\pi}{4} i} & - \\frac{\\sqrt{2}}{4} & \\frac{\\sqrt{2}}{4} e^{\\frac{i \\pi}{4}} & - \\frac{\\sqrt{2} i}{4} & \\frac{\\sqrt{2}}{4} e^{\\frac{3 \\pi}{4} i}\\\\\\frac{\\sqrt{2}}{4} & - \\frac{\\sqrt{2} i}{4} & - \\frac{\\sqrt{2}}{4} & \\frac{\\sqrt{2} i}{4} & \\frac{\\sqrt{2}}{4} & - \\frac{\\sqrt{2} i}{4} & - \\frac{\\sqrt{2}}{4} & \\frac{\\sqrt{2} i}{4}\\\\\\frac{\\sqrt{2}}{4} & \\frac{\\sqrt{2}}{4} e^{\\frac{7 \\pi}{4} i} & - \\frac{\\sqrt{2} i}{4} & \\frac{\\sqrt{2}}{4} e^{\\frac{5 \\pi}{4} i} & - \\frac{\\sqrt{2}}{4} & \\frac{\\sqrt{2}}{4} e^{\\frac{3 \\pi}{4} i} & \\frac{\\sqrt{2} i}{4} & \\frac{\\sqrt{2}}{4} e^{\\frac{i \\pi}{4}}\\end{matrix}\\right]$$"
      ],
      "text/plain": [
       "⎡√2     √2        √2       √2       √2      √2        √2       √2    ⎤\n",
       "⎢──     ──        ──       ──       ──      ──        ──       ──    ⎥\n",
       "⎢4      4         4        4        4       4         4        4     ⎥\n",
       "⎢                                                                    ⎥\n",
       "⎢         ⅈ⋅π               3⋅ⅈ⋅π            5⋅ⅈ⋅π              7⋅ⅈ⋅π⎥\n",
       "⎢         ───               ─────            ─────              ─────⎥\n",
       "⎢          4                  4                4                  4  ⎥\n",
       "⎢√2   √2⋅ℯ       √2⋅ⅈ   √2⋅ℯ       -√2   √2⋅ℯ       -√2⋅ⅈ   √2⋅ℯ     ⎥\n",
       "⎢──   ───────    ────   ─────────  ────  ─────────  ──────  ─────────⎥\n",
       "⎢4       4        4         4       4        4        4         4    ⎥\n",
       "⎢                                                                    ⎥\n",
       "⎢√2    √2⋅ⅈ      -√2     -√2⋅ⅈ      √2     √2⋅ⅈ      -√2     -√2⋅ⅈ   ⎥\n",
       "⎢──    ────      ────    ──────     ──     ────      ────    ──────  ⎥\n",
       "⎢4      4         4        4        4       4         4        4     ⎥\n",
       "⎢                                                                    ⎥\n",
       "⎢        3⋅ⅈ⋅π               ⅈ⋅π             7⋅ⅈ⋅π              5⋅ⅈ⋅π⎥\n",
       "⎢        ─────               ───             ─────              ─────⎥\n",
       "⎢          4                  4                4                  4  ⎥\n",
       "⎢√2  √2⋅ℯ       -√2⋅ⅈ    √2⋅ℯ      -√2   √2⋅ℯ        √2⋅ⅈ   √2⋅ℯ     ⎥\n",
       "⎢──  ─────────  ──────   ───────   ────  ─────────   ────   ─────────⎥\n",
       "⎢4       4        4         4       4        4        4         4    ⎥\n",
       "⎢                                                                    ⎥\n",
       "⎢√2    -√2        √2      -√2       √2     -√2        √2      -√2    ⎥\n",
       "⎢──    ────       ──      ────      ──     ────       ──      ────   ⎥\n",
       "⎢4      4         4        4        4       4         4        4     ⎥\n",
       "⎢                                                                    ⎥\n",
       "⎢        5⋅ⅈ⋅π              7⋅ⅈ⋅π             ⅈ⋅π               3⋅ⅈ⋅π⎥\n",
       "⎢        ─────              ─────             ───               ─────⎥\n",
       "⎢          4                  4                4                  4  ⎥\n",
       "⎢√2  √2⋅ℯ        √2⋅ⅈ   √2⋅ℯ       -√2    √2⋅ℯ      -√2⋅ⅈ   √2⋅ℯ     ⎥\n",
       "⎢──  ─────────   ────   ─────────  ────   ───────   ──────  ─────────⎥\n",
       "⎢4       4        4         4       4        4        4         4    ⎥\n",
       "⎢                                                                    ⎥\n",
       "⎢√2   -√2⋅ⅈ      -√2      √2⋅ⅈ      √2    -√2⋅ⅈ      -√2      √2⋅ⅈ   ⎥\n",
       "⎢──   ──────     ────     ────      ──    ──────     ────     ────   ⎥\n",
       "⎢4      4         4        4        4       4         4        4     ⎥\n",
       "⎢                                                                    ⎥\n",
       "⎢        7⋅ⅈ⋅π              5⋅ⅈ⋅π            3⋅ⅈ⋅π               ⅈ⋅π ⎥\n",
       "⎢        ─────              ─────            ─────               ─── ⎥\n",
       "⎢          4                  4                4                  4  ⎥\n",
       "⎢√2  √2⋅ℯ       -√2⋅ⅈ   √2⋅ℯ       -√2   √2⋅ℯ        √2⋅ⅈ    √2⋅ℯ    ⎥\n",
       "⎢──  ─────────  ──────  ─────────  ────  ─────────   ────    ─────── ⎥\n",
       "⎣4       4        4         4       4        4        4         4    ⎦"
      ]
     },
     "execution_count": 24,
     "metadata": {},
     "output_type": "execute_result"
    }
   ],
   "source": [
    "## QFT(0,3) の行列表現を表示してください。\n",
    "\n",
    "\n",
    "qft3=QFT(0,3)\n",
    "represent(qft3,nqubits=3)"
   ]
  },
  {
   "cell_type": "code",
   "execution_count": 25,
   "metadata": {},
   "outputs": [
    {
     "data": {
      "image/png": "[encoded data removed]",
      "text/latex": [
       "$$0.353553390593274 {\\left|000\\right\\rangle } + 0.353553390593274 {\\left|001\\right\\rangle } + 0.353553390593274 {\\left|010\\right\\rangle } + 0.353553390593274 {\\left|011\\right\\rangle } + 0.353553390593274 {\\left|100\\right\\rangle } + 0.353553390593274 {\\left|101\\right\\rangle } + 0.353553390593274 {\\left|110\\right\\rangle } + 0.353553390593274 {\\left|111\\right\\rangle }$$"
      ],
      "text/plain": [
       "0.353553390593274⋅❘000⟩ + 0.353553390593274⋅❘001⟩ + 0.353553390593274⋅❘010⟩ + \n",
       "0.353553390593274⋅❘011⟩ + 0.353553390593274⋅❘100⟩ + 0.353553390593274⋅❘101⟩ + \n",
       "0.353553390593274⋅❘110⟩ + 0.353553390593274⋅❘111⟩"
      ]
     },
     "execution_count": 25,
     "metadata": {},
     "output_type": "execute_result"
    }
   ],
   "source": [
    "# |000> を量子フーリエ変換してください。\n",
    "\n",
    "\n",
    "qapply(qft3*Qubit('000'))"
   ]
  },
  {
   "cell_type": "code",
   "execution_count": 26,
   "metadata": {},
   "outputs": [
    {
     "data": {
      "image/png": "[encoded data removed]",
      "text/latex": [
       "$$0.353553390593274 {\\left|000\\right\\rangle } + 0.353553390593274 e^{\\frac{i \\pi}{4}} {\\left|001\\right\\rangle } + 0.353553390593274 i {\\left|010\\right\\rangle } + 0.353553390593274 i e^{\\frac{i \\pi}{4}} {\\left|011\\right\\rangle } - 0.353553390593274 {\\left|100\\right\\rangle } - 0.353553390593274 e^{\\frac{i \\pi}{4}} {\\left|101\\right\\rangle } - 0.353553390593274 i {\\left|110\\right\\rangle } - 0.353553390593274 i e^{\\frac{i \\pi}{4}} {\\left|111\\right\\rangle }$$"
      ],
      "text/plain": [
       "                                             ⅈ⋅π                              \n",
       "                                             ───                              \n",
       "                                              4                               \n",
       "0.353553390593274⋅❘000⟩ + 0.353553390593274⋅ℯ   ⋅❘001⟩ + 0.353553390593274⋅ⅈ⋅❘\n",
       "\n",
       "                            ⅈ⋅π                                               \n",
       "                            ───                                               \n",
       "                             4                                                \n",
       "010⟩ + 0.353553390593274⋅ⅈ⋅ℯ   ⋅❘011⟩ - 0.353553390593274⋅❘100⟩ - 0.3535533905\n",
       "\n",
       "       ⅈ⋅π                                                          ⅈ⋅π      \n",
       "       ───                                                          ───      \n",
       "        4                                                            4       \n",
       "93274⋅ℯ   ⋅❘101⟩ - 0.353553390593274⋅ⅈ⋅❘110⟩ - 0.353553390593274⋅ⅈ⋅ℯ   ⋅❘111⟩"
      ]
     },
     "execution_count": 26,
     "metadata": {},
     "output_type": "execute_result"
    }
   ],
   "source": [
    "# |001> を量子フーリエ変換してください。\n",
    "\n",
    "\n",
    "qapply(qft3*Qubit('001'))"
   ]
  },
  {
   "cell_type": "code",
   "execution_count": 27,
   "metadata": {},
   "outputs": [
    {
     "data": {
      "image/png": "[encoded data removed]",
      "text/latex": [
       "$$0.353553390593274 {\\left|000\\right\\rangle } + 0.353553390593274 i {\\left|001\\right\\rangle } - 0.353553390593274 {\\left|010\\right\\rangle } - 0.353553390593274 i {\\left|011\\right\\rangle } + 0.353553390593274 {\\left|100\\right\\rangle } + 0.353553390593274 i {\\left|101\\right\\rangle } - 0.353553390593274 {\\left|110\\right\\rangle } - 0.353553390593274 i {\\left|111\\right\\rangle }$$"
      ],
      "text/plain": [
       "0.353553390593274⋅❘000⟩ + 0.353553390593274⋅ⅈ⋅❘001⟩ - 0.353553390593274⋅❘010⟩ \n",
       "- 0.353553390593274⋅ⅈ⋅❘011⟩ + 0.353553390593274⋅❘100⟩ + 0.353553390593274⋅ⅈ⋅❘1\n",
       "01⟩ - 0.353553390593274⋅❘110⟩ - 0.353553390593274⋅ⅈ⋅❘111⟩"
      ]
     },
     "execution_count": 27,
     "metadata": {},
     "output_type": "execute_result"
    }
   ],
   "source": [
    "# |010> を量子フーリエ変換してください。\n",
    "\n",
    "\n",
    "qapply(qft3*Qubit('010'))"
   ]
  },
  {
   "cell_type": "code",
   "execution_count": 28,
   "metadata": {},
   "outputs": [
    {
     "data": {
      "image/png": "[encoded data removed]",
      "text/latex": [
       "$$0.353553390593274 {\\left|000\\right\\rangle } + 0.353553390593274 i e^{\\frac{i \\pi}{4}} {\\left|001\\right\\rangle } - 0.353553390593274 i {\\left|010\\right\\rangle } + 0.353553390593274 e^{\\frac{i \\pi}{4}} {\\left|011\\right\\rangle } - 0.353553390593274 {\\left|100\\right\\rangle } - 0.353553390593274 i e^{\\frac{i \\pi}{4}} {\\left|101\\right\\rangle } + 0.353553390593274 i {\\left|110\\right\\rangle } - 0.353553390593274 e^{\\frac{i \\pi}{4}} {\\left|111\\right\\rangle }$$"
      ],
      "text/plain": [
       "                                               ⅈ⋅π                            \n",
       "                                               ───                            \n",
       "                                                4                             \n",
       "0.353553390593274⋅❘000⟩ + 0.353553390593274⋅ⅈ⋅ℯ   ⋅❘001⟩ - 0.353553390593274⋅ⅈ\n",
       "\n",
       "                            ⅈ⋅π                                               \n",
       "                            ───                                               \n",
       "                             4                                                \n",
       "⋅❘010⟩ + 0.353553390593274⋅ℯ   ⋅❘011⟩ - 0.353553390593274⋅❘100⟩ - 0.3535533905\n",
       "\n",
       "         ⅈ⋅π                                                        ⅈ⋅π      \n",
       "         ───                                                        ───      \n",
       "          4                                                          4       \n",
       "93274⋅ⅈ⋅ℯ   ⋅❘101⟩ + 0.353553390593274⋅ⅈ⋅❘110⟩ - 0.353553390593274⋅ℯ   ⋅❘111⟩"
      ]
     },
     "execution_count": 28,
     "metadata": {},
     "output_type": "execute_result"
    }
   ],
   "source": [
    "# |011> を量子フーリエ変換してください。\n",
    "\n",
    "\n",
    "qapply(qft3*Qubit('011'))"
   ]
  },
  {
   "cell_type": "code",
   "execution_count": 29,
   "metadata": {},
   "outputs": [
    {
     "data": {
      "image/png": "[encoded data removed]",
      "text/latex": [
       "$$0.353553390593274 {\\left|000\\right\\rangle } - 0.353553390593274 {\\left|001\\right\\rangle } + 0.353553390593274 {\\left|010\\right\\rangle } - 0.353553390593274 {\\left|011\\right\\rangle } + 0.353553390593274 {\\left|100\\right\\rangle } - 0.353553390593274 {\\left|101\\right\\rangle } + 0.353553390593274 {\\left|110\\right\\rangle } - 0.353553390593274 {\\left|111\\right\\rangle }$$"
      ],
      "text/plain": [
       "0.353553390593274⋅❘000⟩ - 0.353553390593274⋅❘001⟩ + 0.353553390593274⋅❘010⟩ - \n",
       "0.353553390593274⋅❘011⟩ + 0.353553390593274⋅❘100⟩ - 0.353553390593274⋅❘101⟩ + \n",
       "0.353553390593274⋅❘110⟩ - 0.353553390593274⋅❘111⟩"
      ]
     },
     "execution_count": 29,
     "metadata": {},
     "output_type": "execute_result"
    }
   ],
   "source": [
    "# |100> を量子フーリエ変換してください。\n",
    "\n",
    "\n",
    "qapply(qft3*Qubit('100'))"
   ]
  },
  {
   "cell_type": "code",
   "execution_count": 30,
   "metadata": {},
   "outputs": [
    {
     "data": {
      "image/png": "[encoded data removed]",
      "text/latex": [
       "$$0.353553390593274 {\\left|000\\right\\rangle } - 0.353553390593274 e^{\\frac{i \\pi}{4}} {\\left|001\\right\\rangle } + 0.353553390593274 i {\\left|010\\right\\rangle } - 0.353553390593274 i e^{\\frac{i \\pi}{4}} {\\left|011\\right\\rangle } - 0.353553390593274 {\\left|100\\right\\rangle } + 0.353553390593274 e^{\\frac{i \\pi}{4}} {\\left|101\\right\\rangle } - 0.353553390593274 i {\\left|110\\right\\rangle } + 0.353553390593274 i e^{\\frac{i \\pi}{4}} {\\left|111\\right\\rangle }$$"
      ],
      "text/plain": [
       "                                             ⅈ⋅π                              \n",
       "                                             ───                              \n",
       "                                              4                               \n",
       "0.353553390593274⋅❘000⟩ - 0.353553390593274⋅ℯ   ⋅❘001⟩ + 0.353553390593274⋅ⅈ⋅❘\n",
       "\n",
       "                            ⅈ⋅π                                               \n",
       "                            ───                                               \n",
       "                             4                                                \n",
       "010⟩ - 0.353553390593274⋅ⅈ⋅ℯ   ⋅❘011⟩ - 0.353553390593274⋅❘100⟩ + 0.3535533905\n",
       "\n",
       "       ⅈ⋅π                                                          ⅈ⋅π      \n",
       "       ───                                                          ───      \n",
       "        4                                                            4       \n",
       "93274⋅ℯ   ⋅❘101⟩ - 0.353553390593274⋅ⅈ⋅❘110⟩ + 0.353553390593274⋅ⅈ⋅ℯ   ⋅❘111⟩"
      ]
     },
     "execution_count": 30,
     "metadata": {},
     "output_type": "execute_result"
    }
   ],
   "source": [
    "# |101> を量子フーリエ変換してください。\n",
    "\n",
    "\n",
    "qapply(qft3*Qubit('101'))"
   ]
  },
  {
   "cell_type": "code",
   "execution_count": 31,
   "metadata": {},
   "outputs": [
    {
     "data": {
      "image/png": "[encoded data removed]",
      "text/latex": [
       "$$0.353553390593274 {\\left|000\\right\\rangle } - 0.353553390593274 i {\\left|001\\right\\rangle } - 0.353553390593274 {\\left|010\\right\\rangle } + 0.353553390593274 i {\\left|011\\right\\rangle } + 0.353553390593274 {\\left|100\\right\\rangle } - 0.353553390593274 i {\\left|101\\right\\rangle } - 0.353553390593274 {\\left|110\\right\\rangle } + 0.353553390593274 i {\\left|111\\right\\rangle }$$"
      ],
      "text/plain": [
       "0.353553390593274⋅❘000⟩ - 0.353553390593274⋅ⅈ⋅❘001⟩ - 0.353553390593274⋅❘010⟩ \n",
       "+ 0.353553390593274⋅ⅈ⋅❘011⟩ + 0.353553390593274⋅❘100⟩ - 0.353553390593274⋅ⅈ⋅❘1\n",
       "01⟩ - 0.353553390593274⋅❘110⟩ + 0.353553390593274⋅ⅈ⋅❘111⟩"
      ]
     },
     "execution_count": 31,
     "metadata": {},
     "output_type": "execute_result"
    }
   ],
   "source": [
    "# |110> を量子フーリエ変換してください。\n",
    "\n",
    "\n",
    "qapply(qft3*Qubit('110'))"
   ]
  },
  {
   "cell_type": "code",
   "execution_count": 32,
   "metadata": {},
   "outputs": [
    {
     "data": {
      "image/png": "[encoded data removed]",
      "text/latex": [
       "$$0.353553390593274 {\\left|000\\right\\rangle } - 0.353553390593274 i e^{\\frac{i \\pi}{4}} {\\left|001\\right\\rangle } - 0.353553390593274 i {\\left|010\\right\\rangle } - 0.353553390593274 e^{\\frac{i \\pi}{4}} {\\left|011\\right\\rangle } - 0.353553390593274 {\\left|100\\right\\rangle } + 0.353553390593274 i e^{\\frac{i \\pi}{4}} {\\left|101\\right\\rangle } + 0.353553390593274 i {\\left|110\\right\\rangle } + 0.353553390593274 e^{\\frac{i \\pi}{4}} {\\left|111\\right\\rangle }$$"
      ],
      "text/plain": [
       "                                               ⅈ⋅π                            \n",
       "                                               ───                            \n",
       "                                                4                             \n",
       "0.353553390593274⋅❘000⟩ - 0.353553390593274⋅ⅈ⋅ℯ   ⋅❘001⟩ - 0.353553390593274⋅ⅈ\n",
       "\n",
       "                            ⅈ⋅π                                               \n",
       "                            ───                                               \n",
       "                             4                                                \n",
       "⋅❘010⟩ - 0.353553390593274⋅ℯ   ⋅❘011⟩ - 0.353553390593274⋅❘100⟩ + 0.3535533905\n",
       "\n",
       "         ⅈ⋅π                                                        ⅈ⋅π      \n",
       "         ───                                                        ───      \n",
       "          4                                                          4       \n",
       "93274⋅ⅈ⋅ℯ   ⋅❘101⟩ + 0.353553390593274⋅ⅈ⋅❘110⟩ + 0.353553390593274⋅ℯ   ⋅❘111⟩"
      ]
     },
     "execution_count": 32,
     "metadata": {},
     "output_type": "execute_result"
    }
   ],
   "source": [
    "# |111> を量子フーリエ変換してください。\n",
    "\n",
    "\n",
    "qapply(qft3*Qubit('111'))"
   ]
  },
  {
   "cell_type": "markdown",
   "metadata": {},
   "source": [
    "**以降、【課題２】問１−２）の回答欄：**"
   ]
  },
  {
   "cell_type": "code",
   "execution_count": 33,
   "metadata": {},
   "outputs": [
    {
     "data": {
      "image/png": "[encoded data removed]",
      "text/latex": [
       "$$SWAP_{0,2} H_{0} C_{0}{\\left(S_{1}\\right)} H_{1} C_{0}{\\left(T_{2}\\right)} C_{1}{\\left(S_{2}\\right)} H_{2}$$"
      ],
      "text/plain": [
       "SWAP   ⋅H ⋅C ⎛S ⎞⋅H ⋅C ⎛T ⎞⋅C ⎛S ⎞⋅H \n",
       "    0,2  0  0⎝ 1⎠  1  0⎝ 2⎠  1⎝ 2⎠  2"
      ]
     },
     "execution_count": 33,
     "metadata": {},
     "output_type": "execute_result"
    }
   ],
   "source": [
    "### QFT(0,3) は、SymPy ではひと塊りのまとまったオペレータとして定義されています。\n",
    "### 基本ゲートを知るためには、decompose() を使います。\n",
    "QFT(0,3).decompose()"
   ]
  },
  {
   "cell_type": "code",
   "execution_count": 34,
   "metadata": {},
   "outputs": [
    {
     "data": {
      "text/plain": [
       "<sympy.physics.quantum.circuitplot.CircuitPlot at 0x111120400>"
      ]
     },
     "execution_count": 34,
     "metadata": {},
     "output_type": "execute_result"
    },
    {
     "data": {
      "image/png": "[encoded data removed]",
      "text/plain": [
       "<matplotlib.figure.Figure at 0x111120588>"
      ]
     },
     "metadata": {},
     "output_type": "display_data"
    }
   ],
   "source": [
    "# QFT(0,3) の量子回路図を CircuitPlot() で作図してください。\n",
    "\n",
    "\n",
    "CircuitPlot(QFT(0,3).decompose(), nqubits=3)"
   ]
  },
  {
   "cell_type": "code",
   "execution_count": 35,
   "metadata": {},
   "outputs": [
    {
     "data": {
      "image/png": "[encoded data removed]",
      "text/latex": [
       "$$SWAP_{0,2} H_{0} C_{0}{\\left(S_{1}\\right)} H_{1} C_{0}{\\left(T_{2}\\right)} C_{1}{\\left(S_{2}\\right)} H_{2}$$"
      ],
      "text/plain": [
       "SWAP   ⋅H ⋅C ⎛S ⎞⋅H ⋅C ⎛T ⎞⋅C ⎛S ⎞⋅H \n",
       "    0,2  0  0⎝ 1⎠  1  0⎝ 2⎠  1⎝ 2⎠  2"
      ]
     },
     "execution_count": 35,
     "metadata": {},
     "output_type": "execute_result"
    }
   ],
   "source": [
    "# decompose() した上記の回路を改めて、定義しなおします。\n",
    "qft3_decomp = SWAP(0,2)*H(0)*CGateS((0,),S(1))*H(1)*CGateS((0,),T(2))*CGateS((1,),S(2))*H(2)\n",
    "qft3_decomp"
   ]
  },
  {
   "cell_type": "code",
   "execution_count": 36,
   "metadata": {},
   "outputs": [
    {
     "data": {
      "text/plain": [
       "<sympy.physics.quantum.circuitplot.CircuitPlot at 0x11a8e7470>"
      ]
     },
     "execution_count": 36,
     "metadata": {},
     "output_type": "execute_result"
    },
    {
     "data": {
      "image/png": "[encoded data removed]",
      "text/plain": [
       "<matplotlib.figure.Figure at 0x11a7e8a58>"
      ]
     },
     "metadata": {},
     "output_type": "display_data"
    }
   ],
   "source": [
    "# 上記で定義しなおした QFT の量子回路図を CircuitPlot() で作図します。\n",
    "# QFT(0,3).decompose() の量子回路図と比較してください。\n",
    "CircuitPlot(qft3_decomp,nqubits=3)"
   ]
  },
  {
   "cell_type": "markdown",
   "metadata": {},
   "source": [
    "**以降、【課題２】問２−１）の解答欄：**  \n",
    "（ヒント）$c_{g}$ をグローバル位相として、Z軸回転\n",
    "$ R_{z\\theta} = c_{g} X \\cdot R_{z\\theta/2}^{\\dagger} \\cdot X \\cdot R_{z\\theta/2} $\n",
    "と表せることを使います。"
   ]
  },
  {
   "cell_type": "code",
   "execution_count": 37,
   "metadata": {
    "scrolled": true
   },
   "outputs": [
    {
     "name": "stdout",
     "output_type": "stream",
     "text": [
      "⎡1  0⎤\n",
      "⎢    ⎥\n",
      "⎣0  ⅈ⎦\n"
     ]
    },
    {
     "data": {
      "image/png": "[encoded data removed]",
      "text/latex": [
       "$$\\left[\\begin{matrix}1 & 0\\\\0 & i\\end{matrix}\\right]$$"
      ],
      "text/plain": [
       "⎡1  0⎤\n",
       "⎢    ⎥\n",
       "⎣0  ⅈ⎦"
      ]
     },
     "execution_count": 37,
     "metadata": {},
     "output_type": "execute_result"
    }
   ],
   "source": [
    "# S = c・X・T†・X・T であることを示します。\n",
    "pprint(represent(S(0),nqubits=1))\n",
    "represent(exp(I*pi/4)*X(0)*T(0)**(-1)*X(0)*T(0),nqubits=1)"
   ]
  },
  {
   "cell_type": "code",
   "execution_count": 38,
   "metadata": {},
   "outputs": [
    {
     "name": "stdout",
     "output_type": "stream",
     "text": [
      "⎡1   0  ⎤\n",
      "⎢       ⎥\n",
      "⎢    ⅈ⋅π⎥\n",
      "⎢    ───⎥\n",
      "⎢     4 ⎥\n",
      "⎣0  ℯ   ⎦\n"
     ]
    },
    {
     "data": {
      "image/png": "[encoded data removed]",
      "text/latex": [
       "$$\\left[\\begin{matrix}1 & 0\\\\0 & e^{\\frac{i \\pi}{4}}\\end{matrix}\\right]$$"
      ],
      "text/plain": [
       "⎡1   0  ⎤\n",
       "⎢       ⎥\n",
       "⎢    ⅈ⋅π⎥\n",
       "⎢    ───⎥\n",
       "⎢     4 ⎥\n",
       "⎣0  ℯ   ⎦"
      ]
     },
     "execution_count": 38,
     "metadata": {},
     "output_type": "execute_result"
    }
   ],
   "source": [
    "# T = c・X・sqrt(T)†・X・sqrt(T) であることを示します。\n",
    "pprint(represent(T(0),nqubits=1))\n",
    "represent(exp(I*pi/8)*X(0)*Rk(0,4)**(-1)*X(0)*Rk(0,4),nqubits=1)"
   ]
  },
  {
   "cell_type": "code",
   "execution_count": 39,
   "metadata": {},
   "outputs": [
    {
     "data": {
      "image/png": "[encoded data removed]",
      "text/latex": [
       "$$SWAP_{0,2} H_{0} CNOT_{0,1} T_{1}^{-1} CNOT_{0,1} T_{1} H_{1} C_{0}{\\left(T_{2}\\right)} CNOT_{1,2} T_{2}^{-1} CNOT_{1,2} T_{2} H_{2}$$"
      ],
      "text/plain": [
       "                       -1                                  -1              \n",
       "SWAP   ⋅H ⋅CNOT   ⋅⎛T ⎞  ⋅CNOT   ⋅T ⋅H ⋅C ⎛T ⎞⋅CNOT   ⋅⎛T ⎞  ⋅CNOT   ⋅T ⋅H \n",
       "    0,2  0     0,1 ⎝ 1⎠       0,1  1  1  0⎝ 2⎠     1,2 ⎝ 2⎠       1,2  2  2"
      ]
     },
     "execution_count": 39,
     "metadata": {},
     "output_type": "execute_result"
    }
   ],
   "source": [
    "# qft3_decomp = SWAP(0,2)*H(0)*CGateS((0,),S(1))*H(1)*CGateS((0,),T(2))*CGateS((1,),S(2))*H(2)\n",
    "# qft3_decomp を見ながら、制御Ｓゲートを置き換えて、qft3_decomp2 へ代入します。\n",
    "\n",
    "\n",
    "qft3_decomp2 = SWAP(0,2)*H(0)*CNOT(0,1)*T(1)**(-1)*CNOT(0,1)*T(1)*H(1)*CGateS((0,),T(2))*CNOT(1,2)*T(2)**(-1)*CNOT(1,2)*T(2)*H(2)\n",
    "qft3_decomp2"
   ]
  },
  {
   "cell_type": "code",
   "execution_count": 40,
   "metadata": {},
   "outputs": [
    {
     "data": {
      "image/png": "[encoded data removed]",
      "text/latex": [
       "$$SWAP_{0,2} H_{0} CNOT_{0,1} T_{1}^{-1} CNOT_{0,1} T_{1} H_{1} CNOT_{0,2} R_{2,4}^{-1} CNOT_{0,2} R_{2,4} CNOT_{1,2} T_{2}^{-1} CNOT_{1,2} T_{2} H_{2}$$"
      ],
      "text/plain": [
       "                       -1                              -1                     \n",
       "SWAP   ⋅H ⋅CNOT   ⋅⎛T ⎞  ⋅CNOT   ⋅T ⋅H ⋅CNOT   ⋅⎛Rk   ⎞  ⋅CNOT   ⋅Rk   ⋅CNOT  \n",
       "    0,2  0     0,1 ⎝ 1⎠       0,1  1  1     0,2 ⎝  2,4⎠       0,2   2,4     1,\n",
       "\n",
       "      -1              \n",
       " ⋅⎛T ⎞  ⋅CNOT   ⋅T ⋅H \n",
       "2 ⎝ 2⎠       1,2  2  2"
      ]
     },
     "execution_count": 40,
     "metadata": {},
     "output_type": "execute_result"
    }
   ],
   "source": [
    "# qft3_decomp2 = SWAP(0,2)*H(0)*CNOT(0,1)*T(1)**(-1)*CNOT(0,1)*T(1)*H(1)*CGateS((0,),T(2))*CNOT(1,2)*T(2)**(-1)*CNOT(1,2)*T(2)*H(2)\n",
    "# qft3_decomp を見ながら、制御Ｔゲートを置き換えて、qft3_decomp3 へ代入します。\n",
    "\n",
    "qft3_decomp3 = SWAP(0,2)*H(0)*CNOT(0,1)*T(1)**(-1)*CNOT(0,1)*T(1)*H(1)*CNOT(0,2)*Rk(2,4)**(-1)*CNOT(0,2)*Rk(2,4)*CNOT(1,2)*T(2)**(-1)*CNOT(1,2)*T(2)*H(2)\n",
    "qft3_decomp3"
   ]
  },
  {
   "cell_type": "code",
   "execution_count": 41,
   "metadata": {},
   "outputs": [
    {
     "data": {
      "image/png": "[encoded data removed]",
      "text/latex": [
       "$$\\left[\\begin{matrix}0.353553390593274 & 0.353553390593274 & 0.353553390593274 & 0.353553390593274 & 0.353553390593274 & 0.353553390593274 & 0.353553390593274 & 0.353553390593274\\end{matrix}\\right]$$"
      ],
      "text/plain": [
       "[0.353553390593274  0.353553390593274  0.353553390593274  0.353553390593274  0\n",
       ".353553390593274  0.353553390593274  0.353553390593274  0.353553390593274]"
      ]
     },
     "execution_count": 41,
     "metadata": {},
     "output_type": "execute_result"
    }
   ],
   "source": [
    "# |000> の量子フーリエ変換の結果をみます。\n",
    "### ゲート操作が少し複雑になるため、SymPyがうまく判断できません。\n",
    "### represent()で計算します。解答例では、結果が縦ベクトルで行数が長くなるのを嫌い、transpose()します。\n",
    "\n",
    "# （解答例）transpose(represent(qft3_decomp2*Qubit('000'), nqubits=3))\n",
    "\n",
    "\n",
    "transpose(represent(qft3_decomp2*Qubit('000'), nqubits=3))"
   ]
  },
  {
   "cell_type": "code",
   "execution_count": 42,
   "metadata": {},
   "outputs": [
    {
     "data": {
      "image/png": "[encoded data removed]",
      "text/latex": [
       "$$\\left[\\begin{matrix}0.353553390593274 & 0.353553390593274 e^{\\frac{i \\pi}{4}} & 0.353553390593274 i & 0.353553390593274 i e^{\\frac{i \\pi}{4}} & -0.353553390593274 & - 0.353553390593274 e^{\\frac{i \\pi}{4}} & - 0.353553390593274 i & - 0.353553390593274 i e^{\\frac{i \\pi}{4}}\\end{matrix}\\right]$$"
      ],
      "text/plain": [
       "⎡                                      ⅈ⋅π                                    \n",
       "⎢                                      ───                                    \n",
       "⎢                                       4                                     \n",
       "⎣0.353553390593274  0.353553390593274⋅ℯ     0.353553390593274⋅ⅈ  0.35355339059\n",
       "\n",
       "        ⅈ⋅π                                          ⅈ⋅π                      \n",
       "        ───                                          ───                      \n",
       "         4                                            4                       \n",
       "3274⋅ⅈ⋅ℯ     -0.353553390593274  -0.353553390593274⋅ℯ     -0.353553390593274⋅ⅈ\n",
       "\n",
       "                        ⅈ⋅π⎤\n",
       "                        ───⎥\n",
       "                         4 ⎥\n",
       "  -0.353553390593274⋅ⅈ⋅ℯ   ⎦"
      ]
     },
     "execution_count": 42,
     "metadata": {},
     "output_type": "execute_result"
    }
   ],
   "source": [
    "# |001> の量子フーリエ変換の結果をみます。\n",
    "### グローバル位相 exp(I*pi/4) をかけると同じになります。\n",
    "\n",
    "\n",
    "exp(I*pi/4)*transpose(represent(qft3_decomp2*Qubit('001'), nqubits=3))"
   ]
  },
  {
   "cell_type": "code",
   "execution_count": 43,
   "metadata": {
    "scrolled": true
   },
   "outputs": [
    {
     "data": {
      "image/png": "[encoded data removed]",
      "text/latex": [
       "$$\\left[\\begin{matrix}0.353553390593274 & 0.353553390593274 i & -0.353553390593274 & - 0.353553390593274 i & 0.353553390593274 & 0.353553390593274 i & -0.353553390593274 & - 0.353553390593274 i\\end{matrix}\\right]$$"
      ],
      "text/plain": [
       "[0.353553390593274  0.353553390593274⋅ⅈ  -0.353553390593274  -0.35355339059327\n",
       "4⋅ⅈ  0.353553390593274  0.353553390593274⋅ⅈ  -0.353553390593274  -0.3535533905\n",
       "93274⋅ⅈ]"
      ]
     },
     "execution_count": 43,
     "metadata": {},
     "output_type": "execute_result"
    }
   ],
   "source": [
    "# |010> の量子フーリエ変換の結果をみます。\n",
    "### グローバル位相 exp(I*pi/4) をかけると同じになります。\n",
    "\n",
    "\n",
    "exp(I*pi/4)*transpose(represent(qft3_decomp2*Qubit('010'), nqubits=3))"
   ]
  },
  {
   "cell_type": "code",
   "execution_count": 44,
   "metadata": {},
   "outputs": [
    {
     "data": {
      "image/png": "[encoded data removed]",
      "text/latex": [
       "$$\\left[\\begin{matrix}0.353553390593274 & - 0.353553390593274 e^{- \\frac{i \\pi}{4}} & - 0.353553390593274 i & 0.353553390593274 e^{\\frac{i \\pi}{4}} & -0.353553390593274 & 0.353553390593274 e^{- \\frac{i \\pi}{4}} & 0.353553390593274 i & - 0.353553390593274 e^{\\frac{i \\pi}{4}}\\end{matrix}\\right]$$"
      ],
      "text/plain": [
       "⎡                                       -ⅈ⋅π                                  \n",
       "⎢                                       ─────                                 \n",
       "⎢                                         4                                   \n",
       "⎣0.353553390593274  -0.353553390593274⋅ℯ       -0.353553390593274⋅ⅈ  0.3535533\n",
       "\n",
       "          ⅈ⋅π                                         -ⅈ⋅π                    \n",
       "          ───                                         ─────                   \n",
       "           4                                            4                     \n",
       "90593274⋅ℯ     -0.353553390593274  0.353553390593274⋅ℯ       0.353553390593274\n",
       "\n",
       "                        ⅈ⋅π⎤\n",
       "                        ───⎥\n",
       "                         4 ⎥\n",
       "⋅ⅈ  -0.353553390593274⋅ℯ   ⎦"
      ]
     },
     "execution_count": 44,
     "metadata": {},
     "output_type": "execute_result"
    }
   ],
   "source": [
    "# |011> の量子フーリエ変換の結果をみます。\n",
    "### グローバル位相 exp(I*pi/2) をかけると同じになります。\n",
    "\n",
    "\n",
    "exp(I*pi/2)*transpose(represent(qft3_decomp2*Qubit('011'), nqubits=3))"
   ]
  },
  {
   "cell_type": "code",
   "execution_count": 45,
   "metadata": {},
   "outputs": [
    {
     "data": {
      "image/png": "[encoded data removed]",
      "text/latex": [
       "$$\\left[\\begin{matrix}0.353553390593274 & -0.353553390593274 & 0.353553390593274 & -0.353553390593274 & 0.353553390593274 & -0.353553390593274 & 0.353553390593274 & -0.353553390593274\\end{matrix}\\right]$$"
      ],
      "text/plain": [
       "[0.353553390593274  -0.353553390593274  0.353553390593274  -0.353553390593274 \n",
       " 0.353553390593274  -0.353553390593274  0.353553390593274  -0.353553390593274]"
      ]
     },
     "execution_count": 45,
     "metadata": {},
     "output_type": "execute_result"
    }
   ],
   "source": [
    "# |100> の量子フーリエ変換の結果をみます。\n",
    "\n",
    "\n",
    "transpose(represent(qft3_decomp2*Qubit('100'), nqubits=3))"
   ]
  },
  {
   "cell_type": "code",
   "execution_count": 46,
   "metadata": {},
   "outputs": [
    {
     "data": {
      "image/png": "[encoded data removed]",
      "text/latex": [
       "$$\\left[\\begin{matrix}0.353553390593274 & - 0.353553390593274 e^{\\frac{i \\pi}{4}} & 0.353553390593274 i & - 0.353553390593274 i e^{\\frac{i \\pi}{4}} & -0.353553390593274 & 0.353553390593274 e^{\\frac{i \\pi}{4}} & - 0.353553390593274 i & 0.353553390593274 i e^{\\frac{i \\pi}{4}}\\end{matrix}\\right]$$"
      ],
      "text/plain": [
       "⎡                                       ⅈ⋅π                                   \n",
       "⎢                                       ───                                   \n",
       "⎢                                        4                                    \n",
       "⎣0.353553390593274  -0.353553390593274⋅ℯ     0.353553390593274⋅ⅈ  -0.353553390\n",
       "\n",
       "          ⅈ⋅π                                         ⅈ⋅π                     \n",
       "          ───                                         ───                     \n",
       "           4                                           4                      \n",
       "593274⋅ⅈ⋅ℯ     -0.353553390593274  0.353553390593274⋅ℯ     -0.353553390593274⋅\n",
       "\n",
       "                        ⅈ⋅π⎤\n",
       "                        ───⎥\n",
       "                         4 ⎥\n",
       "ⅈ  0.353553390593274⋅ⅈ⋅ℯ   ⎦"
      ]
     },
     "execution_count": 46,
     "metadata": {},
     "output_type": "execute_result"
    }
   ],
   "source": [
    "# |101> の量子フーリエ変換の結果をみます。\n",
    "### グローバル位相 exp(I*pi/4) をかけると同じになります。\n",
    "\n",
    "\n",
    "exp(I*pi/4)*transpose(represent(qft3_decomp2*Qubit('101'), nqubits=3))"
   ]
  },
  {
   "cell_type": "code",
   "execution_count": 47,
   "metadata": {},
   "outputs": [
    {
     "data": {
      "image/png": "[encoded data removed]",
      "text/latex": [
       "$$\\left[\\begin{matrix}0.353553390593274 & - 0.353553390593274 i & -0.353553390593274 & 0.353553390593274 i & 0.353553390593274 & - 0.353553390593274 i & -0.353553390593274 & 0.353553390593274 i\\end{matrix}\\right]$$"
      ],
      "text/plain": [
       "[0.353553390593274  -0.353553390593274⋅ⅈ  -0.353553390593274  0.35355339059327\n",
       "4⋅ⅈ  0.353553390593274  -0.353553390593274⋅ⅈ  -0.353553390593274  0.3535533905\n",
       "93274⋅ⅈ]"
      ]
     },
     "execution_count": 47,
     "metadata": {},
     "output_type": "execute_result"
    }
   ],
   "source": [
    "# |110> の量子フーリエ変換の結果をみます。\n",
    "### グローバル位相 exp(I*pi/4) をかけると同じになります。\n",
    "\n",
    "\n",
    "exp(I*pi/4)*transpose(represent(qft3_decomp2*Qubit('110'), nqubits=3))"
   ]
  },
  {
   "cell_type": "code",
   "execution_count": 48,
   "metadata": {},
   "outputs": [
    {
     "data": {
      "image/png": "[encoded data removed]",
      "text/latex": [
       "$$\\left[\\begin{matrix}0.353553390593274 & 0.353553390593274 e^{- \\frac{i \\pi}{4}} & - 0.353553390593274 i & - 0.353553390593274 e^{\\frac{i \\pi}{4}} & -0.353553390593274 & - 0.353553390593274 e^{- \\frac{i \\pi}{4}} & 0.353553390593274 i & 0.353553390593274 e^{\\frac{i \\pi}{4}}\\end{matrix}\\right]$$"
      ],
      "text/plain": [
       "⎡                                      -ⅈ⋅π                                   \n",
       "⎢                                      ─────                                  \n",
       "⎢                                        4                                    \n",
       "⎣0.353553390593274  0.353553390593274⋅ℯ       -0.353553390593274⋅ⅈ  -0.3535533\n",
       "\n",
       "          ⅈ⋅π                                          -ⅈ⋅π                   \n",
       "          ───                                          ─────                  \n",
       "           4                                             4                    \n",
       "90593274⋅ℯ     -0.353553390593274  -0.353553390593274⋅ℯ       0.35355339059327\n",
       "\n",
       "                        ⅈ⋅π⎤\n",
       "                        ───⎥\n",
       "                         4 ⎥\n",
       "4⋅ⅈ  0.353553390593274⋅ℯ   ⎦"
      ]
     },
     "execution_count": 48,
     "metadata": {},
     "output_type": "execute_result"
    }
   ],
   "source": [
    "# |111> の量子フーリエ変換の結果をみます。\n",
    "### グローバル位相 exp(I*pi/2) をかけると同じになります。\n",
    "\n",
    "\n",
    "exp(I*pi/2)*transpose(represent(qft3_decomp2*Qubit('111'), nqubits=3))"
   ]
  },
  {
   "cell_type": "code",
   "execution_count": null,
   "metadata": {
    "collapsed": true
   },
   "outputs": [],
   "source": []
  }
 ],
 "metadata": {
  "kernelspec": {
   "display_name": "Python 3",
   "language": "python",
   "name": "python3"
  },
  "language_info": {
   "codemirror_mode": {
    "name": "ipython",
    "version": 3
   },
   "file_extension": ".py",
   "mimetype": "text/x-python",
   "name": "python",
   "nbconvert_exporter": "python",
   "pygments_lexer": "ipython3",
   "version": "3.6.3"
  }
 },
 "nbformat": 4,
 "nbformat_minor": 2
}

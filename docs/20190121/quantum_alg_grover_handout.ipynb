{
 "cells": [
  {
   "cell_type": "markdown",
   "metadata": {
    "collapsed": true
   },
   "source": [
    "### 0必要なライブラリをインポートする"
   ]
  },
  {
   "cell_type": "code",
   "execution_count": 46,
   "metadata": {},
   "outputs": [],
   "source": [
    "from sympy import *\n",
    "from sympy.physics.quantum import *\n",
    "from sympy.physics.quantum.qubit import Qubit,QubitBra\n",
    "from sympy.physics.quantum.qubit import measure_all, measure_all_oneshot\n",
    "from sympy.physics.quantum.gate import X,Y,Z,H,S,T,CNOT,SWAP, CGateS\n",
    "from sympy.physics.quantum.gate import IdentityGate as _I"
   ]
  },
  {
   "cell_type": "markdown",
   "metadata": {},
   "source": [
    "↓SymPy で良い感じに表示するためのおまじない"
   ]
  },
  {
   "cell_type": "code",
   "execution_count": 10,
   "metadata": {},
   "outputs": [],
   "source": [
    "# !pip install graphviz\n",
    "from sympy.printing.dot import dotprint\n",
    "from graphviz import Source\n",
    "init_printing()"
   ]
  },
  {
   "cell_type": "code",
   "execution_count": 11,
   "metadata": {},
   "outputs": [],
   "source": [
    "%matplotlib inline\n",
    "import matplotlib.pyplot as plt\n",
    "from sympy.physics.quantum.circuitplot import CircuitPlot,labeller, Mz,CreateOneQubitGate"
   ]
  },
  {
   "cell_type": "markdown",
   "metadata": {},
   "source": [
    "## 重ね合わせ状態の中の、ある状態のみマーキングする\n",
    "\n",
    "重ね合わせ状態の中の、ある状態 $ s_t $ のみに、−１掛ける操作（ここでは、マーキングを呼びます）を考えます。  \n",
    "  \n",
    "たとえば、２量子ビットの重ね合わせ状態 $\\displaystyle \\frac{1}{2} \\left(\\ |\\ 00\\ \\rangle\\ +\\ |\\ 01\\ \\rangle\\ +\\ |\\ 10\\ \\rangle\\ +\\ |\\ 11\\ \\rangle\\ \\right) $ を考えるとき、  \n",
    "状態 $\\;|\\ 10\\ \\rangle\\;$ をマーキングするとします。   \n",
    "  \n",
    "マーキング後の状態は、$\\displaystyle  \\frac{1}{2} \\left(\\ |\\ 00\\ \\rangle\\ +\\ |\\ 01\\ \\rangle\\ -\\ |\\ 10\\ \\rangle\\ +\\ |\\ 11\\ \\rangle\\ \\right) $ となることを目指します。"
   ]
  },
  {
   "cell_type": "markdown",
   "metadata": {},
   "source": [
    "### ３量子ビットのマーキング操作を試してみましょう"
   ]
  },
  {
   "cell_type": "code",
   "execution_count": 25,
   "metadata": {},
   "outputs": [],
   "source": [
    "def hadamard(s,n):\n",
    "    h = H(s)\n",
    "    for i in range(s+1,n+s):\n",
    "       h = H(i)*h\n",
    "    return h\n",
    "def CCX(c1,c2,t):  return CGateS((c1,c2),X(t))"
   ]
  },
  {
   "cell_type": "code",
   "execution_count": 26,
   "metadata": {},
   "outputs": [],
   "source": [
    "h_3 = hadamard(0,3)\n",
    "target_state_3 = qapply(h_3*Qubit('000'))          #３量子ビットの重ね合わせ状態を準備します。\n",
    "def CCZ(c1,c2,t): return (H(t)*CCX(c1,c2,t)*H(t)) # ＣＣＺ演算子を定義します。"
   ]
  },
  {
   "cell_type": "code",
   "execution_count": 27,
   "metadata": {},
   "outputs": [
    {
     "data": {
      "image/png": "[encoded data removed]",
      "text/latex": [
       "$$\\frac{\\sqrt{2} {\\left|000\\right\\rangle }}{4} + \\frac{\\sqrt{2} {\\left|001\\right\\rangle }}{4} + \\frac{\\sqrt{2} {\\left|010\\right\\rangle }}{4} + \\frac{\\sqrt{2} {\\left|011\\right\\rangle }}{4} + \\frac{\\sqrt{2} {\\left|100\\right\\rangle }}{4} + \\frac{\\sqrt{2} {\\left|101\\right\\rangle }}{4} + \\frac{\\sqrt{2} {\\left|110\\right\\rangle }}{4} - \\frac{\\sqrt{2} {\\left|111\\right\\rangle }}{4}$$"
      ],
      "text/plain": [
       "√2⋅❘000⟩   √2⋅❘001⟩   √2⋅❘010⟩   √2⋅❘011⟩   √2⋅❘100⟩   √2⋅❘101⟩   √2⋅❘110⟩   √\n",
       "──────── + ──────── + ──────── + ──────── + ──────── + ──────── + ──────── - ─\n",
       "   4          4          4          4          4          4          4        \n",
       "\n",
       "2⋅❘111⟩\n",
       "───────\n",
       "  4    "
      ]
     },
     "execution_count": 27,
     "metadata": {},
     "output_type": "execute_result"
    }
   ],
   "source": [
    "mark_7 = CCZ(1,2,0)\n",
    "qapply(mark_7*target_state_3)"
   ]
  },
  {
   "cell_type": "code",
   "execution_count": 28,
   "metadata": {},
   "outputs": [
    {
     "data": {
      "image/png": "[encoded data removed]",
      "text/latex": [
       "$$\\frac{\\sqrt{2} {\\left|000\\right\\rangle }}{4} + \\frac{\\sqrt{2} {\\left|001\\right\\rangle }}{4} + \\frac{\\sqrt{2} {\\left|010\\right\\rangle }}{4} + \\frac{\\sqrt{2} {\\left|011\\right\\rangle }}{4} + \\frac{\\sqrt{2} {\\left|100\\right\\rangle }}{4} + \\frac{\\sqrt{2} {\\left|101\\right\\rangle }}{4} - \\frac{\\sqrt{2} {\\left|110\\right\\rangle }}{4} + \\frac{\\sqrt{2} {\\left|111\\right\\rangle }}{4}$$"
      ],
      "text/plain": [
       "√2⋅❘000⟩   √2⋅❘001⟩   √2⋅❘010⟩   √2⋅❘011⟩   √2⋅❘100⟩   √2⋅❘101⟩   √2⋅❘110⟩   √\n",
       "──────── + ──────── + ──────── + ──────── + ──────── + ──────── - ──────── + ─\n",
       "   4          4          4          4          4          4          4        \n",
       "\n",
       "2⋅❘111⟩\n",
       "───────\n",
       "  4    "
      ]
     },
     "execution_count": 28,
     "metadata": {},
     "output_type": "execute_result"
    }
   ],
   "source": [
    "mark_6 = X(0)*CCZ(1,2,0)*X(0)\n",
    "qapply(mark_6*target_state_3)"
   ]
  },
  {
   "cell_type": "code",
   "execution_count": 29,
   "metadata": {},
   "outputs": [
    {
     "data": {
      "image/png": "[encoded data removed]",
      "text/latex": [
       "$$\\frac{\\sqrt{2} {\\left|000\\right\\rangle }}{4} + \\frac{\\sqrt{2} {\\left|001\\right\\rangle }}{4} + \\frac{\\sqrt{2} {\\left|010\\right\\rangle }}{4} + \\frac{\\sqrt{2} {\\left|011\\right\\rangle }}{4} + \\frac{\\sqrt{2} {\\left|100\\right\\rangle }}{4} - \\frac{\\sqrt{2} {\\left|101\\right\\rangle }}{4} + \\frac{\\sqrt{2} {\\left|110\\right\\rangle }}{4} + \\frac{\\sqrt{2} {\\left|111\\right\\rangle }}{4}$$"
      ],
      "text/plain": [
       "√2⋅❘000⟩   √2⋅❘001⟩   √2⋅❘010⟩   √2⋅❘011⟩   √2⋅❘100⟩   √2⋅❘101⟩   √2⋅❘110⟩   √\n",
       "──────── + ──────── + ──────── + ──────── + ──────── - ──────── + ──────── + ─\n",
       "   4          4          4          4          4          4          4        \n",
       "\n",
       "2⋅❘111⟩\n",
       "───────\n",
       "  4    "
      ]
     },
     "execution_count": 29,
     "metadata": {},
     "output_type": "execute_result"
    }
   ],
   "source": [
    "mark_5 = X(1)*CCZ(1,2,0)*X(1)\n",
    "qapply(mark_5*target_state_3)"
   ]
  },
  {
   "cell_type": "code",
   "execution_count": 30,
   "metadata": {},
   "outputs": [
    {
     "data": {
      "image/png": "[encoded data removed]",
      "text/latex": [
       "$$\\frac{\\sqrt{2} {\\left|000\\right\\rangle }}{4} + \\frac{\\sqrt{2} {\\left|001\\right\\rangle }}{4} + \\frac{\\sqrt{2} {\\left|010\\right\\rangle }}{4} + \\frac{\\sqrt{2} {\\left|011\\right\\rangle }}{4} - \\frac{\\sqrt{2} {\\left|100\\right\\rangle }}{4} + \\frac{\\sqrt{2} {\\left|101\\right\\rangle }}{4} + \\frac{\\sqrt{2} {\\left|110\\right\\rangle }}{4} + \\frac{\\sqrt{2} {\\left|111\\right\\rangle }}{4}$$"
      ],
      "text/plain": [
       "√2⋅❘000⟩   √2⋅❘001⟩   √2⋅❘010⟩   √2⋅❘011⟩   √2⋅❘100⟩   √2⋅❘101⟩   √2⋅❘110⟩   √\n",
       "──────── + ──────── + ──────── + ──────── - ──────── + ──────── + ──────── + ─\n",
       "   4          4          4          4          4          4          4        \n",
       "\n",
       "2⋅❘111⟩\n",
       "───────\n",
       "  4    "
      ]
     },
     "execution_count": 30,
     "metadata": {},
     "output_type": "execute_result"
    }
   ],
   "source": [
    "mark_4 = X(1)*X(0)*CCZ(1,2,0)*X(1)*X(0)\n",
    "qapply(mark_4*target_state_3)"
   ]
  },
  {
   "cell_type": "code",
   "execution_count": 31,
   "metadata": {},
   "outputs": [
    {
     "data": {
      "image/png": "[encoded data removed]",
      "text/latex": [
       "$$\\frac{\\sqrt{2} {\\left|000\\right\\rangle }}{4} + \\frac{\\sqrt{2} {\\left|001\\right\\rangle }}{4} + \\frac{\\sqrt{2} {\\left|010\\right\\rangle }}{4} - \\frac{\\sqrt{2} {\\left|011\\right\\rangle }}{4} + \\frac{\\sqrt{2} {\\left|100\\right\\rangle }}{4} + \\frac{\\sqrt{2} {\\left|101\\right\\rangle }}{4} + \\frac{\\sqrt{2} {\\left|110\\right\\rangle }}{4} + \\frac{\\sqrt{2} {\\left|111\\right\\rangle }}{4}$$"
      ],
      "text/plain": [
       "√2⋅❘000⟩   √2⋅❘001⟩   √2⋅❘010⟩   √2⋅❘011⟩   √2⋅❘100⟩   √2⋅❘101⟩   √2⋅❘110⟩   √\n",
       "──────── + ──────── + ──────── - ──────── + ──────── + ──────── + ──────── + ─\n",
       "   4          4          4          4          4          4          4        \n",
       "\n",
       "2⋅❘111⟩\n",
       "───────\n",
       "  4    "
      ]
     },
     "execution_count": 31,
     "metadata": {},
     "output_type": "execute_result"
    }
   ],
   "source": [
    "mark_3 = X(2)*CCZ(1,2,0)*X(2)\n",
    "qapply(mark_3*target_state_3)"
   ]
  },
  {
   "cell_type": "code",
   "execution_count": 32,
   "metadata": {},
   "outputs": [
    {
     "data": {
      "image/png": "[encoded data removed]",
      "text/latex": [
       "$$\\frac{\\sqrt{2} {\\left|000\\right\\rangle }}{4} + \\frac{\\sqrt{2} {\\left|001\\right\\rangle }}{4} - \\frac{\\sqrt{2} {\\left|010\\right\\rangle }}{4} + \\frac{\\sqrt{2} {\\left|011\\right\\rangle }}{4} + \\frac{\\sqrt{2} {\\left|100\\right\\rangle }}{4} + \\frac{\\sqrt{2} {\\left|101\\right\\rangle }}{4} + \\frac{\\sqrt{2} {\\left|110\\right\\rangle }}{4} + \\frac{\\sqrt{2} {\\left|111\\right\\rangle }}{4}$$"
      ],
      "text/plain": [
       "√2⋅❘000⟩   √2⋅❘001⟩   √2⋅❘010⟩   √2⋅❘011⟩   √2⋅❘100⟩   √2⋅❘101⟩   √2⋅❘110⟩   √\n",
       "──────── + ──────── - ──────── + ──────── + ──────── + ──────── + ──────── + ─\n",
       "   4          4          4          4          4          4          4        \n",
       "\n",
       "2⋅❘111⟩\n",
       "───────\n",
       "  4    "
      ]
     },
     "execution_count": 32,
     "metadata": {},
     "output_type": "execute_result"
    }
   ],
   "source": [
    "mark_2 = X(2)*X(0)*CCZ(1,2,0)*X(2)*X(0)\n",
    "qapply(mark_2*target_state_3)"
   ]
  },
  {
   "cell_type": "code",
   "execution_count": 33,
   "metadata": {},
   "outputs": [
    {
     "data": {
      "image/png": "[encoded data removed]",
      "text/latex": [
       "$$\\frac{\\sqrt{2} {\\left|000\\right\\rangle }}{4} - \\frac{\\sqrt{2} {\\left|001\\right\\rangle }}{4} + \\frac{\\sqrt{2} {\\left|010\\right\\rangle }}{4} + \\frac{\\sqrt{2} {\\left|011\\right\\rangle }}{4} + \\frac{\\sqrt{2} {\\left|100\\right\\rangle }}{4} + \\frac{\\sqrt{2} {\\left|101\\right\\rangle }}{4} + \\frac{\\sqrt{2} {\\left|110\\right\\rangle }}{4} + \\frac{\\sqrt{2} {\\left|111\\right\\rangle }}{4}$$"
      ],
      "text/plain": [
       "√2⋅❘000⟩   √2⋅❘001⟩   √2⋅❘010⟩   √2⋅❘011⟩   √2⋅❘100⟩   √2⋅❘101⟩   √2⋅❘110⟩   √\n",
       "──────── - ──────── + ──────── + ──────── + ──────── + ──────── + ──────── + ─\n",
       "   4          4          4          4          4          4          4        \n",
       "\n",
       "2⋅❘111⟩\n",
       "───────\n",
       "  4    "
      ]
     },
     "execution_count": 33,
     "metadata": {},
     "output_type": "execute_result"
    }
   ],
   "source": [
    "mark_1 = X(2)*X(1)*CCZ(1,2,0)*X(2)*X(1)\n",
    "qapply(mark_1*target_state_3)"
   ]
  },
  {
   "cell_type": "code",
   "execution_count": 34,
   "metadata": {},
   "outputs": [
    {
     "data": {
      "image/png": "[encoded data removed]",
      "text/latex": [
       "$$- \\frac{\\sqrt{2} {\\left|000\\right\\rangle }}{4} + \\frac{\\sqrt{2} {\\left|001\\right\\rangle }}{4} + \\frac{\\sqrt{2} {\\left|010\\right\\rangle }}{4} + \\frac{\\sqrt{2} {\\left|011\\right\\rangle }}{4} + \\frac{\\sqrt{2} {\\left|100\\right\\rangle }}{4} + \\frac{\\sqrt{2} {\\left|101\\right\\rangle }}{4} + \\frac{\\sqrt{2} {\\left|110\\right\\rangle }}{4} + \\frac{\\sqrt{2} {\\left|111\\right\\rangle }}{4}$$"
      ],
      "text/plain": [
       "  √2⋅❘000⟩   √2⋅❘001⟩   √2⋅❘010⟩   √2⋅❘011⟩   √2⋅❘100⟩   √2⋅❘101⟩   √2⋅❘110⟩  \n",
       "- ──────── + ──────── + ──────── + ──────── + ──────── + ──────── + ──────── +\n",
       "     4          4          4          4          4          4          4      \n",
       "\n",
       " √2⋅❘111⟩\n",
       " ────────\n",
       "    4    "
      ]
     },
     "execution_count": 34,
     "metadata": {},
     "output_type": "execute_result"
    }
   ],
   "source": [
    "mark_0 = X(2)*X(1)*X(0)*CCZ(1,2,0)*X(2)*X(1)*X(0)\n",
    "qapply(mark_0*h_3*Qubit('000'))"
   ]
  },
  {
   "cell_type": "markdown",
   "metadata": {},
   "source": [
    "## 重ね合わせ状態の中に、マーキングした状態があるかを見る\n",
    "  \n",
    "著名な操作「Grover のアルゴリズム」を試してみましょう。  \n",
    "\n",
    "（ヒント１）平均値周りの反転操作：$\\displaystyle D_{n} = H_{n} \\cdot \\Big( 2\\ |\\ 0\\ \\rangle\\langle\\ 0\\ |_{n}\\ -\\ I_{n} \\Big) \\cdot H_{n} $ を使います。  \n",
    "  \n",
    "（ヒント２）試行回数は、$\\displaystyle \\mathcal{O}(\\sqrt{n}) $ \n"
   ]
  },
  {
   "cell_type": "code",
   "execution_count": 35,
   "metadata": {},
   "outputs": [
    {
     "data": {
      "image/png": "[encoded data removed]",
      "text/latex": [
       "$$\\left[\\begin{matrix}- \\frac{3}{4} & \\frac{1}{4} & \\frac{1}{4} & \\frac{1}{4} & \\frac{1}{4} & \\frac{1}{4} & \\frac{1}{4} & \\frac{1}{4}\\\\\\frac{1}{4} & - \\frac{3}{4} & \\frac{1}{4} & \\frac{1}{4} & \\frac{1}{4} & \\frac{1}{4} & \\frac{1}{4} & \\frac{1}{4}\\\\\\frac{1}{4} & \\frac{1}{4} & - \\frac{3}{4} & \\frac{1}{4} & \\frac{1}{4} & \\frac{1}{4} & \\frac{1}{4} & \\frac{1}{4}\\\\\\frac{1}{4} & \\frac{1}{4} & \\frac{1}{4} & - \\frac{3}{4} & \\frac{1}{4} & \\frac{1}{4} & \\frac{1}{4} & \\frac{1}{4}\\\\\\frac{1}{4} & \\frac{1}{4} & \\frac{1}{4} & \\frac{1}{4} & - \\frac{3}{4} & \\frac{1}{4} & \\frac{1}{4} & \\frac{1}{4}\\\\\\frac{1}{4} & \\frac{1}{4} & \\frac{1}{4} & \\frac{1}{4} & \\frac{1}{4} & - \\frac{3}{4} & \\frac{1}{4} & \\frac{1}{4}\\\\\\frac{1}{4} & \\frac{1}{4} & \\frac{1}{4} & \\frac{1}{4} & \\frac{1}{4} & \\frac{1}{4} & - \\frac{3}{4} & \\frac{1}{4}\\\\\\frac{1}{4} & \\frac{1}{4} & \\frac{1}{4} & \\frac{1}{4} & \\frac{1}{4} & \\frac{1}{4} & \\frac{1}{4} & - \\frac{3}{4}\\end{matrix}\\right]$$"
      ],
      "text/plain": [
       "⎡-3/4  1/4   1/4   1/4   1/4   1/4   1/4   1/4 ⎤\n",
       "⎢                                              ⎥\n",
       "⎢1/4   -3/4  1/4   1/4   1/4   1/4   1/4   1/4 ⎥\n",
       "⎢                                              ⎥\n",
       "⎢1/4   1/4   -3/4  1/4   1/4   1/4   1/4   1/4 ⎥\n",
       "⎢                                              ⎥\n",
       "⎢1/4   1/4   1/4   -3/4  1/4   1/4   1/4   1/4 ⎥\n",
       "⎢                                              ⎥\n",
       "⎢1/4   1/4   1/4   1/4   -3/4  1/4   1/4   1/4 ⎥\n",
       "⎢                                              ⎥\n",
       "⎢1/4   1/4   1/4   1/4   1/4   -3/4  1/4   1/4 ⎥\n",
       "⎢                                              ⎥\n",
       "⎢1/4   1/4   1/4   1/4   1/4   1/4   -3/4  1/4 ⎥\n",
       "⎢                                              ⎥\n",
       "⎣1/4   1/4   1/4   1/4   1/4   1/4   1/4   -3/4⎦"
      ]
     },
     "execution_count": 35,
     "metadata": {},
     "output_type": "execute_result"
    }
   ],
   "source": [
    "# d_3 = h_3 * X(0)*X(1)*X(2) * H(0)*CCX(1,2,0)*H(0) * X(0)*X(1)*X(2) * h_3    # グローバル位相（絶対位相）の差に注意\n",
    "# d_3 = h_3 * X(0)*X(1)*X(2) * CGateS((1,2), Z(0)) * X(0)*X(1)*X(2) * h_3\n",
    "def DOp(n): return (Qubit('0'*n)*QubitBra('0'*n)*2-_I(0))     # ゲート操作で計算するには、上記コメントのような演算になります。\n",
    "d_3 = h_3 * DOp(3) * h_3    # 平均値周りの反転操作\n",
    "represent(d_3,nqubits=3)"
   ]
  },
  {
   "cell_type": "markdown",
   "metadata": {},
   "source": [
    "### ３量子ビットで状態｜７＞を探す"
   ]
  },
  {
   "cell_type": "code",
   "execution_count": 40,
   "metadata": {},
   "outputs": [
    {
     "data": {
      "image/png": "[encoded data removed]",
      "text/latex": [
       "$$\\left [ \\left ( {\\left|000\\right\\rangle }, \\quad \\frac{1}{32}\\right ), \\quad \\left ( {\\left|001\\right\\rangle }, \\quad \\frac{1}{32}\\right ), \\quad \\left ( {\\left|010\\right\\rangle }, \\quad \\frac{1}{32}\\right ), \\quad \\left ( {\\left|011\\right\\rangle }, \\quad \\frac{1}{32}\\right ), \\quad \\left ( {\\left|100\\right\\rangle }, \\quad \\frac{1}{32}\\right ), \\quad \\left ( {\\left|101\\right\\rangle }, \\quad \\frac{1}{32}\\right ), \\quad \\left ( {\\left|110\\right\\rangle }, \\quad \\frac{1}{32}\\right ), \\quad \\left ( {\\left|111\\right\\rangle }, \\quad \\frac{25}{32}\\right )\\right ]$$"
      ],
      "text/plain": [
       "⎡                                                                             \n",
       "⎢(❘000⟩, 1/32), (❘001⟩, 1/32), (❘010⟩, 1/32), (❘011⟩, 1/32), (❘100⟩, 1/32), (❘\n",
       "⎣                                                                             \n",
       "\n",
       "                            ⎛       25⎞⎤\n",
       "101⟩, 1/32), (❘110⟩, 1/32), ⎜❘111⟩, ──⎟⎥\n",
       "                            ⎝       32⎠⎦"
      ]
     },
     "execution_count": 40,
     "metadata": {},
     "output_type": "execute_result"
    }
   ],
   "source": [
    "ret1=qapply(d_3*mark_7*target_state_3)\n",
    "measure_all(ret1)"
   ]
  },
  {
   "cell_type": "code",
   "execution_count": 41,
   "metadata": {},
   "outputs": [
    {
     "data": {
      "image/png": "[encoded data removed]",
      "text/latex": [
       "$$\\left [ \\left ( {\\left|000\\right\\rangle }, \\quad \\frac{1}{128}\\right ), \\quad \\left ( {\\left|001\\right\\rangle }, \\quad \\frac{1}{128}\\right ), \\quad \\left ( {\\left|010\\right\\rangle }, \\quad \\frac{1}{128}\\right ), \\quad \\left ( {\\left|011\\right\\rangle }, \\quad \\frac{1}{128}\\right ), \\quad \\left ( {\\left|100\\right\\rangle }, \\quad \\frac{1}{128}\\right ), \\quad \\left ( {\\left|101\\right\\rangle }, \\quad \\frac{1}{128}\\right ), \\quad \\left ( {\\left|110\\right\\rangle }, \\quad \\frac{1}{128}\\right ), \\quad \\left ( {\\left|111\\right\\rangle }, \\quad \\frac{121}{128}\\right )\\right ]$$"
      ],
      "text/plain": [
       "⎡                                                                             \n",
       "⎢(❘000⟩, 1/128), (❘001⟩, 1/128), (❘010⟩, 1/128), (❘011⟩, 1/128), (❘100⟩, 1/128\n",
       "⎣                                                                             \n",
       "\n",
       "                                   ⎛       121⎞⎤\n",
       "), (❘101⟩, 1/128), (❘110⟩, 1/128), ⎜❘111⟩, ───⎟⎥\n",
       "                                   ⎝       128⎠⎦"
      ]
     },
     "execution_count": 41,
     "metadata": {},
     "output_type": "execute_result"
    }
   ],
   "source": [
    "ret2=qapply(d_3*mark_7*ret1)  # シミュレーター計算ですから、上で一度観測した ret1 を使っても観測の影響なく次の計算に利用可能。\n",
    "measure_all(ret2)"
   ]
  },
  {
   "cell_type": "code",
   "execution_count": 42,
   "metadata": {},
   "outputs": [
    {
     "data": {
      "image/png": "[encoded data removed]",
      "text/latex": [
       "$$\\left [ \\left ( {\\left|000\\right\\rangle }, \\quad \\frac{49}{512}\\right ), \\quad \\left ( {\\left|001\\right\\rangle }, \\quad \\frac{49}{512}\\right ), \\quad \\left ( {\\left|010\\right\\rangle }, \\quad \\frac{49}{512}\\right ), \\quad \\left ( {\\left|011\\right\\rangle }, \\quad \\frac{49}{512}\\right ), \\quad \\left ( {\\left|100\\right\\rangle }, \\quad \\frac{49}{512}\\right ), \\quad \\left ( {\\left|101\\right\\rangle }, \\quad \\frac{49}{512}\\right ), \\quad \\left ( {\\left|110\\right\\rangle }, \\quad \\frac{49}{512}\\right ), \\quad \\left ( {\\left|111\\right\\rangle }, \\quad \\frac{169}{512}\\right )\\right ]$$"
      ],
      "text/plain": [
       "⎡⎛        49⎞  ⎛        49⎞  ⎛        49⎞  ⎛        49⎞  ⎛        49⎞  ⎛      \n",
       "⎢⎜❘000⟩, ───⎟, ⎜❘001⟩, ───⎟, ⎜❘010⟩, ───⎟, ⎜❘011⟩, ───⎟, ⎜❘100⟩, ───⎟, ⎜❘101⟩,\n",
       "⎣⎝       512⎠  ⎝       512⎠  ⎝       512⎠  ⎝       512⎠  ⎝       512⎠  ⎝      \n",
       "\n",
       "  49⎞  ⎛        49⎞  ⎛       169⎞⎤\n",
       " ───⎟, ⎜❘110⟩, ───⎟, ⎜❘111⟩, ───⎟⎥\n",
       " 512⎠  ⎝       512⎠  ⎝       512⎠⎦"
      ]
     },
     "execution_count": 42,
     "metadata": {},
     "output_type": "execute_result"
    }
   ],
   "source": [
    "over_1=qapply(d_3*mark_7*ret2)  # 試行回数が多いとどうなるでしょう。\n",
    "measure_all(over_1)"
   ]
  },
  {
   "cell_type": "code",
   "execution_count": 43,
   "metadata": {},
   "outputs": [
    {
     "data": {
      "image/png": "[encoded data removed]",
      "text/latex": [
       "$$\\left [ \\left ( {\\left|000\\right\\rangle }, \\quad \\frac{289}{2048}\\right ), \\quad \\left ( {\\left|001\\right\\rangle }, \\quad \\frac{289}{2048}\\right ), \\quad \\left ( {\\left|010\\right\\rangle }, \\quad \\frac{289}{2048}\\right ), \\quad \\left ( {\\left|011\\right\\rangle }, \\quad \\frac{289}{2048}\\right ), \\quad \\left ( {\\left|100\\right\\rangle }, \\quad \\frac{289}{2048}\\right ), \\quad \\left ( {\\left|101\\right\\rangle }, \\quad \\frac{289}{2048}\\right ), \\quad \\left ( {\\left|110\\right\\rangle }, \\quad \\frac{289}{2048}\\right ), \\quad \\left ( {\\left|111\\right\\rangle }, \\quad \\frac{25}{2048}\\right )\\right ]$$"
      ],
      "text/plain": [
       "⎡⎛       289 ⎞  ⎛       289 ⎞  ⎛       289 ⎞  ⎛       289 ⎞  ⎛       289 ⎞  ⎛ \n",
       "⎢⎜❘000⟩, ────⎟, ⎜❘001⟩, ────⎟, ⎜❘010⟩, ────⎟, ⎜❘011⟩, ────⎟, ⎜❘100⟩, ────⎟, ⎜❘\n",
       "⎣⎝       2048⎠  ⎝       2048⎠  ⎝       2048⎠  ⎝       2048⎠  ⎝       2048⎠  ⎝ \n",
       "\n",
       "      289 ⎞  ⎛       289 ⎞  ⎛        25 ⎞⎤\n",
       "101⟩, ────⎟, ⎜❘110⟩, ────⎟, ⎜❘111⟩, ────⎟⎥\n",
       "      2048⎠  ⎝       2048⎠  ⎝       2048⎠⎦"
      ]
     },
     "execution_count": 43,
     "metadata": {},
     "output_type": "execute_result"
    }
   ],
   "source": [
    "over_2=qapply(d_3*mark_7*over_1)  # 試行回数が多いとどうなるでしょう。\n",
    "measure_all(over_2)"
   ]
  },
  {
   "cell_type": "markdown",
   "metadata": {},
   "source": [
    "通しで計算すると、回路が長くなってきています。少し時間かかります。"
   ]
  },
  {
   "cell_type": "code",
   "execution_count": 44,
   "metadata": {},
   "outputs": [
    {
     "data": {
      "image/png": "[encoded data removed]",
      "text/latex": [
       "$$- \\frac{\\sqrt{2} {\\left|000\\right\\rangle }}{16} - \\frac{\\sqrt{2} {\\left|001\\right\\rangle }}{16} - \\frac{\\sqrt{2} {\\left|010\\right\\rangle }}{16} - \\frac{\\sqrt{2} {\\left|011\\right\\rangle }}{16} - \\frac{\\sqrt{2} {\\left|100\\right\\rangle }}{16} - \\frac{\\sqrt{2} {\\left|101\\right\\rangle }}{16} - \\frac{\\sqrt{2} {\\left|110\\right\\rangle }}{16} + \\frac{11 \\sqrt{2} {\\left|111\\right\\rangle }}{16}$$"
      ],
      "text/plain": [
       "  √2⋅❘000⟩   √2⋅❘001⟩   √2⋅❘010⟩   √2⋅❘011⟩   √2⋅❘100⟩   √2⋅❘101⟩   √2⋅❘110⟩  \n",
       "- ──────── - ──────── - ──────── - ──────── - ──────── - ──────── - ──────── +\n",
       "     16         16         16         16         16         16         16     \n",
       "\n",
       " 11⋅√2⋅❘111⟩\n",
       " ───────────\n",
       "      16    "
      ]
     },
     "execution_count": 44,
     "metadata": {},
     "output_type": "execute_result"
    }
   ],
   "source": [
    "from sympy.physics.quantum.gate import gate_simp\n",
    "search_7_in_3qubit = gate_simp(d_3*mark_7*d_3*mark_7)\n",
    "ret3=qapply(search_7_in_3qubit*target_state_3)\n",
    "ret3"
   ]
  },
  {
   "cell_type": "code",
   "execution_count": 47,
   "metadata": {},
   "outputs": [
    {
     "name": "stdout",
     "output_type": "stream",
     "text": [
      "[(|000>, 1/128), (|001>, 1/128), (|010>, 1/128), (|011>, 1/128), (|100>, 1/128), (|101>, 1/128), (|110>, 1/128), (|111>, 121/128)]\n",
      "❘111⟩\n",
      "❘111⟩\n",
      "❘111⟩\n",
      "❘111⟩\n",
      "❘111⟩\n",
      "❘111⟩\n",
      "❘111⟩\n",
      "❘111⟩\n",
      "❘111⟩\n",
      "❘111⟩\n"
     ]
    }
   ],
   "source": [
    "print(measure_all(ret3))\n",
    "for i in range(10):\n",
    "    pprint(measure_all_oneshot(ret3))"
   ]
  },
  {
   "cell_type": "code",
   "execution_count": 48,
   "metadata": {
    "scrolled": true
   },
   "outputs": [
    {
     "data": {
      "text/plain": [
       "<sympy.physics.quantum.circuitplot.CircuitPlot at 0x120ce74e0>"
      ]
     },
     "execution_count": 48,
     "metadata": {},
     "output_type": "execute_result"
    },
    {
     "data": {
      "image/png": "[encoded data removed]",
      "text/plain": [
       "<Figure size 2232x216 with 1 Axes>"
      ]
     },
     "metadata": {},
     "output_type": "display_data"
    }
   ],
   "source": [
    "d_3_gate = h_3 * X(0)*X(1)*X(2) * H(0)*CCX(1,2,0)*H(0) * X(0)*X(1)*X(2) * h_3\n",
    "CircuitPlot(gate_simp(d_3_gate*mark_7*d_3_gate*mark_7*h_3),nqubits=3,labels=labeller(3)[::-1])"
   ]
  },
  {
   "cell_type": "code",
   "execution_count": null,
   "metadata": {},
   "outputs": [],
   "source": []
  }
 ],
 "metadata": {
  "kernelspec": {
   "display_name": "Python 3",
   "language": "python",
   "name": "python3"
  },
  "language_info": {
   "codemirror_mode": {
    "name": "ipython",
    "version": 3
   },
   "file_extension": ".py",
   "mimetype": "text/x-python",
   "name": "python",
   "nbconvert_exporter": "python",
   "pygments_lexer": "ipython3",
   "version": "3.7.0"
  }
 },
 "nbformat": 4,
 "nbformat_minor": 2
}

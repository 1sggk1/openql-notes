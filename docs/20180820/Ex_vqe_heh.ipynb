{
 "cells": [
  {
   "cell_type": "markdown",
   "metadata": {},
   "source": [
    "### VQE（Variational quantum eigensolver）\n",
    "パラメータ付き量子回路で変分的に基底状態を求めましょう。"
   ]
  },
  {
   "cell_type": "markdown",
   "metadata": {},
   "source": [
    "### 必要なライブラリをインポート"
   ]
  },
  {
   "cell_type": "code",
   "execution_count": 1,
   "metadata": {
    "collapsed": true
   },
   "outputs": [],
   "source": [
    "from sympy import *\n",
    "from sympy.physics.quantum import *\n",
    "from sympy.physics.quantum.qubit import Qubit,QubitBra,measure_all,measure_partial\n",
    "from sympy.physics.quantum.gate import X,Y,Z,H,CNOT,SWAP,CPHASE,CGateS\n",
    "from sympy.physics.quantum.gate import IdentityGate as _I\n",
    "from sympy.physics.quantum.gate import UGate as U\n",
    "\n",
    "import matplotlib.pyplot as plt\n",
    "%matplotlib inline"
   ]
  },
  {
   "cell_type": "code",
   "execution_count": 2,
   "metadata": {
    "collapsed": true
   },
   "outputs": [],
   "source": [
    "import scipy.optimize\n",
    "import scipy.linalg\n",
    "import numpy as np\n",
    "import sys"
   ]
  },
  {
   "cell_type": "markdown",
   "metadata": {},
   "source": [
    "### 変分量子回路で利用するためのゲートを定義"
   ]
  },
  {
   "cell_type": "code",
   "execution_count": 3,
   "metadata": {},
   "outputs": [
    {
     "name": "stdout",
     "output_type": "stream",
     "text": [
      "Matrix([[sqrt(2)/2, 0, -sqrt(2)*I/2, 0], [0, sqrt(2)/2, 0, -sqrt(2)*I/2], [-sqrt(2)*I/2, 0, sqrt(2)/2, 0], [0, -sqrt(2)*I/2, 0, sqrt(2)/2]])\n",
      "Matrix([[sqrt(2)/2, -sqrt(2)*I/2, 0, 0], [-sqrt(2)*I/2, sqrt(2)/2, 0, 0], [0, 0, sqrt(2)/2, -sqrt(2)*I/2], [0, 0, -sqrt(2)*I/2, sqrt(2)/2]])\n",
      "Matrix([[sqrt(2)/2 - sqrt(2)*I/2, 0, 0, 0], [0, sqrt(2)/2 - sqrt(2)*I/2, 0, 0], [0, 0, sqrt(2)/2 + sqrt(2)*I/2, 0], [0, 0, 0, sqrt(2)/2 + sqrt(2)*I/2]])\n",
      "Matrix([[sqrt(2)/2 - sqrt(2)*I/2, 0, 0, 0], [0, sqrt(2)/2 + sqrt(2)*I/2, 0, 0], [0, 0, sqrt(2)/2 - sqrt(2)*I/2, 0], [0, 0, 0, sqrt(2)/2 + sqrt(2)*I/2]])\n"
     ]
    }
   ],
   "source": [
    "def Rxi(n,t): return U(n,represent(cos(t)*_I(1)*_I(0)-I*sin(t)*X(1)*_I(0),nqubits=2))\n",
    "def Rix(n,t): return U(n,represent(cos(t)*_I(1)*_I(0)-I*sin(t)*_I(1)*X(0),nqubits=2))\n",
    "def Rzi(n,t): return U(n,represent(cos(t)*_I(1)*_I(0)-I*sin(t)*Z(1)*_I(0),nqubits=2))\n",
    "def Riz(n,t): return U(n,represent(cos(t)*_I(1)*_I(0)-I*sin(t)*_I(1)*Z(0),nqubits=2))\n",
    "\n",
    "print(Rxi((0,1),pi/4).get_target_matrix())\n",
    "print(Rix((0,1),pi/4).get_target_matrix())\n",
    "print(Rzi((0,1),pi/4).get_target_matrix())\n",
    "print(Riz((0,1),pi/4).get_target_matrix())"
   ]
  },
  {
   "cell_type": "markdown",
   "metadata": {},
   "source": [
    "### ハミルトニアンの定義\n",
    "\n",
    "$ H = \\frac{1}{2} \\left( S_{ii} \\mathbb{1} + S_{ix} \\sigma_{x}^{1} + S_{iz} \\sigma_{z}^{1} + S_{xi} \\sigma_{x}^{0}  + S_{zi} \\sigma_{z}^{0} \n",
    "+ S_{xx} \\sigma_{x}^{0} \\sigma_{x}^{1} + S_{xz} \\sigma_{x}^{0} \\sigma_{z}^{1} + S_{zx} \\sigma_{z}^{0} \\sigma_{x}^{1}\n",
    "+ S_{zz} \\sigma_{z}^{0} \\sigma_{z}^{1} \\right) $"
   ]
  },
  {
   "cell_type": "code",
   "execution_count": null,
   "metadata": {
    "collapsed": true
   },
   "outputs": [],
   "source": [
    "Sii,Six,Sxi,Sxx,Szz,Siz,Szi,Sxz,Szx = symbols('Sii Six Sxi Sxx Szz Siz Szi Sxz Szx')\n",
    "# 【設問2-1】定義にあるハミルトニアンを完成してください。\n",
    "Hamiltonian = (   Sii *_I(0) *_I(1) \n",
    "                + Six *_I(0) * X(1)\n",
    "                + Siz *_I(0) * Z(1)\n",
    "                + Sxi * X(0) *_I(1)\n",
    "                + Szi * Z(0) *_I(1)\n",
    "                + Sxx # ***回答欄*** #\n",
    "                + Sxz # ***回答欄*** #\n",
    "                + Szx # ***回答欄*** # \n",
    "                + Szz * Z(0) * Z(1) )/2\n",
    "h = represent(Hamiltonian,nqubits=2)\n",
    "Hamiltonian"
   ]
  },
  {
   "cell_type": "markdown",
   "metadata": {},
   "source": [
    "$ HeH^+ $ 分子のハミルトニアンの数値設定（パラメータはNature Communication 2014 より)"
   ]
  },
  {
   "cell_type": "code",
   "execution_count": 5,
   "metadata": {},
   "outputs": [
    {
     "data": {
      "text/plain": [
       "Matrix([\n",
       "[-2.85405,        0,        0,  0.13065],\n",
       "[       0, -2.04305,  0.13065,  -0.2288],\n",
       "[       0,  0.13065, -2.04305,  -0.2288],\n",
       "[ 0.13065,  -0.2288,  -0.2288, -0.76085]])"
      ]
     },
     "execution_count": 5,
     "metadata": {},
     "output_type": "execute_result"
    }
   ],
   "source": [
    "H_valued = h.subs([\n",
    "    (Sii,-3.8505),\n",
    "    (Six,-0.2288),\n",
    "    (Sxi,-0.2288),\n",
    "    (Siz,-1.0466),\n",
    "    (Szi,-1.0466),\n",
    "    (Sxx, 0.2613),\n",
    "    (Sxz, 0.2288),\n",
    "    (Szx, 0.2288),\n",
    "    (Szi,-1.0466),\n",
    "    (Szz,0.2356)])\n",
    "H_valued"
   ]
  },
  {
   "cell_type": "markdown",
   "metadata": {},
   "source": [
    "### 答えを事前に計算\n",
    "このような小さいサイズのMatrixであれば、厳密対角化も計算で、固有値は求められます。"
   ]
  },
  {
   "cell_type": "code",
   "execution_count": 20,
   "metadata": {},
   "outputs": [
    {
     "name": "stdout",
     "output_type": "stream",
     "text": [
      "⎛                                 ⎡⎡-15.2436817570853 - 7.50558636857843e-28⋅ⅈ\n",
      "⎜                                 ⎢⎢                                          \n",
      "⎜                                 ⎢⎢0.240786150597669 + 1.14522305828383e-30⋅ⅈ\n",
      "⎜-2.86262076407668 - 0.e-22⋅ⅈ, 1, ⎢⎢                                          \n",
      "⎜                                 ⎢⎢0.240786150597669 - 1.97436109465294e-26⋅ⅈ\n",
      "⎜                                 ⎢⎢                                          \n",
      "⎝                                 ⎣⎣                   1.0                    \n",
      "\n",
      "⎤⎤⎞\n",
      "⎥⎥⎟\n",
      "⎥⎥⎟\n",
      "⎥⎥⎟\n",
      "⎥⎥⎟\n",
      "⎥⎥⎟\n",
      "⎦⎦⎠\n",
      "-2.86262076407668\n"
     ]
    }
   ],
   "source": [
    "# sympy は数値計算が苦手なので対角化は時間がかかります.\n",
    "# ↓ sympy で提供されている対角化\n",
    "# P, D = H_valued.diagonalize() \n",
    "# ↓ sympy で提供されている固有値, 固有ベクトルの求め方\n",
    "E = H_valued.eigenvects()\n",
    "M = np.argmin([re(E[i][0]) for i in range(len(E))])\n",
    "pprint(E[M])\n",
    "print(re(E[M][0]))"
   ]
  },
  {
   "cell_type": "code",
   "execution_count": 21,
   "metadata": {},
   "outputs": [
    {
     "name": "stdout",
     "output_type": "stream",
     "text": [
      "[[ 0.99760736+0.j -0.01575801+0.j -0.01575801+0.j -0.06544399+0.j]]\n",
      "(-2.8626207640766825+0j)\n"
     ]
    }
   ],
   "source": [
    "# ↓数値計算は, 固有値を求めるのが得意な numpy でも試します. \n",
    "l, p = np.linalg.eig( np.array( H_valued.tolist(), dtype=np.complex128 ))\n",
    "v = np.transpose(p)\n",
    "mini = np.argmin(l)\n",
    "E_answer = l[mini]\n",
    "#print(p)\n",
    "#print(l)\n",
    "print(np.array([v[mini]]))\n",
    "print(E_answer)"
   ]
  },
  {
   "cell_type": "code",
   "execution_count": 8,
   "metadata": {
    "collapsed": true,
    "scrolled": false
   },
   "outputs": [],
   "source": [
    "def dice(n): return [np.random.rand() for i in range(n)]\n",
    "def vqe_trial(phi):\n",
    "    global count\n",
    "    global f\n",
    "    count += 1\n",
    "    trial_func = Rxi((0,1), phi[0]).get_target_matrix() \\\n",
    "        * Riz((0,1), phi[1]).get_target_matrix() \\\n",
    "        * represent(CNOT(0,1),nqubits=2) \\\n",
    "        * Riz((0,1), phi[2]).get_target_matrix() \\\n",
    "        * Rix((0,1), phi[3]).get_target_matrix() \\\n",
    "        * Rzi((0,1), phi[4]).get_target_matrix() \\\n",
    "        * Rxi((0,1), phi[5]).get_target_matrix()\n",
    "    # 【設問2-2】試行関数マトリックス（trial_func）の複素共役を設定してください。\n",
    "    trial_func_dag = # ***回答欄*** #\n",
    "    trial = trial_func_dag * H_valued * trial_func\n",
    "    pr = -1*abs(((qapply(trial).tolist())[0])[0])   # *(-1) をつけなければなりません\n",
    "    # print(pr)\n",
    "    f.write(str(count)+ ' ' +str(pr)+ ' ' +str(pr/E_answer)+ '\\n')\n",
    "    f.flush()\n",
    "    return pr"
   ]
  },
  {
   "cell_type": "code",
   "execution_count": 9,
   "metadata": {
    "scrolled": true
   },
   "outputs": [
    {
     "name": "stdout",
     "output_type": "stream",
     "text": [
      "1 -2.00938731271756 0.701939753226682\n",
      "2 -2.26243027367454 0.790335311636807\n",
      "3 -1.71447257643126 0.598917117470241\n",
      "4 -1.39939629922598 0.488851445775544\n",
      "5 -2.24611667062403 0.784636476759611\n",
      "6 -2.07523617734658 0.724942752944761\n",
      "7 -1.95482185353686 0.682878388247623\n",
      "8 -2.20604916952604 0.770639686964467\n",
      "9 -1.83745878938148 0.641879920819389\n",
      "10 -1.94575607616102 0.679711438056522\n"
     ]
    }
   ],
   "source": [
    "count = 0\n",
    "f = sys.stdout\n",
    "# 【設問2-3】上記で定義した vqe_trial を試してみましょう。何回か呼び出して結果を表示してください。\n",
    "# ***回答欄*** #"
   ]
  },
  {
   "cell_type": "code",
   "execution_count": null,
   "metadata": {
    "collapsed": true
   },
   "outputs": [],
   "source": [
    "count = 0\n",
    "f = open('result_VQE.txt', 'w')\n",
    "# 【設問2-4】scipy.optimize.minimize() 内で vqe_trial を使って、最低エネルギー固有値を探索してください。\n",
    "res = # ***回答欄*** #\n",
    "f.close()"
   ]
  },
  {
   "cell_type": "code",
   "execution_count": null,
   "metadata": {
    "collapsed": true,
    "scrolled": true
   },
   "outputs": [],
   "source": [
    "# 結果を表示します。\n",
    "# pprint(res)\n",
    "print(res[\"fun\"])"
   ]
  },
  {
   "cell_type": "code",
   "execution_count": null,
   "metadata": {
    "collapsed": true
   },
   "outputs": [],
   "source": [
    "# 【設問2-5】結果ファイルをグラフで表示してみましょう。\n",
    "dat = np.loadtxt(\"result_VQE.txt\")\n",
    "# 回答欄 #"
   ]
  }
 ],
 "metadata": {
  "kernelspec": {
   "display_name": "Python 3",
   "language": "python",
   "name": "python3"
  },
  "language_info": {
   "codemirror_mode": {
    "name": "ipython",
    "version": 3
   },
   "file_extension": ".py",
   "mimetype": "text/x-python",
   "name": "python",
   "nbconvert_exporter": "python",
   "pygments_lexer": "ipython3",
   "version": "3.6.6"
  }
 },
 "nbformat": 4,
 "nbformat_minor": 2
}

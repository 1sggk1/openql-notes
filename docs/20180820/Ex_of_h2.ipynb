{
 "cells": [
  {
   "cell_type": "markdown",
   "metadata": {},
   "source": [
    "### OpenFermion の利用\n",
    "OpenFermion を使って、水素分子の基底状態のエネルギーを計算しましょう。"
   ]
  },
  {
   "cell_type": "markdown",
   "metadata": {},
   "source": [
    "### 必要なライブラリをインポート"
   ]
  },
  {
   "cell_type": "code",
   "execution_count": 4,
   "metadata": {
    "collapsed": true
   },
   "outputs": [],
   "source": [
    "from openfermion.hamiltonians import MolecularData\n",
    "from openfermion.transforms import jordan_wigner, get_fermion_operator, get_sparse_operator\n",
    "from openfermion.utils import get_ground_state\n",
    "from openfermionpyscf import run_pyscf\n",
    "import numpy as np\n",
    "import matplotlib.pyplot as plt\n",
    "%matplotlib inline"
   ]
  },
  {
   "cell_type": "markdown",
   "metadata": {},
   "source": [
    "### 水素分子の核間距離によるエネルギーを計算する関数を自作"
   ]
  },
  {
   "cell_type": "code",
   "execution_count": null,
   "metadata": {},
   "outputs": [],
   "source": [
    "# Set calculation parameters.\n",
    "run_scf = 1\n",
    "run_mp2 = 1\n",
    "run_cisd = 0\n",
    "run_ccsd = 0\n",
    "run_fci = 1\n",
    "# Set molecule parameters.\n",
    "multiplicity = 1\n",
    "basis = 'sto-3g'\n",
    "def get_energy(d):\n",
    "    # 【設問1-1】引数である核間距離 d を使って水素分子の MoelcularData を定義してください。\n",
    "    geometry = # ***回答欄*** #\n",
    "    molecular = # ***回答欄*** #\n",
    "    molecular_scf = run_pyscf(molecular,\n",
    "                         run_scf=run_scf,\n",
    "                         run_mp2=run_mp2,\n",
    "                         run_cisd=run_cisd,\n",
    "                         run_ccsd=run_ccsd,\n",
    "                         run_fci=run_fci)\n",
    "    #print(molecular_scf.get_molecular_hamiltonian())\n",
    "    # 【設問1-2】Jordan-Wigner 変換を使って、ハミルトニアンを記述してください。\n",
    "    hamiltonian = # ***回答欄*** #\n",
    "    #print(hamiltonian)\n",
    "    ground_state = get_ground_state(get_sparse_operator(hamiltonian))\n",
    "    #print(ground_state)\n",
    "    return ground_state"
   ]
  },
  {
   "cell_type": "code",
   "execution_count": null,
   "metadata": {
    "collapsed": true
   },
   "outputs": [],
   "source": [
    "lengths = np.linspace(0.1414, 3.1414, 100)\n",
    "#lengths = [0.7414]\n",
    "energies = []\n",
    "for r in lengths: energies.append(get_energy(r)[0])"
   ]
  },
  {
   "cell_type": "code",
   "execution_count": null,
   "metadata": {
    "collapsed": true
   },
   "outputs": [],
   "source": [
    "#【設問1-3】lengths と energies の関係をグラフで表してください。"
   ]
  },
  {
   "cell_type": "code",
   "execution_count": null,
   "metadata": {
    "collapsed": true
   },
   "outputs": [],
   "source": [
    "# エネルギー最小値をとる核間距離とそのエネルギーを表示します。\n",
    "idx=np.argmin(energies)\n",
    "print(lengths[idx],energies[idx])"
   ]
  },
  {
   "cell_type": "code",
   "execution_count": null,
   "metadata": {
    "collapsed": true
   },
   "outputs": [],
   "source": []
  }
 ],
 "metadata": {
  "kernelspec": {
   "display_name": "Python 3",
   "language": "python",
   "name": "python3"
  },
  "language_info": {
   "codemirror_mode": {
    "name": "ipython",
    "version": 3
   },
   "file_extension": ".py",
   "mimetype": "text/x-python",
   "name": "python",
   "nbconvert_exporter": "python",
   "pygments_lexer": "ipython3",
   "version": "3.6.6"
  }
 },
 "nbformat": 4,
 "nbformat_minor": 2
}

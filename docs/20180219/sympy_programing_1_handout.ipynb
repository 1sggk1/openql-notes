{
 "cells": [
  {
   "cell_type": "markdown",
   "metadata": {
    "collapsed": true,
    "deletable": true,
    "editable": true
   },
   "source": [
    "### 0. [準備]必要なライブラリをインポートする"
   ]
  },
  {
   "cell_type": "code",
   "execution_count": 1,
   "metadata": {
    "collapsed": false,
    "deletable": true,
    "editable": true
   },
   "outputs": [],
   "source": [
    "from sympy import *\n",
    "from sympy.physics.quantum import *\n",
    "from sympy.physics.quantum.qubit import Qubit,QubitBra\n",
    "from sympy.physics.quantum.gate import X,Y,Z,H,S,T,CNOT,SWAP, CPHASE\n",
    "from sympy.physics.quantum.gate import IdentityGate as _I"
   ]
  },
  {
   "cell_type": "markdown",
   "metadata": {
    "deletable": true,
    "editable": true
   },
   "source": [
    "↓SymPy で良い感じに表示するためのおまじない"
   ]
  },
  {
   "cell_type": "code",
   "execution_count": 2,
   "metadata": {
    "collapsed": true,
    "deletable": true,
    "editable": true
   },
   "outputs": [],
   "source": [
    "from sympy.printing.dot import dotprint\n",
    "init_printing()"
   ]
  },
  {
   "cell_type": "markdown",
   "metadata": {
    "deletable": true,
    "editable": true
   },
   "source": [
    "###  １. 計算に必要な量子ビット（量子レジスタ）を準備して、その値を初期化する\n",
    "\n",
    "計算に必要な量子ビットは、sympy.physics.quantum.qubit.Qubitクラス（実態はケット・ベクトル）を必要なビット数を\n",
    "初期化して作成します。\n",
    "\n",
    "* 例１：変数 $a$ に、２量子ビット $ \\vert 00 \\rangle $ を準備します。"
   ]
  },
  {
   "cell_type": "code",
   "execution_count": 3,
   "metadata": {
    "collapsed": false,
    "deletable": true,
    "editable": true
   },
   "outputs": [
    {
     "name": "stdout",
     "output_type": "stream",
     "text": [
      "|00>\n"
     ]
    },
    {
     "data": {
      "image/png": "[encoded data removed]",
      "text/latex": [
       "$${\\left|00\\right\\rangle }$$"
      ],
      "text/plain": [
       "❘00⟩"
      ]
     },
     "execution_count": 3,
     "metadata": {},
     "output_type": "execute_result"
    }
   ],
   "source": [
    "a = Qubit('00')\n",
    "print(a)\n",
    "a"
   ]
  },
  {
   "cell_type": "markdown",
   "metadata": {
    "deletable": true,
    "editable": true
   },
   "source": [
    "* 例２：変数 $ a $ の状態ベクトルをつかって、変数 $ b $ を同じ状態ベクトルとして準備します。"
   ]
  },
  {
   "cell_type": "code",
   "execution_count": 4,
   "metadata": {
    "collapsed": false,
    "deletable": true,
    "editable": true,
    "scrolled": true
   },
   "outputs": [
    {
     "name": "stdout",
     "output_type": "stream",
     "text": [
      "|00>\n"
     ]
    },
    {
     "data": {
      "image/png": "[encoded data removed]",
      "text/latex": [
       "$${\\left|00\\right\\rangle }$$"
      ],
      "text/plain": [
       "❘00⟩"
      ]
     },
     "execution_count": 4,
     "metadata": {},
     "output_type": "execute_result"
    }
   ],
   "source": [
    "b = Qubit(a)\n",
    "print(b)\n",
    "b"
   ]
  },
  {
   "cell_type": "markdown",
   "metadata": {
    "deletable": true,
    "editable": true
   },
   "source": [
    "* 例３：8量子ビットをすべて $0$ として準備します。"
   ]
  },
  {
   "cell_type": "code",
   "execution_count": 5,
   "metadata": {
    "collapsed": false,
    "deletable": true,
    "editable": true
   },
   "outputs": [
    {
     "name": "stdout",
     "output_type": "stream",
     "text": [
      "❘00000000⟩\n"
     ]
    },
    {
     "data": {
      "image/png": "[encoded data removed]",
      "text/latex": [
       "$${\\left|00000000\\right\\rangle }$$"
      ],
      "text/plain": [
       "❘00000000⟩"
      ]
     },
     "execution_count": 5,
     "metadata": {},
     "output_type": "execute_result"
    }
   ],
   "source": [
    "q_8 = Qubit('0'*8)\n",
    "pprint(q_8)\n",
    "q_8"
   ]
  },
  {
   "cell_type": "markdown",
   "metadata": {
    "deletable": true,
    "editable": true
   },
   "source": [
    "* 例４：（後述で説明する計算方法を使いますが）計算を行って、変数 $c$ の状態ベクトルを準備します。  \n",
    "  　　　２量子ビットの重ね合わせ"
   ]
  },
  {
   "cell_type": "code",
   "execution_count": 6,
   "metadata": {
    "collapsed": false,
    "deletable": true,
    "editable": true
   },
   "outputs": [
    {
     "name": "stdout",
     "output_type": "stream",
     "text": [
      "|00>/2 + |01>/2 + |10>/2 + |11>/2\n"
     ]
    },
    {
     "data": {
      "image/png": "[encoded data removed]",
      "text/latex": [
       "$$\\frac{{\\left|00\\right\\rangle }}{2} + \\frac{{\\left|01\\right\\rangle }}{2} + \\frac{{\\left|10\\right\\rangle }}{2} + \\frac{{\\left|11\\right\\rangle }}{2}$$"
      ],
      "text/plain": [
       "❘00⟩   ❘01⟩   ❘10⟩   ❘11⟩\n",
       "──── + ──── + ──── + ────\n",
       " 2      2      2      2  "
      ]
     },
     "execution_count": 6,
     "metadata": {},
     "output_type": "execute_result"
    }
   ],
   "source": [
    "c = qapply(H(1)*H(0)*a)\n",
    "print(c)\n",
    "\n",
    "c"
   ]
  },
  {
   "cell_type": "markdown",
   "metadata": {
    "deletable": true,
    "editable": true
   },
   "source": [
    "Qubitクラスには次のような関数やプロパティが定義されています。"
   ]
  },
  {
   "cell_type": "code",
   "execution_count": 7,
   "metadata": {
    "collapsed": false,
    "deletable": true,
    "editable": true
   },
   "outputs": [
    {
     "name": "stdout",
     "output_type": "stream",
     "text": [
      "nqubits=3\n",
      "len=3\n",
      "dimension=3\n",
      "(0, 0, 0)\n"
     ]
    },
    {
     "data": {
      "image/png": "[encoded data removed]",
      "text/latex": [
       "$${\\left|010\\right\\rangle }$$"
      ],
      "text/plain": [
       "❘010⟩"
      ]
     },
     "execution_count": 7,
     "metadata": {},
     "output_type": "execute_result"
    }
   ],
   "source": [
    "q = Qubit('000')\n",
    "\n",
    "# サイズ（量子ビット数）を返す\n",
    "print(\"nqubits=%d\"% q.nqubits)\n",
    "print(\"len=%d\" % len(q))\n",
    "print(\"dimension=%d\" % q.dimension)\n",
    "print(q.qubit_values)\n",
    "\n",
    "q.flip(1)  # 引数で指定された位置(*)の右から2番目の量子ビットを反転します."
   ]
  },
  {
   "cell_type": "markdown",
   "metadata": {
    "deletable": true,
    "editable": true
   },
   "source": [
    "### 2. 量子計算をユニタリ行列（ゲート演算子）で記述する\n",
    "\n",
    "作用させるユニタリ行列を標準で準備されているユニタリ行列のテンソル積で表します。\n",
    "\n",
    "まず最初に、標準で定義されているユニタリ行列を見て見ましょう。\n",
    "\n",
    "#### １量子ビット操作\n",
    "引数に渡す数字は、作用させる量子ビットの位置を表します。\n",
    "\n",
    "* パウリ演算子"
   ]
  },
  {
   "cell_type": "code",
   "execution_count": 8,
   "metadata": {
    "collapsed": false,
    "deletable": true,
    "editable": true
   },
   "outputs": [
    {
     "data": {
      "image/png": "[encoded data removed]",
      "text/latex": [
       "$$\\left[\\begin{matrix}0 & 1\\\\1 & 0\\end{matrix}\\right]$$"
      ],
      "text/plain": [
       "⎡0  1⎤\n",
       "⎢    ⎥\n",
       "⎣1  0⎦"
      ]
     },
     "execution_count": 8,
     "metadata": {},
     "output_type": "execute_result"
    }
   ],
   "source": [
    "X(0).get_target_matrix() # σ_x, get_target_matrix() で行列表現を取り出します"
   ]
  },
  {
   "cell_type": "code",
   "execution_count": 9,
   "metadata": {
    "collapsed": false,
    "deletable": true,
    "editable": true
   },
   "outputs": [
    {
     "data": {
      "image/png": "[encoded data removed]",
      "text/latex": [
       "$$\\left[\\begin{matrix}0 & - i\\\\i & 0\\end{matrix}\\right]$$"
      ],
      "text/plain": [
       "⎡0  -ⅈ⎤\n",
       "⎢     ⎥\n",
       "⎣ⅈ  0 ⎦"
      ]
     },
     "execution_count": 9,
     "metadata": {},
     "output_type": "execute_result"
    }
   ],
   "source": [
    "Y(0).get_target_matrix() # σ_y"
   ]
  },
  {
   "cell_type": "code",
   "execution_count": 10,
   "metadata": {
    "collapsed": false,
    "deletable": true,
    "editable": true
   },
   "outputs": [
    {
     "data": {
      "image/png": "[encoded data removed]",
      "text/latex": [
       "$$\\left[\\begin{matrix}1 & 0\\\\0 & -1\\end{matrix}\\right]$$"
      ],
      "text/plain": [
       "⎡1  0 ⎤\n",
       "⎢     ⎥\n",
       "⎣0  -1⎦"
      ]
     },
     "execution_count": 10,
     "metadata": {},
     "output_type": "execute_result"
    }
   ],
   "source": [
    "Z(0).get_target_matrix()  # σ_z"
   ]
  },
  {
   "cell_type": "markdown",
   "metadata": {
    "deletable": true,
    "editable": true
   },
   "source": [
    "* アダマール（Hadamard）変換"
   ]
  },
  {
   "cell_type": "code",
   "execution_count": 11,
   "metadata": {
    "collapsed": false,
    "deletable": true,
    "editable": true
   },
   "outputs": [
    {
     "data": {
      "image/png": "[encoded data removed]",
      "text/latex": [
       "$$\\left[\\begin{matrix}\\frac{1}{\\sqrt{2}} & \\frac{1}{\\sqrt{2}}\\\\\\frac{1}{\\sqrt{2}} & - \\frac{\\sqrt{2}}{2}\\end{matrix}\\right]$$"
      ],
      "text/plain": [
       "⎡1    1  ⎤\n",
       "⎢──   ── ⎥\n",
       "⎢√2   √2 ⎥\n",
       "⎢        ⎥\n",
       "⎢1   -√2 ⎥\n",
       "⎢──  ────⎥\n",
       "⎣√2   2  ⎦"
      ]
     },
     "execution_count": 11,
     "metadata": {},
     "output_type": "execute_result"
    }
   ],
   "source": [
    "H(0).get_target_matrix()"
   ]
  },
  {
   "cell_type": "markdown",
   "metadata": {
    "deletable": true,
    "editable": true
   },
   "source": [
    "* $ S, S^{\\dagger}, T, T^{\\dagger} $ 変換"
   ]
  },
  {
   "cell_type": "code",
   "execution_count": 12,
   "metadata": {
    "collapsed": false,
    "deletable": true,
    "editable": true
   },
   "outputs": [
    {
     "data": {
      "image/png": "[encoded data removed]",
      "text/latex": [
       "$$\\left[\\begin{matrix}1 & 0\\\\0 & i\\end{matrix}\\right]$$"
      ],
      "text/plain": [
       "⎡1  0⎤\n",
       "⎢    ⎥\n",
       "⎣0  ⅈ⎦"
      ]
     },
     "execution_count": 12,
     "metadata": {},
     "output_type": "execute_result"
    }
   ],
   "source": [
    "S(0).get_target_matrix()"
   ]
  },
  {
   "cell_type": "code",
   "execution_count": 13,
   "metadata": {
    "collapsed": false,
    "deletable": true,
    "editable": true
   },
   "outputs": [
    {
     "data": {
      "image/png": "[encoded data removed]",
      "text/latex": [
       "$$\\left[\\begin{matrix}1 & 0\\\\0 & i\\end{matrix}\\right]$$"
      ],
      "text/plain": [
       "⎡1  0⎤\n",
       "⎢    ⎥\n",
       "⎣0  ⅈ⎦"
      ]
     },
     "execution_count": 13,
     "metadata": {},
     "output_type": "execute_result"
    }
   ],
   "source": [
    "represent(S(0), nqubits=1) # represent は、行列を nqubits で表現します。"
   ]
  },
  {
   "cell_type": "code",
   "execution_count": 14,
   "metadata": {
    "collapsed": false,
    "deletable": true,
    "editable": true
   },
   "outputs": [
    {
     "data": {
      "image/png": "[encoded data removed]",
      "text/latex": [
       "$$S_{0}^{-1}$$"
      ],
      "text/plain": [
       "    -1\n",
       "⎛S ⎞  \n",
       "⎝ 0⎠  "
      ]
     },
     "execution_count": 14,
     "metadata": {},
     "output_type": "execute_result"
    }
   ],
   "source": [
    "Dagger(S(0))"
   ]
  },
  {
   "cell_type": "code",
   "execution_count": 15,
   "metadata": {
    "collapsed": false,
    "deletable": true,
    "editable": true
   },
   "outputs": [
    {
     "data": {
      "image/png": "[encoded data removed]",
      "text/latex": [
       "$$\\left[\\begin{matrix}1 & 0\\\\0 & - i\\end{matrix}\\right]$$"
      ],
      "text/plain": [
       "⎡1  0 ⎤\n",
       "⎢     ⎥\n",
       "⎣0  -ⅈ⎦"
      ]
     },
     "execution_count": 15,
     "metadata": {},
     "output_type": "execute_result"
    }
   ],
   "source": [
    "Dagger(S(0).get_target_matrix())  # get_target_matrix() はDaggerカッコの中"
   ]
  },
  {
   "cell_type": "code",
   "execution_count": 16,
   "metadata": {
    "collapsed": false,
    "deletable": true,
    "editable": true
   },
   "outputs": [
    {
     "data": {
      "image/png": "[encoded data removed]",
      "text/latex": [
       "$$\\left[\\begin{matrix}1 & 0\\\\0 & - i\\end{matrix}\\right]$$"
      ],
      "text/plain": [
       "⎡1  0 ⎤\n",
       "⎢     ⎥\n",
       "⎣0  -ⅈ⎦"
      ]
     },
     "execution_count": 16,
     "metadata": {},
     "output_type": "execute_result"
    }
   ],
   "source": [
    "represent(Dagger(S(0)), nqubits=1)"
   ]
  },
  {
   "cell_type": "code",
   "execution_count": 17,
   "metadata": {
    "collapsed": false,
    "deletable": true,
    "editable": true
   },
   "outputs": [
    {
     "data": {
      "image/png": "[encoded data removed]",
      "text/latex": [
       "$$\\left[\\begin{matrix}1 & 0\\\\0 & - i\\end{matrix}\\right]$$"
      ],
      "text/plain": [
       "⎡1  0 ⎤\n",
       "⎢     ⎥\n",
       "⎣0  -ⅈ⎦"
      ]
     },
     "execution_count": 17,
     "metadata": {},
     "output_type": "execute_result"
    }
   ],
   "source": [
    "def Sdg(n): return S(n)**(-1)   # S^{\\dagger} としては、この演算子を使います。\n",
    "represent(Sdg(0),nqubits=1)"
   ]
  },
  {
   "cell_type": "code",
   "execution_count": 18,
   "metadata": {
    "collapsed": false,
    "deletable": true,
    "editable": true
   },
   "outputs": [
    {
     "data": {
      "image/png": "[encoded data removed]",
      "text/latex": [
       "$$T_{0}$$"
      ],
      "text/plain": [
       "T \n",
       " 0"
      ]
     },
     "execution_count": 18,
     "metadata": {},
     "output_type": "execute_result"
    }
   ],
   "source": [
    "T(0)"
   ]
  },
  {
   "cell_type": "code",
   "execution_count": 19,
   "metadata": {
    "collapsed": false,
    "deletable": true,
    "editable": true
   },
   "outputs": [
    {
     "data": {
      "image/png": "[encoded data removed]",
      "text/latex": [
       "$$\\left[\\begin{matrix}1 & 0\\\\0 & e^{\\frac{i \\pi}{4}}\\end{matrix}\\right]$$"
      ],
      "text/plain": [
       "⎡1   0  ⎤\n",
       "⎢       ⎥\n",
       "⎢    ⅈ⋅π⎥\n",
       "⎢    ───⎥\n",
       "⎢     4 ⎥\n",
       "⎣0  ℯ   ⎦"
      ]
     },
     "execution_count": 19,
     "metadata": {},
     "output_type": "execute_result"
    }
   ],
   "source": [
    "represent(T(0),nqubits=1)"
   ]
  },
  {
   "cell_type": "code",
   "execution_count": 20,
   "metadata": {
    "collapsed": false,
    "deletable": true,
    "editable": true
   },
   "outputs": [
    {
     "data": {
      "image/png": "[encoded data removed]",
      "text/latex": [
       "$$T_{0}^{-1}$$"
      ],
      "text/plain": [
       "    -1\n",
       "⎛T ⎞  \n",
       "⎝ 0⎠  "
      ]
     },
     "execution_count": 20,
     "metadata": {},
     "output_type": "execute_result"
    }
   ],
   "source": [
    "Dagger(T(0))"
   ]
  },
  {
   "cell_type": "code",
   "execution_count": 21,
   "metadata": {
    "collapsed": false,
    "deletable": true,
    "editable": true
   },
   "outputs": [
    {
     "data": {
      "image/png": "[encoded data removed]",
      "text/latex": [
       "$$\\left[\\begin{matrix}1 & 0\\\\0 & e^{- \\frac{i \\pi}{4}}\\end{matrix}\\right]$$"
      ],
      "text/plain": [
       "⎡1    0   ⎤\n",
       "⎢         ⎥\n",
       "⎢    -ⅈ⋅π ⎥\n",
       "⎢    ─────⎥\n",
       "⎢      4  ⎥\n",
       "⎣0  ℯ     ⎦"
      ]
     },
     "execution_count": 21,
     "metadata": {},
     "output_type": "execute_result"
    }
   ],
   "source": [
    "represent(Dagger(T(0)),nqubits=1)  "
   ]
  },
  {
   "cell_type": "code",
   "execution_count": 22,
   "metadata": {
    "collapsed": false,
    "deletable": true,
    "editable": true
   },
   "outputs": [
    {
     "data": {
      "image/png": "[encoded data removed]",
      "text/latex": [
       "$$\\left[\\begin{matrix}1 & 0\\\\0 & e^{- \\frac{i \\pi}{4}}\\end{matrix}\\right]$$"
      ],
      "text/plain": [
       "⎡1    0   ⎤\n",
       "⎢         ⎥\n",
       "⎢    -ⅈ⋅π ⎥\n",
       "⎢    ─────⎥\n",
       "⎢      4  ⎥\n",
       "⎣0  ℯ     ⎦"
      ]
     },
     "execution_count": 22,
     "metadata": {},
     "output_type": "execute_result"
    }
   ],
   "source": [
    "Dagger(T().get_target_matrix())  # get_target_matrix() はDaggerカッコの中"
   ]
  },
  {
   "cell_type": "code",
   "execution_count": 23,
   "metadata": {
    "collapsed": false,
    "deletable": true,
    "editable": true
   },
   "outputs": [
    {
     "data": {
      "image/png": "[encoded data removed]",
      "text/latex": [
       "$$\\left[\\begin{matrix}1 & 0\\\\0 & e^{- \\frac{i \\pi}{4}}\\end{matrix}\\right]$$"
      ],
      "text/plain": [
       "⎡1    0   ⎤\n",
       "⎢         ⎥\n",
       "⎢    -ⅈ⋅π ⎥\n",
       "⎢    ─────⎥\n",
       "⎢      4  ⎥\n",
       "⎣0  ℯ     ⎦"
      ]
     },
     "execution_count": 23,
     "metadata": {},
     "output_type": "execute_result"
    }
   ],
   "source": [
    "def Tdg(n): return T(n)**(-1)   # T^{\\dagger} としては、この演算子を使います。\n",
    "represent(Tdg(0),nqubits=1)"
   ]
  },
  {
   "cell_type": "markdown",
   "metadata": {
    "deletable": true,
    "editable": true
   },
   "source": [
    "#### ２量子ビット操作\n",
    "引数に渡す数字は２つ、作用させる量子ビットの位置を表します。省略すると 0 のみとなるため、そのあとの計算がうまくできません。  \n",
    "必ず、引数を指定するようにしましょう。\n",
    "\n",
    "\n",
    "* CNOT操作  \n",
    "次の $ 4 \\times 4 $ の行列です。 get_target_matrix() では表示できません。represent() を使います。  \n",
    "\n",
    "$ \\left( \\begin{array}{cccc} 1 & 0 & 0 & 0 \\\\ 0 & 1 & 0 & 0 \\\\ 0 & 0 & 0 & 1 \\\\ 0 & 0 & 1 & 0 \\end{array} \\right) $"
   ]
  },
  {
   "cell_type": "code",
   "execution_count": 24,
   "metadata": {
    "collapsed": false,
    "deletable": true,
    "editable": true
   },
   "outputs": [
    {
     "name": "stdout",
     "output_type": "stream",
     "text": [
      "controls=(1,),targets=(0,),gate=X(0)\n"
     ]
    },
    {
     "data": {
      "image/png": "[encoded data removed]",
      "text/latex": [
       "$$\\left[\\begin{matrix}1 & 0 & 0 & 0\\\\0 & 1 & 0 & 0\\\\0 & 0 & 0 & 1\\\\0 & 0 & 1 & 0\\end{matrix}\\right]$$"
      ],
      "text/plain": [
       "⎡1  0  0  0⎤\n",
       "⎢          ⎥\n",
       "⎢0  1  0  0⎥\n",
       "⎢          ⎥\n",
       "⎢0  0  0  1⎥\n",
       "⎢          ⎥\n",
       "⎣0  0  1  0⎦"
      ]
     },
     "execution_count": 24,
     "metadata": {},
     "output_type": "execute_result"
    }
   ],
   "source": [
    "CX=CNOT(1,0)\n",
    "print(\"controls=%s,targets=%s,gate=%s\" % (CX.controls, CX.targets, CX.gate))  # CNOTのプロパティ\n",
    "# CX.get_target_matrix() は、XGate になってしまいます。\n",
    "# pprint(CX.get_target_matrix())\n",
    "represent(CX,nqubits=2) # 行列形式で直接表現する方法"
   ]
  },
  {
   "cell_type": "markdown",
   "metadata": {
    "deletable": true,
    "editable": true
   },
   "source": [
    "* SWAP操作\n",
    "  \n",
    "指定された量子ビットを入れ替える操作です。"
   ]
  },
  {
   "cell_type": "code",
   "execution_count": 25,
   "metadata": {
    "collapsed": false,
    "deletable": true,
    "editable": true
   },
   "outputs": [
    {
     "name": "stdout",
     "output_type": "stream",
     "text": [
      "⎡1  0  0  0⎤\n",
      "⎢          ⎥\n",
      "⎢0  0  1  0⎥\n",
      "⎢          ⎥\n",
      "⎢0  1  0  0⎥\n",
      "⎢          ⎥\n",
      "⎣0  0  0  1⎦\n"
     ]
    },
    {
     "data": {
      "image/png": "[encoded data removed]",
      "text/latex": [
       "$$\\left[\\begin{matrix}1 & 0 & 0 & 0\\\\0 & 0 & 1 & 0\\\\0 & 1 & 0 & 0\\\\0 & 0 & 0 & 1\\end{matrix}\\right]$$"
      ],
      "text/plain": [
       "⎡1  0  0  0⎤\n",
       "⎢          ⎥\n",
       "⎢0  0  1  0⎥\n",
       "⎢          ⎥\n",
       "⎢0  1  0  0⎥\n",
       "⎢          ⎥\n",
       "⎣0  0  0  1⎦"
      ]
     },
     "execution_count": 25,
     "metadata": {},
     "output_type": "execute_result"
    }
   ],
   "source": [
    "pprint(SWAP(0,1).get_target_matrix())\n",
    "represent(SWAP(0,1),nqubits=2) # 行列形式で直接表現する方法"
   ]
  },
  {
   "cell_type": "markdown",
   "metadata": {
    "deletable": true,
    "editable": true
   },
   "source": [
    "* CPHASE操作  \n",
    "  \n",
    "制御Zゲート、Control-Z、CZ と呼ばれ、次の行列です。\n",
    "  \n",
    "$ \\left( \\begin{array}{cccc} 1 & 0 & 0 & 0 \\\\ 0 & 1 & 0 & 0 \\\\ 0 & 0 & 1 & 0 \\\\ 0 & 0 & 0 & -1 \\end{array} \\right) $"
   ]
  },
  {
   "cell_type": "code",
   "execution_count": 26,
   "metadata": {
    "collapsed": false,
    "deletable": true,
    "editable": true
   },
   "outputs": [
    {
     "data": {
      "image/png": "[encoded data removed]",
      "text/latex": [
       "$$C_{0}{\\left(Z_{1}\\right)}$$"
      ],
      "text/plain": [
       "C ⎛Z ⎞\n",
       " 0⎝ 1⎠"
      ]
     },
     "execution_count": 26,
     "metadata": {},
     "output_type": "execute_result"
    }
   ],
   "source": [
    "CPHASE(0,1)"
   ]
  },
  {
   "cell_type": "code",
   "execution_count": 27,
   "metadata": {
    "collapsed": false,
    "deletable": true,
    "editable": true
   },
   "outputs": [
    {
     "data": {
      "image/png": "[encoded data removed]",
      "text/latex": [
       "$$\\left[\\begin{matrix}1 & 0 & 0 & 0\\\\0 & 1 & 0 & 0\\\\0 & 0 & 1 & 0\\\\0 & 0 & 0 & -1\\end{matrix}\\right]$$"
      ],
      "text/plain": [
       "⎡1  0  0  0 ⎤\n",
       "⎢           ⎥\n",
       "⎢0  1  0  0 ⎥\n",
       "⎢           ⎥\n",
       "⎢0  0  1  0 ⎥\n",
       "⎢           ⎥\n",
       "⎣0  0  0  -1⎦"
      ]
     },
     "execution_count": 27,
     "metadata": {},
     "output_type": "execute_result"
    }
   ],
   "source": [
    "represent(CPHASE(0,1),nqubits=2)"
   ]
  },
  {
   "cell_type": "markdown",
   "metadata": {
    "deletable": true,
    "editable": true
   },
   "source": [
    "次に、テンソル積をいくつか試してみます。  \n"
   ]
  },
  {
   "cell_type": "code",
   "execution_count": 28,
   "metadata": {
    "collapsed": false,
    "deletable": true,
    "editable": true,
    "scrolled": true
   },
   "outputs": [
    {
     "name": "stdout",
     "output_type": "stream",
     "text": [
      "⎡0  0  1  0⎤\n",
      "⎢          ⎥\n",
      "⎢0  0  0  1⎥\n",
      "⎢          ⎥\n",
      "⎢1  0  0  0⎥\n",
      "⎢          ⎥\n",
      "⎣0  1  0  0⎦\n"
     ]
    },
    {
     "data": {
      "image/png": "[encoded data removed]",
      "text/latex": [
       "$$X_{1} \\cdot 1_{0}$$"
      ],
      "text/plain": [
       "X ⋅1 \n",
       " 1  0"
      ]
     },
     "execution_count": 28,
     "metadata": {},
     "output_type": "execute_result"
    }
   ],
   "source": [
    "Op1 = X(1)*_I(0)\n",
    "pprint(TensorProduct(X().get_target_matrix(),_I().get_target_matrix())) # Op1 を行列形式で直接プリントできる方法があるかも？なかったら作ります\n",
    "Op1"
   ]
  },
  {
   "cell_type": "code",
   "execution_count": 29,
   "metadata": {
    "collapsed": false,
    "deletable": true,
    "editable": true
   },
   "outputs": [
    {
     "data": {
      "image/png": "[encoded data removed]",
      "text/latex": [
       "$$1_{0} X_{1}$$"
      ],
      "text/plain": [
       "1 ⋅X \n",
       " 0  1"
      ]
     },
     "execution_count": 29,
     "metadata": {},
     "output_type": "execute_result"
    }
   ],
   "source": [
    "# 標準の１量子ビット操作のユニタリ演算は、その掛け算の順番よりも、指定した量子ビット（引数）がポイントとなります。\n",
    "# 順番が大切になるのは、同じ位置の量子ビットに作用する場合で、積の交換はできません。\n",
    "Op1_ = _I(0)*X(1)\n",
    "Op1_"
   ]
  },
  {
   "cell_type": "code",
   "execution_count": 30,
   "metadata": {
    "collapsed": false,
    "deletable": true,
    "editable": true
   },
   "outputs": [
    {
     "name": "stdout",
     "output_type": "stream",
     "text": [
      "⎡0  1  0  0⎤\n",
      "⎢          ⎥\n",
      "⎢1  0  0  0⎥\n",
      "⎢          ⎥\n",
      "⎢0  0  0  1⎥\n",
      "⎢          ⎥\n",
      "⎣0  0  1  0⎦\n"
     ]
    },
    {
     "data": {
      "image/png": "[encoded data removed]",
      "text/latex": [
       "$$1_{1} X_{0}$$"
      ],
      "text/plain": [
       "1 ⋅X \n",
       " 1  0"
      ]
     },
     "execution_count": 30,
     "metadata": {},
     "output_type": "execute_result"
    }
   ],
   "source": [
    "Op2 = _I(1)*X(0)\n",
    "pprint(TensorProduct(_I().get_target_matrix(),X().get_target_matrix())) # Op2 を行列形式で直接プリントできる方法があるかも？なかったら作ります\n",
    "Op2"
   ]
  },
  {
   "cell_type": "markdown",
   "metadata": {
    "deletable": true,
    "editable": true
   },
   "source": [
    "（余談）テンソル積の計算構造をツリー構造で表示できます。"
   ]
  },
  {
   "cell_type": "code",
   "execution_count": 31,
   "metadata": {
    "collapsed": false,
    "deletable": true,
    "editable": true
   },
   "outputs": [
    {
     "data": {
      "image/svg+xml": [
       "<?xml version=\"1.0\" encoding=\"UTF-8\" standalone=\"no\"?>\n",
       "<!DOCTYPE svg PUBLIC \"-//W3C//DTD SVG 1.1//EN\"\n",
       " \"http://www.w3.org/Graphics/SVG/1.1/DTD/svg11.dtd\">\n",
       "<!-- Generated by graphviz version 2.40.1 (20161225.0304)\n",
       " -->\n",
       "<!-- Title: %3 Pages: 1 -->\n",
       "<svg width=\"200pt\" height=\"188pt\"\n",
       " viewBox=\"0.00 0.00 200.49 188.00\" xmlns=\"http://www.w3.org/2000/svg\" xmlns:xlink=\"http://www.w3.org/1999/xlink\">\n",
       "<g id=\"graph0\" class=\"graph\" transform=\"scale(1 1) rotate(0) translate(4 184)\">\n",
       "<title>%3</title>\n",
       "<polygon fill=\"#ffffff\" stroke=\"transparent\" points=\"-4,4 -4,-184 196.4939,-184 196.4939,4 -4,4\"/>\n",
       "<!-- Mul(IdentityGate(Zero()), XGate(One()))_() -->\n",
       "<g id=\"node1\" class=\"node\">\n",
       "<title>Mul(IdentityGate(Zero()), XGate(One()))_()</title>\n",
       "<ellipse fill=\"none\" stroke=\"#000000\" cx=\"85.1871\" cy=\"-162\" rx=\"27\" ry=\"18\"/>\n",
       "<text text-anchor=\"middle\" x=\"85.1871\" y=\"-157.8\" font-family=\"Times,serif\" font-size=\"14.00\" fill=\"#000000\">Mul</text>\n",
       "</g>\n",
       "<!-- XGate(One())_(0,) -->\n",
       "<g id=\"node2\" class=\"node\">\n",
       "<title>XGate(One())_(0,)</title>\n",
       "<ellipse fill=\"none\" stroke=\"#000000\" cx=\"33.1871\" cy=\"-90\" rx=\"33.3752\" ry=\"18\"/>\n",
       "<text text-anchor=\"middle\" x=\"33.1871\" y=\"-85.8\" font-family=\"Times,serif\" font-size=\"14.00\" fill=\"#000000\">XGate</text>\n",
       "</g>\n",
       "<!-- Mul(IdentityGate(Zero()), XGate(One()))_()&#45;&gt;XGate(One())_(0,) -->\n",
       "<g id=\"edge1\" class=\"edge\">\n",
       "<title>Mul(IdentityGate(Zero()), XGate(One()))_()&#45;&gt;XGate(One())_(0,)</title>\n",
       "<path fill=\"none\" stroke=\"#000000\" d=\"M73.3875,-145.6621C66.8326,-136.5861 58.5406,-125.1049 51.1925,-114.9306\"/>\n",
       "<polygon fill=\"#000000\" stroke=\"#000000\" points=\"53.9932,-112.8305 45.3008,-106.7729 48.3184,-116.929 53.9932,-112.8305\"/>\n",
       "</g>\n",
       "<!-- IdentityGate(Zero())_(1,) -->\n",
       "<g id=\"node4\" class=\"node\">\n",
       "<title>IdentityGate(Zero())_(1,)</title>\n",
       "<ellipse fill=\"none\" stroke=\"#000000\" cx=\"138.1871\" cy=\"-90\" rx=\"54.1144\" ry=\"18\"/>\n",
       "<text text-anchor=\"middle\" x=\"138.1871\" y=\"-85.8\" font-family=\"Times,serif\" font-size=\"14.00\" fill=\"#000000\">IdentityGate</text>\n",
       "</g>\n",
       "<!-- Mul(IdentityGate(Zero()), XGate(One()))_()&#45;&gt;IdentityGate(Zero())_(1,) -->\n",
       "<g id=\"edge2\" class=\"edge\">\n",
       "<title>Mul(IdentityGate(Zero()), XGate(One()))_()&#45;&gt;IdentityGate(Zero())_(1,)</title>\n",
       "<path fill=\"none\" stroke=\"#000000\" d=\"M97.2136,-145.6621C103.7514,-136.7806 111.9845,-125.5959 119.3526,-115.5864\"/>\n",
       "<polygon fill=\"#000000\" stroke=\"#000000\" points=\"122.1726,-117.6594 125.2822,-107.5312 116.5353,-113.5097 122.1726,-117.6594\"/>\n",
       "</g>\n",
       "<!-- One()_(0, 0) -->\n",
       "<g id=\"node3\" class=\"node\">\n",
       "<title>One()_(0, 0)</title>\n",
       "<ellipse fill=\"none\" stroke=\"#000000\" cx=\"33.1871\" cy=\"-18\" rx=\"27\" ry=\"18\"/>\n",
       "<text text-anchor=\"middle\" x=\"33.1871\" y=\"-13.8\" font-family=\"Times,serif\" font-size=\"14.00\" fill=\"#000000\">1</text>\n",
       "</g>\n",
       "<!-- XGate(One())_(0,)&#45;&gt;One()_(0, 0) -->\n",
       "<g id=\"edge3\" class=\"edge\">\n",
       "<title>XGate(One())_(0,)&#45;&gt;One()_(0, 0)</title>\n",
       "<path fill=\"none\" stroke=\"#000000\" d=\"M33.1871,-71.8314C33.1871,-64.131 33.1871,-54.9743 33.1871,-46.4166\"/>\n",
       "<polygon fill=\"#000000\" stroke=\"#000000\" points=\"36.6872,-46.4132 33.1871,-36.4133 29.6872,-46.4133 36.6872,-46.4132\"/>\n",
       "</g>\n",
       "<!-- Zero()_(1, 0) -->\n",
       "<g id=\"node5\" class=\"node\">\n",
       "<title>Zero()_(1, 0)</title>\n",
       "<ellipse fill=\"none\" stroke=\"#000000\" cx=\"138.1871\" cy=\"-18\" rx=\"27\" ry=\"18\"/>\n",
       "<text text-anchor=\"middle\" x=\"138.1871\" y=\"-13.8\" font-family=\"Times,serif\" font-size=\"14.00\" fill=\"#000000\">0</text>\n",
       "</g>\n",
       "<!-- IdentityGate(Zero())_(1,)&#45;&gt;Zero()_(1, 0) -->\n",
       "<g id=\"edge4\" class=\"edge\">\n",
       "<title>IdentityGate(Zero())_(1,)&#45;&gt;Zero()_(1, 0)</title>\n",
       "<path fill=\"none\" stroke=\"#000000\" d=\"M138.1871,-71.8314C138.1871,-64.131 138.1871,-54.9743 138.1871,-46.4166\"/>\n",
       "<polygon fill=\"#000000\" stroke=\"#000000\" points=\"141.6872,-46.4132 138.1871,-36.4133 134.6872,-46.4133 141.6872,-46.4132\"/>\n",
       "</g>\n",
       "</g>\n",
       "</svg>\n"
      ],
      "text/plain": [
       "<graphviz.files.Source at 0x1101dc7b8>"
      ]
     },
     "execution_count": 31,
     "metadata": {},
     "output_type": "execute_result"
    }
   ],
   "source": [
    "from sympy.printing.dot import dotprint\n",
    "from graphviz import Source\n",
    "Source(dotprint(Op1)) # Jupyter NotebookやQtConsoleでは、ツリー構造が表示できます。"
   ]
  },
  {
   "cell_type": "code",
   "execution_count": 32,
   "metadata": {
    "collapsed": false,
    "deletable": true,
    "editable": true
   },
   "outputs": [
    {
     "data": {
      "image/svg+xml": [
       "<?xml version=\"1.0\" encoding=\"UTF-8\" standalone=\"no\"?>\n",
       "<!DOCTYPE svg PUBLIC \"-//W3C//DTD SVG 1.1//EN\"\n",
       " \"http://www.w3.org/Graphics/SVG/1.1/DTD/svg11.dtd\">\n",
       "<!-- Generated by graphviz version 2.40.1 (20161225.0304)\n",
       " -->\n",
       "<!-- Title: %3 Pages: 1 -->\n",
       "<svg width=\"200pt\" height=\"188pt\"\n",
       " viewBox=\"0.00 0.00 200.49 188.00\" xmlns=\"http://www.w3.org/2000/svg\" xmlns:xlink=\"http://www.w3.org/1999/xlink\">\n",
       "<g id=\"graph0\" class=\"graph\" transform=\"scale(1 1) rotate(0) translate(4 184)\">\n",
       "<title>%3</title>\n",
       "<polygon fill=\"#ffffff\" stroke=\"transparent\" points=\"-4,4 -4,-184 196.4939,-184 196.4939,4 -4,4\"/>\n",
       "<!-- Mul(IdentityGate(One()), XGate(Zero()))_() -->\n",
       "<g id=\"node1\" class=\"node\">\n",
       "<title>Mul(IdentityGate(One()), XGate(Zero()))_()</title>\n",
       "<ellipse fill=\"none\" stroke=\"#000000\" cx=\"106.3069\" cy=\"-162\" rx=\"27\" ry=\"18\"/>\n",
       "<text text-anchor=\"middle\" x=\"106.3069\" y=\"-157.8\" font-family=\"Times,serif\" font-size=\"14.00\" fill=\"#000000\">Mul</text>\n",
       "</g>\n",
       "<!-- IdentityGate(One())_(0,) -->\n",
       "<g id=\"node2\" class=\"node\">\n",
       "<title>IdentityGate(One())_(0,)</title>\n",
       "<ellipse fill=\"none\" stroke=\"#000000\" cx=\"54.3069\" cy=\"-90\" rx=\"54.1144\" ry=\"18\"/>\n",
       "<text text-anchor=\"middle\" x=\"54.3069\" y=\"-85.8\" font-family=\"Times,serif\" font-size=\"14.00\" fill=\"#000000\">IdentityGate</text>\n",
       "</g>\n",
       "<!-- Mul(IdentityGate(One()), XGate(Zero()))_()&#45;&gt;IdentityGate(One())_(0,) -->\n",
       "<g id=\"edge1\" class=\"edge\">\n",
       "<title>Mul(IdentityGate(One()), XGate(Zero()))_()&#45;&gt;IdentityGate(One())_(0,)</title>\n",
       "<path fill=\"none\" stroke=\"#000000\" d=\"M94.5073,-145.6621C88.157,-136.8694 80.1764,-125.8194 73.0031,-115.887\"/>\n",
       "<polygon fill=\"#000000\" stroke=\"#000000\" points=\"75.6606,-113.5888 66.9683,-107.5312 69.9858,-117.6872 75.6606,-113.5888\"/>\n",
       "</g>\n",
       "<!-- XGate(Zero())_(1,) -->\n",
       "<g id=\"node4\" class=\"node\">\n",
       "<title>XGate(Zero())_(1,)</title>\n",
       "<ellipse fill=\"none\" stroke=\"#000000\" cx=\"159.3069\" cy=\"-90\" rx=\"33.3752\" ry=\"18\"/>\n",
       "<text text-anchor=\"middle\" x=\"159.3069\" y=\"-85.8\" font-family=\"Times,serif\" font-size=\"14.00\" fill=\"#000000\">XGate</text>\n",
       "</g>\n",
       "<!-- Mul(IdentityGate(One()), XGate(Zero()))_()&#45;&gt;XGate(Zero())_(1,) -->\n",
       "<g id=\"edge2\" class=\"edge\">\n",
       "<title>Mul(IdentityGate(One()), XGate(Zero()))_()&#45;&gt;XGate(Zero())_(1,)</title>\n",
       "<path fill=\"none\" stroke=\"#000000\" d=\"M118.3334,-145.6621C125.0143,-136.5861 133.4657,-125.1049 140.9552,-114.9306\"/>\n",
       "<polygon fill=\"#000000\" stroke=\"#000000\" points=\"143.8506,-116.9012 146.9602,-106.7729 138.2133,-112.7514 143.8506,-116.9012\"/>\n",
       "</g>\n",
       "<!-- One()_(0, 0) -->\n",
       "<g id=\"node3\" class=\"node\">\n",
       "<title>One()_(0, 0)</title>\n",
       "<ellipse fill=\"none\" stroke=\"#000000\" cx=\"54.3069\" cy=\"-18\" rx=\"27\" ry=\"18\"/>\n",
       "<text text-anchor=\"middle\" x=\"54.3069\" y=\"-13.8\" font-family=\"Times,serif\" font-size=\"14.00\" fill=\"#000000\">1</text>\n",
       "</g>\n",
       "<!-- IdentityGate(One())_(0,)&#45;&gt;One()_(0, 0) -->\n",
       "<g id=\"edge3\" class=\"edge\">\n",
       "<title>IdentityGate(One())_(0,)&#45;&gt;One()_(0, 0)</title>\n",
       "<path fill=\"none\" stroke=\"#000000\" d=\"M54.3069,-71.8314C54.3069,-64.131 54.3069,-54.9743 54.3069,-46.4166\"/>\n",
       "<polygon fill=\"#000000\" stroke=\"#000000\" points=\"57.807,-46.4132 54.3069,-36.4133 50.807,-46.4133 57.807,-46.4132\"/>\n",
       "</g>\n",
       "<!-- Zero()_(1, 0) -->\n",
       "<g id=\"node5\" class=\"node\">\n",
       "<title>Zero()_(1, 0)</title>\n",
       "<ellipse fill=\"none\" stroke=\"#000000\" cx=\"159.3069\" cy=\"-18\" rx=\"27\" ry=\"18\"/>\n",
       "<text text-anchor=\"middle\" x=\"159.3069\" y=\"-13.8\" font-family=\"Times,serif\" font-size=\"14.00\" fill=\"#000000\">0</text>\n",
       "</g>\n",
       "<!-- XGate(Zero())_(1,)&#45;&gt;Zero()_(1, 0) -->\n",
       "<g id=\"edge4\" class=\"edge\">\n",
       "<title>XGate(Zero())_(1,)&#45;&gt;Zero()_(1, 0)</title>\n",
       "<path fill=\"none\" stroke=\"#000000\" d=\"M159.3069,-71.8314C159.3069,-64.131 159.3069,-54.9743 159.3069,-46.4166\"/>\n",
       "<polygon fill=\"#000000\" stroke=\"#000000\" points=\"162.807,-46.4132 159.3069,-36.4133 155.807,-46.4133 162.807,-46.4132\"/>\n",
       "</g>\n",
       "</g>\n",
       "</svg>\n"
      ],
      "text/plain": [
       "<graphviz.files.Source at 0x1101dc470>"
      ]
     },
     "execution_count": 32,
     "metadata": {},
     "output_type": "execute_result"
    }
   ],
   "source": [
    "Source(dotprint(Op2))  # 内部的な構造のため、通常の量子計算では不要です。"
   ]
  },
  {
   "cell_type": "markdown",
   "metadata": {
    "deletable": true,
    "editable": true
   },
   "source": [
    "* Walsh–Hadamard 変換（8量子ビット）"
   ]
  },
  {
   "cell_type": "code",
   "execution_count": 33,
   "metadata": {
    "collapsed": false,
    "deletable": true,
    "editable": true
   },
   "outputs": [
    {
     "name": "stdout",
     "output_type": "stream",
     "text": [
      "H(7)*H(6)*H(5)*H(4)*H(3)*H(2)*H(1)*H(0)\n",
      "\n",
      "\n",
      "H ⋅H ⋅H ⋅H ⋅H ⋅H ⋅H ⋅H \n",
      " 7  6  5  4  3  2  1  0\n"
     ]
    },
    {
     "data": {
      "image/png": "[encoded data removed]",
      "text/latex": [
       "$$H_{7} H_{6} H_{5} H_{4} H_{3} H_{2} H_{1} H_{0}$$"
      ],
      "text/plain": [
       "H ⋅H ⋅H ⋅H ⋅H ⋅H ⋅H ⋅H \n",
       " 7  6  5  4  3  2  1  0"
      ]
     },
     "execution_count": 33,
     "metadata": {},
     "output_type": "execute_result"
    }
   ],
   "source": [
    "def hadamard(s,n):\n",
    "    h = H(s)\n",
    "    for i in range(s+1,n+s):\n",
    "       h = H(i)*h\n",
    "    return h\n",
    "\n",
    "h_8 = hadamard(0,8)\n",
    "print(h_8)\n",
    "print(\"\\n\")\n",
    "pprint(h_8)    # = pretty_print(h_8)\n",
    "# h8.get_target_matrix() は実装がなく、エラーになります\n",
    "h_8"
   ]
  },
  {
   "cell_type": "code",
   "execution_count": 34,
   "metadata": {
    "collapsed": false,
    "deletable": true,
    "editable": true
   },
   "outputs": [
    {
     "data": {
      "image/png": "[encoded data removed]",
      "text/latex": [
       "$$\\left[\\begin{array}{cccccccccccccccc}\\frac{1}{4} & \\frac{1}{4} & \\frac{1}{4} & \\frac{1}{4} & \\frac{1}{4} & \\frac{1}{4} & \\frac{1}{4} & \\frac{1}{4} & \\frac{1}{4} & \\frac{1}{4} & \\frac{1}{4} & \\frac{1}{4} & \\frac{1}{4} & \\frac{1}{4} & \\frac{1}{4} & \\frac{1}{4}\\\\\\frac{1}{4} & - \\frac{1}{4} & \\frac{1}{4} & - \\frac{1}{4} & \\frac{1}{4} & - \\frac{1}{4} & \\frac{1}{4} & - \\frac{1}{4} & \\frac{1}{4} & - \\frac{1}{4} & \\frac{1}{4} & - \\frac{1}{4} & \\frac{1}{4} & - \\frac{1}{4} & \\frac{1}{4} & - \\frac{1}{4}\\\\\\frac{1}{4} & \\frac{1}{4} & - \\frac{1}{4} & - \\frac{1}{4} & \\frac{1}{4} & \\frac{1}{4} & - \\frac{1}{4} & - \\frac{1}{4} & \\frac{1}{4} & \\frac{1}{4} & - \\frac{1}{4} & - \\frac{1}{4} & \\frac{1}{4} & \\frac{1}{4} & - \\frac{1}{4} & - \\frac{1}{4}\\\\\\frac{1}{4} & - \\frac{1}{4} & - \\frac{1}{4} & \\frac{1}{4} & \\frac{1}{4} & - \\frac{1}{4} & - \\frac{1}{4} & \\frac{1}{4} & \\frac{1}{4} & - \\frac{1}{4} & - \\frac{1}{4} & \\frac{1}{4} & \\frac{1}{4} & - \\frac{1}{4} & - \\frac{1}{4} & \\frac{1}{4}\\\\\\frac{1}{4} & \\frac{1}{4} & \\frac{1}{4} & \\frac{1}{4} & - \\frac{1}{4} & - \\frac{1}{4} & - \\frac{1}{4} & - \\frac{1}{4} & \\frac{1}{4} & \\frac{1}{4} & \\frac{1}{4} & \\frac{1}{4} & - \\frac{1}{4} & - \\frac{1}{4} & - \\frac{1}{4} & - \\frac{1}{4}\\\\\\frac{1}{4} & - \\frac{1}{4} & \\frac{1}{4} & - \\frac{1}{4} & - \\frac{1}{4} & \\frac{1}{4} & - \\frac{1}{4} & \\frac{1}{4} & \\frac{1}{4} & - \\frac{1}{4} & \\frac{1}{4} & - \\frac{1}{4} & - \\frac{1}{4} & \\frac{1}{4} & - \\frac{1}{4} & \\frac{1}{4}\\\\\\frac{1}{4} & \\frac{1}{4} & - \\frac{1}{4} & - \\frac{1}{4} & - \\frac{1}{4} & - \\frac{1}{4} & \\frac{1}{4} & \\frac{1}{4} & \\frac{1}{4} & \\frac{1}{4} & - \\frac{1}{4} & - \\frac{1}{4} & - \\frac{1}{4} & - \\frac{1}{4} & \\frac{1}{4} & \\frac{1}{4}\\\\\\frac{1}{4} & - \\frac{1}{4} & - \\frac{1}{4} & \\frac{1}{4} & - \\frac{1}{4} & \\frac{1}{4} & \\frac{1}{4} & - \\frac{1}{4} & \\frac{1}{4} & - \\frac{1}{4} & - \\frac{1}{4} & \\frac{1}{4} & - \\frac{1}{4} & \\frac{1}{4} & \\frac{1}{4} & - \\frac{1}{4}\\\\\\frac{1}{4} & \\frac{1}{4} & \\frac{1}{4} & \\frac{1}{4} & \\frac{1}{4} & \\frac{1}{4} & \\frac{1}{4} & \\frac{1}{4} & - \\frac{1}{4} & - \\frac{1}{4} & - \\frac{1}{4} & - \\frac{1}{4} & - \\frac{1}{4} & - \\frac{1}{4} & - \\frac{1}{4} & - \\frac{1}{4}\\\\\\frac{1}{4} & - \\frac{1}{4} & \\frac{1}{4} & - \\frac{1}{4} & \\frac{1}{4} & - \\frac{1}{4} & \\frac{1}{4} & - \\frac{1}{4} & - \\frac{1}{4} & \\frac{1}{4} & - \\frac{1}{4} & \\frac{1}{4} & - \\frac{1}{4} & \\frac{1}{4} & - \\frac{1}{4} & \\frac{1}{4}\\\\\\frac{1}{4} & \\frac{1}{4} & - \\frac{1}{4} & - \\frac{1}{4} & \\frac{1}{4} & \\frac{1}{4} & - \\frac{1}{4} & - \\frac{1}{4} & - \\frac{1}{4} & - \\frac{1}{4} & \\frac{1}{4} & \\frac{1}{4} & - \\frac{1}{4} & - \\frac{1}{4} & \\frac{1}{4} & \\frac{1}{4}\\\\\\frac{1}{4} & - \\frac{1}{4} & - \\frac{1}{4} & \\frac{1}{4} & \\frac{1}{4} & - \\frac{1}{4} & - \\frac{1}{4} & \\frac{1}{4} & - \\frac{1}{4} & \\frac{1}{4} & \\frac{1}{4} & - \\frac{1}{4} & - \\frac{1}{4} & \\frac{1}{4} & \\frac{1}{4} & - \\frac{1}{4}\\\\\\frac{1}{4} & \\frac{1}{4} & \\frac{1}{4} & \\frac{1}{4} & - \\frac{1}{4} & - \\frac{1}{4} & - \\frac{1}{4} & - \\frac{1}{4} & - \\frac{1}{4} & - \\frac{1}{4} & - \\frac{1}{4} & - \\frac{1}{4} & \\frac{1}{4} & \\frac{1}{4} & \\frac{1}{4} & \\frac{1}{4}\\\\\\frac{1}{4} & - \\frac{1}{4} & \\frac{1}{4} & - \\frac{1}{4} & - \\frac{1}{4} & \\frac{1}{4} & - \\frac{1}{4} & \\frac{1}{4} & - \\frac{1}{4} & \\frac{1}{4} & - \\frac{1}{4} & \\frac{1}{4} & \\frac{1}{4} & - \\frac{1}{4} & \\frac{1}{4} & - \\frac{1}{4}\\\\\\frac{1}{4} & \\frac{1}{4} & - \\frac{1}{4} & - \\frac{1}{4} & - \\frac{1}{4} & - \\frac{1}{4} & \\frac{1}{4} & \\frac{1}{4} & - \\frac{1}{4} & - \\frac{1}{4} & \\frac{1}{4} & \\frac{1}{4} & \\frac{1}{4} & \\frac{1}{4} & - \\frac{1}{4} & - \\frac{1}{4}\\\\\\frac{1}{4} & - \\frac{1}{4} & - \\frac{1}{4} & \\frac{1}{4} & - \\frac{1}{4} & \\frac{1}{4} & \\frac{1}{4} & - \\frac{1}{4} & - \\frac{1}{4} & \\frac{1}{4} & \\frac{1}{4} & - \\frac{1}{4} & \\frac{1}{4} & - \\frac{1}{4} & - \\frac{1}{4} & \\frac{1}{4}\\end{array}\\right]$$"
      ],
      "text/plain": [
       "⎡1/4  1/4   1/4   1/4   1/4   1/4   1/4   1/4   1/4   1/4   1/4   1/4   1/4   \n",
       "⎢                                                                             \n",
       "⎢1/4  -1/4  1/4   -1/4  1/4   -1/4  1/4   -1/4  1/4   -1/4  1/4   -1/4  1/4   \n",
       "⎢                                                                             \n",
       "⎢1/4  1/4   -1/4  -1/4  1/4   1/4   -1/4  -1/4  1/4   1/4   -1/4  -1/4  1/4   \n",
       "⎢                                                                             \n",
       "⎢1/4  -1/4  -1/4  1/4   1/4   -1/4  -1/4  1/4   1/4   -1/4  -1/4  1/4   1/4   \n",
       "⎢                                                                             \n",
       "⎢1/4  1/4   1/4   1/4   -1/4  -1/4  -1/4  -1/4  1/4   1/4   1/4   1/4   -1/4  \n",
       "⎢                                                                             \n",
       "⎢1/4  -1/4  1/4   -1/4  -1/4  1/4   -1/4  1/4   1/4   -1/4  1/4   -1/4  -1/4  \n",
       "⎢                                                                             \n",
       "⎢1/4  1/4   -1/4  -1/4  -1/4  -1/4  1/4   1/4   1/4   1/4   -1/4  -1/4  -1/4  \n",
       "⎢                                                                             \n",
       "⎢1/4  -1/4  -1/4  1/4   -1/4  1/4   1/4   -1/4  1/4   -1/4  -1/4  1/4   -1/4  \n",
       "⎢                                                                             \n",
       "⎢1/4  1/4   1/4   1/4   1/4   1/4   1/4   1/4   -1/4  -1/4  -1/4  -1/4  -1/4  \n",
       "⎢                                                                             \n",
       "⎢1/4  -1/4  1/4   -1/4  1/4   -1/4  1/4   -1/4  -1/4  1/4   -1/4  1/4   -1/4  \n",
       "⎢                                                                             \n",
       "⎢1/4  1/4   -1/4  -1/4  1/4   1/4   -1/4  -1/4  -1/4  -1/4  1/4   1/4   -1/4  \n",
       "⎢                                                                             \n",
       "⎢1/4  -1/4  -1/4  1/4   1/4   -1/4  -1/4  1/4   -1/4  1/4   1/4   -1/4  -1/4  \n",
       "⎢                                                                             \n",
       "⎢1/4  1/4   1/4   1/4   -1/4  -1/4  -1/4  -1/4  -1/4  -1/4  -1/4  -1/4  1/4   \n",
       "⎢                                                                             \n",
       "⎢1/4  -1/4  1/4   -1/4  -1/4  1/4   -1/4  1/4   -1/4  1/4   -1/4  1/4   1/4   \n",
       "⎢                                                                             \n",
       "⎢1/4  1/4   -1/4  -1/4  -1/4  -1/4  1/4   1/4   -1/4  -1/4  1/4   1/4   1/4   \n",
       "⎢                                                                             \n",
       "⎣1/4  -1/4  -1/4  1/4   -1/4  1/4   1/4   -1/4  -1/4  1/4   1/4   -1/4  1/4   \n",
       "\n",
       "1/4   1/4   1/4 ⎤\n",
       "                ⎥\n",
       "-1/4  1/4   -1/4⎥\n",
       "                ⎥\n",
       "1/4   -1/4  -1/4⎥\n",
       "                ⎥\n",
       "-1/4  -1/4  1/4 ⎥\n",
       "                ⎥\n",
       "-1/4  -1/4  -1/4⎥\n",
       "                ⎥\n",
       "1/4   -1/4  1/4 ⎥\n",
       "                ⎥\n",
       "-1/4  1/4   1/4 ⎥\n",
       "                ⎥\n",
       "1/4   1/4   -1/4⎥\n",
       "                ⎥\n",
       "-1/4  -1/4  -1/4⎥\n",
       "                ⎥\n",
       "1/4   -1/4  1/4 ⎥\n",
       "                ⎥\n",
       "-1/4  1/4   1/4 ⎥\n",
       "                ⎥\n",
       "1/4   1/4   -1/4⎥\n",
       "                ⎥\n",
       "1/4   1/4   1/4 ⎥\n",
       "                ⎥\n",
       "-1/4  1/4   -1/4⎥\n",
       "                ⎥\n",
       "1/4   -1/4  -1/4⎥\n",
       "                ⎥\n",
       "-1/4  -1/4  1/4 ⎦"
      ]
     },
     "execution_count": 34,
     "metadata": {},
     "output_type": "execute_result"
    }
   ],
   "source": [
    "h_4 = hadamard(0,4)\n",
    "represent(h_4,nqubits=4)"
   ]
  },
  {
   "cell_type": "markdown",
   "metadata": {
    "deletable": true,
    "editable": true
   },
   "source": [
    "#### 量子回路図\n",
    "\n",
    "ユニタリ行列のテンソル積は、量子回路として、量子回路図で表現できます。  \n",
    "SymPy には、量子回路図を描画するための仕組みが備わっています。量子回路図を描いてみましょう。"
   ]
  },
  {
   "cell_type": "code",
   "execution_count": 35,
   "metadata": {
    "collapsed": true,
    "deletable": true,
    "editable": true
   },
   "outputs": [],
   "source": [
    "# そのために、まずは、必要なライブラリを読み込んで準備します。\n",
    "%matplotlib inline\n",
    "import matplotlib.pyplot as plt\n",
    "from sympy.physics.quantum.circuitplot import CircuitPlot,labeller, Mz,CreateOneQubitGate"
   ]
  },
  {
   "cell_type": "markdown",
   "metadata": {
    "deletable": true,
    "editable": true
   },
   "source": [
    "CNOTゲートを描いてみましょう。"
   ]
  },
  {
   "cell_type": "code",
   "execution_count": 36,
   "metadata": {
    "collapsed": false,
    "deletable": true,
    "editable": true
   },
   "outputs": [
    {
     "data": {
      "text/plain": [
       "<sympy.physics.quantum.circuitplot.CircuitPlot at 0x11146eb70>"
      ]
     },
     "execution_count": 36,
     "metadata": {},
     "output_type": "execute_result"
    },
    {
     "data": {
      "image/png": "[encoded data removed]",
      "text/plain": [
       "<matplotlib.figure.Figure at 0x11146ea20>"
      ]
     },
     "metadata": {},
     "output_type": "display_data"
    }
   ],
   "source": [
    "CircuitPlot(CNOT(1,0), 2, labels=labeller(2,'\\phi')[::-1])  # labellerでつくられる添え字の上下が逆？"
   ]
  },
  {
   "cell_type": "markdown",
   "metadata": {
    "deletable": true,
    "editable": true
   },
   "source": [
    "†（ダガー）付きのゲート演算子など、ゲートの自作もできます。"
   ]
  },
  {
   "cell_type": "code",
   "execution_count": 37,
   "metadata": {
    "collapsed": false,
    "deletable": true,
    "editable": true
   },
   "outputs": [
    {
     "data": {
      "text/plain": [
       "<sympy.physics.quantum.circuitplot.CircuitPlot at 0x1114e67b8>"
      ]
     },
     "execution_count": 37,
     "metadata": {},
     "output_type": "execute_result"
    },
    {
     "data": {
      "image/png": "[encoded data removed]",
      "text/plain": [
       "<matplotlib.figure.Figure at 0x1119b3da0>"
      ]
     },
     "metadata": {},
     "output_type": "display_data"
    }
   ],
   "source": [
    "Sdag = CreateOneQubitGate('Sdg','S^{\\dagger}')\n",
    "Tdag = CreateOneQubitGate('Tdg','T^{\\dagger}')\n",
    "CircuitPlot(Sdag(0)*Tdag(0),nqubits=1)"
   ]
  },
  {
   "cell_type": "markdown",
   "metadata": {
    "deletable": true,
    "editable": true
   },
   "source": [
    "ある回路を描いてみましょう。  \n",
    "テンソル積は、右から順番に量子ビットに作用します。一方、ゲート回路図は左から順番になります。操作の順番に注意してください。"
   ]
  },
  {
   "cell_type": "code",
   "execution_count": 38,
   "metadata": {
    "collapsed": false,
    "deletable": true,
    "editable": true
   },
   "outputs": [
    {
     "data": {
      "text/plain": [
       "<sympy.physics.quantum.circuitplot.CircuitPlot at 0x1121bb940>"
      ]
     },
     "execution_count": 38,
     "metadata": {},
     "output_type": "execute_result"
    },
    {
     "data": {
      "image/png": "[encoded data removed]",
      "text/plain": [
       "<matplotlib.figure.Figure at 0x1121bbe10>"
      ]
     },
     "metadata": {},
     "output_type": "display_data"
    }
   ],
   "source": [
    "CircuitPlot(CNOT(1,0)*S(1), 2, labels=labeller(2)[::-1])  # 操作の順番に注意してください。"
   ]
  },
  {
   "cell_type": "code",
   "execution_count": 39,
   "metadata": {
    "collapsed": false,
    "deletable": true,
    "editable": true
   },
   "outputs": [
    {
     "data": {
      "text/plain": [
       "<sympy.physics.quantum.circuitplot.CircuitPlot at 0x11223e9b0>"
      ]
     },
     "execution_count": 39,
     "metadata": {},
     "output_type": "execute_result"
    },
    {
     "data": {
      "image/png": "[encoded data removed]",
      "text/plain": [
       "<matplotlib.figure.Figure at 0x11223ea20>"
      ]
     },
     "metadata": {},
     "output_type": "display_data"
    }
   ],
   "source": [
    "CircuitPlot(S(1)*H(0)*CNOT(1,0)*S(1)*H(1), 2, labels=labeller(2)[::-1])  "
   ]
  },
  {
   "cell_type": "markdown",
   "metadata": {
    "deletable": true,
    "editable": true
   },
   "source": [
    "（参考）Z基底での測定を描くときは、Mz を使って表現します。"
   ]
  },
  {
   "cell_type": "code",
   "execution_count": 40,
   "metadata": {
    "collapsed": false,
    "deletable": true,
    "editable": true
   },
   "outputs": [
    {
     "data": {
      "text/plain": [
       "<sympy.physics.quantum.circuitplot.CircuitPlot at 0x1122b1e80>"
      ]
     },
     "execution_count": 40,
     "metadata": {},
     "output_type": "execute_result"
    },
    {
     "data": {
      "image/png": "[encoded data removed]",
      "text/plain": [
       "<matplotlib.figure.Figure at 0x1122b1518>"
      ]
     },
     "metadata": {},
     "output_type": "display_data"
    }
   ],
   "source": [
    "CircuitPlot(Mz(0)*Mz(1)*S(1)*H(0)*CNOT(1,0)*S(1)*H(1), 2, labels=labeller(2)[::-1])  "
   ]
  },
  {
   "cell_type": "markdown",
   "metadata": {
    "deletable": true,
    "editable": true
   },
   "source": [
    "### 3. ユニタリ行列を量子ビットに作用する\n",
    "ここまでのユニタリ行列の準備では、実際の行列計算は行われておりません。  \n",
    "SymPy の特徴である「変数を変数のまま」扱ってきました。変数は単なる記号でしかありませんでした。\n",
    "\n",
    "実際に変数を計算するのは、 qapply() という関数で行います。計算したい記述を qapply 関数の引数に指定して計算します。"
   ]
  },
  {
   "cell_type": "markdown",
   "metadata": {
    "deletable": true,
    "editable": true
   },
   "source": [
    "直前で回路図を描いた計算をしてみましょう。"
   ]
  },
  {
   "cell_type": "code",
   "execution_count": 41,
   "metadata": {
    "collapsed": false,
    "deletable": true,
    "editable": true
   },
   "outputs": [
    {
     "data": {
      "image/png": "[encoded data removed]",
      "text/latex": [
       "$$\\frac{{\\left|00\\right\\rangle }}{2} + \\frac{{\\left|01\\right\\rangle }}{2} - \\frac{{\\left|10\\right\\rangle }}{2} + \\frac{{\\left|11\\right\\rangle }}{2}$$"
      ],
      "text/plain": [
       "❘00⟩   ❘01⟩   ❘10⟩   ❘11⟩\n",
       "──── + ──── - ──── + ────\n",
       " 2      2      2      2  "
      ]
     },
     "execution_count": 41,
     "metadata": {},
     "output_type": "execute_result"
    }
   ],
   "source": [
    "qapply(S(1)*H(0)*CNOT(1,0)*S(1)*H(1)*Qubit('00'))"
   ]
  },
  {
   "cell_type": "markdown",
   "metadata": {
    "deletable": true,
    "editable": true
   },
   "source": [
    "次の例は、少し計算時間がかかります。８量子ビットの重ね合わせ状態を作ります。（計算して作成します）"
   ]
  },
  {
   "cell_type": "code",
   "execution_count": 42,
   "metadata": {
    "collapsed": false,
    "deletable": true,
    "editable": true
   },
   "outputs": [
    {
     "data": {
      "image/png": "[encoded data removed]",
      "text/latex": [
       "$$\\frac{{\\left|00000000\\right\\rangle }}{16} + \\frac{{\\left|00000001\\right\\rangle }}{16} + \\frac{{\\left|00000010\\right\\rangle }}{16} + \\frac{{\\left|00000011\\right\\rangle }}{16} + \\frac{{\\left|00000100\\right\\rangle }}{16} + \\frac{{\\left|00000101\\right\\rangle }}{16} + \\frac{{\\left|00000110\\right\\rangle }}{16} + \\frac{{\\left|00000111\\right\\rangle }}{16} + \\frac{{\\left|00001000\\right\\rangle }}{16} + \\frac{{\\left|00001001\\right\\rangle }}{16} + \\frac{{\\left|00001010\\right\\rangle }}{16} + \\frac{{\\left|00001011\\right\\rangle }}{16} + \\frac{{\\left|00001100\\right\\rangle }}{16} + \\frac{{\\left|00001101\\right\\rangle }}{16} + \\frac{{\\left|00001110\\right\\rangle }}{16} + \\frac{{\\left|00001111\\right\\rangle }}{16} + \\frac{{\\left|00010000\\right\\rangle }}{16} + \\frac{{\\left|00010001\\right\\rangle }}{16} + \\frac{{\\left|00010010\\right\\rangle }}{16} + \\frac{{\\left|00010011\\right\\rangle }}{16} + \\frac{{\\left|00010100\\right\\rangle }}{16} + \\frac{{\\left|00010101\\right\\rangle }}{16} + \\frac{{\\left|00010110\\right\\rangle }}{16} + \\frac{{\\left|00010111\\right\\rangle }}{16} + \\frac{{\\left|00011000\\right\\rangle }}{16} + \\frac{{\\left|00011001\\right\\rangle }}{16} + \\frac{{\\left|00011010\\right\\rangle }}{16} + \\frac{{\\left|00011011\\right\\rangle }}{16} + \\frac{{\\left|00011100\\right\\rangle }}{16} + \\frac{{\\left|00011101\\right\\rangle }}{16} + \\frac{{\\left|00011110\\right\\rangle }}{16} + \\frac{{\\left|00011111\\right\\rangle }}{16} + \\frac{{\\left|00100000\\right\\rangle }}{16} + \\frac{{\\left|00100001\\right\\rangle }}{16} + \\frac{{\\left|00100010\\right\\rangle }}{16} + \\frac{{\\left|00100011\\right\\rangle }}{16} + \\frac{{\\left|00100100\\right\\rangle }}{16} + \\frac{{\\left|00100101\\right\\rangle }}{16} + \\frac{{\\left|00100110\\right\\rangle }}{16} + \\frac{{\\left|00100111\\right\\rangle }}{16} + \\frac{{\\left|00101000\\right\\rangle }}{16} + \\frac{{\\left|00101001\\right\\rangle }}{16} + \\frac{{\\left|00101010\\right\\rangle }}{16} + \\frac{{\\left|00101011\\right\\rangle }}{16} + \\frac{{\\left|00101100\\right\\rangle }}{16} + \\frac{{\\left|00101101\\right\\rangle }}{16} + \\frac{{\\left|00101110\\right\\rangle }}{16} + \\frac{{\\left|00101111\\right\\rangle }}{16} + \\frac{{\\left|00110000\\right\\rangle }}{16} + \\frac{{\\left|00110001\\right\\rangle }}{16} + \\frac{{\\left|00110010\\right\\rangle }}{16} + \\frac{{\\left|00110011\\right\\rangle }}{16} + \\frac{{\\left|00110100\\right\\rangle }}{16} + \\frac{{\\left|00110101\\right\\rangle }}{16} + \\frac{{\\left|00110110\\right\\rangle }}{16} + \\frac{{\\left|00110111\\right\\rangle }}{16} + \\frac{{\\left|00111000\\right\\rangle }}{16} + \\frac{{\\left|00111001\\right\\rangle }}{16} + \\frac{{\\left|00111010\\right\\rangle }}{16} + \\frac{{\\left|00111011\\right\\rangle }}{16} + \\frac{{\\left|00111100\\right\\rangle }}{16} + \\frac{{\\left|00111101\\right\\rangle }}{16} + \\frac{{\\left|00111110\\right\\rangle }}{16} + \\frac{{\\left|00111111\\right\\rangle }}{16} + \\frac{{\\left|01000000\\right\\rangle }}{16} + \\frac{{\\left|01000001\\right\\rangle }}{16} + \\frac{{\\left|01000010\\right\\rangle }}{16} + \\frac{{\\left|01000011\\right\\rangle }}{16} + \\frac{{\\left|01000100\\right\\rangle }}{16} + \\frac{{\\left|01000101\\right\\rangle }}{16} + \\frac{{\\left|01000110\\right\\rangle }}{16} + \\frac{{\\left|01000111\\right\\rangle }}{16} + \\frac{{\\left|01001000\\right\\rangle }}{16} + \\frac{{\\left|01001001\\right\\rangle }}{16} + \\frac{{\\left|01001010\\right\\rangle }}{16} + \\frac{{\\left|01001011\\right\\rangle }}{16} + \\frac{{\\left|01001100\\right\\rangle }}{16} + \\frac{{\\left|01001101\\right\\rangle }}{16} + \\frac{{\\left|01001110\\right\\rangle }}{16} + \\frac{{\\left|01001111\\right\\rangle }}{16} + \\frac{{\\left|01010000\\right\\rangle }}{16} + \\frac{{\\left|01010001\\right\\rangle }}{16} + \\frac{{\\left|01010010\\right\\rangle }}{16} + \\frac{{\\left|01010011\\right\\rangle }}{16} + \\frac{{\\left|01010100\\right\\rangle }}{16} + \\frac{{\\left|01010101\\right\\rangle }}{16} + \\frac{{\\left|01010110\\right\\rangle }}{16} + \\frac{{\\left|01010111\\right\\rangle }}{16} + \\frac{{\\left|01011000\\right\\rangle }}{16} + \\frac{{\\left|01011001\\right\\rangle }}{16} + \\frac{{\\left|01011010\\right\\rangle }}{16} + \\frac{{\\left|01011011\\right\\rangle }}{16} + \\frac{{\\left|01011100\\right\\rangle }}{16} + \\frac{{\\left|01011101\\right\\rangle }}{16} + \\frac{{\\left|01011110\\right\\rangle }}{16} + \\frac{{\\left|01011111\\right\\rangle }}{16} + \\frac{{\\left|01100000\\right\\rangle }}{16} + \\frac{{\\left|01100001\\right\\rangle }}{16} + \\frac{{\\left|01100010\\right\\rangle }}{16} + \\frac{{\\left|01100011\\right\\rangle }}{16} + \\frac{{\\left|01100100\\right\\rangle }}{16} + \\frac{{\\left|01100101\\right\\rangle }}{16} + \\frac{{\\left|01100110\\right\\rangle }}{16} + \\frac{{\\left|01100111\\right\\rangle }}{16} + \\frac{{\\left|01101000\\right\\rangle }}{16} + \\frac{{\\left|01101001\\right\\rangle }}{16} + \\frac{{\\left|01101010\\right\\rangle }}{16} + \\frac{{\\left|01101011\\right\\rangle }}{16} + \\frac{{\\left|01101100\\right\\rangle }}{16} + \\frac{{\\left|01101101\\right\\rangle }}{16} + \\frac{{\\left|01101110\\right\\rangle }}{16} + \\frac{{\\left|01101111\\right\\rangle }}{16} + \\frac{{\\left|01110000\\right\\rangle }}{16} + \\frac{{\\left|01110001\\right\\rangle }}{16} + \\frac{{\\left|01110010\\right\\rangle }}{16} + \\frac{{\\left|01110011\\right\\rangle }}{16} + \\frac{{\\left|01110100\\right\\rangle }}{16} + \\frac{{\\left|01110101\\right\\rangle }}{16} + \\frac{{\\left|01110110\\right\\rangle }}{16} + \\frac{{\\left|01110111\\right\\rangle }}{16} + \\frac{{\\left|01111000\\right\\rangle }}{16} + \\frac{{\\left|01111001\\right\\rangle }}{16} + \\frac{{\\left|01111010\\right\\rangle }}{16} + \\frac{{\\left|01111011\\right\\rangle }}{16} + \\frac{{\\left|01111100\\right\\rangle }}{16} + \\frac{{\\left|01111101\\right\\rangle }}{16} + \\frac{{\\left|01111110\\right\\rangle }}{16} + \\frac{{\\left|01111111\\right\\rangle }}{16} + \\frac{{\\left|10000000\\right\\rangle }}{16} + \\frac{{\\left|10000001\\right\\rangle }}{16} + \\frac{{\\left|10000010\\right\\rangle }}{16} + \\frac{{\\left|10000011\\right\\rangle }}{16} + \\frac{{\\left|10000100\\right\\rangle }}{16} + \\frac{{\\left|10000101\\right\\rangle }}{16} + \\frac{{\\left|10000110\\right\\rangle }}{16} + \\frac{{\\left|10000111\\right\\rangle }}{16} + \\frac{{\\left|10001000\\right\\rangle }}{16} + \\frac{{\\left|10001001\\right\\rangle }}{16} + \\frac{{\\left|10001010\\right\\rangle }}{16} + \\frac{{\\left|10001011\\right\\rangle }}{16} + \\frac{{\\left|10001100\\right\\rangle }}{16} + \\frac{{\\left|10001101\\right\\rangle }}{16} + \\frac{{\\left|10001110\\right\\rangle }}{16} + \\frac{{\\left|10001111\\right\\rangle }}{16} + \\frac{{\\left|10010000\\right\\rangle }}{16} + \\frac{{\\left|10010001\\right\\rangle }}{16} + \\frac{{\\left|10010010\\right\\rangle }}{16} + \\frac{{\\left|10010011\\right\\rangle }}{16} + \\frac{{\\left|10010100\\right\\rangle }}{16} + \\frac{{\\left|10010101\\right\\rangle }}{16} + \\frac{{\\left|10010110\\right\\rangle }}{16} + \\frac{{\\left|10010111\\right\\rangle }}{16} + \\frac{{\\left|10011000\\right\\rangle }}{16} + \\frac{{\\left|10011001\\right\\rangle }}{16} + \\frac{{\\left|10011010\\right\\rangle }}{16} + \\frac{{\\left|10011011\\right\\rangle }}{16} + \\frac{{\\left|10011100\\right\\rangle }}{16} + \\frac{{\\left|10011101\\right\\rangle }}{16} + \\frac{{\\left|10011110\\right\\rangle }}{16} + \\frac{{\\left|10011111\\right\\rangle }}{16} + \\frac{{\\left|10100000\\right\\rangle }}{16} + \\frac{{\\left|10100001\\right\\rangle }}{16} + \\frac{{\\left|10100010\\right\\rangle }}{16} + \\frac{{\\left|10100011\\right\\rangle }}{16} + \\frac{{\\left|10100100\\right\\rangle }}{16} + \\frac{{\\left|10100101\\right\\rangle }}{16} + \\frac{{\\left|10100110\\right\\rangle }}{16} + \\frac{{\\left|10100111\\right\\rangle }}{16} + \\frac{{\\left|10101000\\right\\rangle }}{16} + \\frac{{\\left|10101001\\right\\rangle }}{16} + \\frac{{\\left|10101010\\right\\rangle }}{16} + \\frac{{\\left|10101011\\right\\rangle }}{16} + \\frac{{\\left|10101100\\right\\rangle }}{16} + \\frac{{\\left|10101101\\right\\rangle }}{16} + \\frac{{\\left|10101110\\right\\rangle }}{16} + \\frac{{\\left|10101111\\right\\rangle }}{16} + \\frac{{\\left|10110000\\right\\rangle }}{16} + \\frac{{\\left|10110001\\right\\rangle }}{16} + \\frac{{\\left|10110010\\right\\rangle }}{16} + \\frac{{\\left|10110011\\right\\rangle }}{16} + \\frac{{\\left|10110100\\right\\rangle }}{16} + \\frac{{\\left|10110101\\right\\rangle }}{16} + \\frac{{\\left|10110110\\right\\rangle }}{16} + \\frac{{\\left|10110111\\right\\rangle }}{16} + \\frac{{\\left|10111000\\right\\rangle }}{16} + \\frac{{\\left|10111001\\right\\rangle }}{16} + \\frac{{\\left|10111010\\right\\rangle }}{16} + \\frac{{\\left|10111011\\right\\rangle }}{16} + \\frac{{\\left|10111100\\right\\rangle }}{16} + \\frac{{\\left|10111101\\right\\rangle }}{16} + \\frac{{\\left|10111110\\right\\rangle }}{16} + \\frac{{\\left|10111111\\right\\rangle }}{16} + \\frac{{\\left|11000000\\right\\rangle }}{16} + \\frac{{\\left|11000001\\right\\rangle }}{16} + \\frac{{\\left|11000010\\right\\rangle }}{16} + \\frac{{\\left|11000011\\right\\rangle }}{16} + \\frac{{\\left|11000100\\right\\rangle }}{16} + \\frac{{\\left|11000101\\right\\rangle }}{16} + \\frac{{\\left|11000110\\right\\rangle }}{16} + \\frac{{\\left|11000111\\right\\rangle }}{16} + \\frac{{\\left|11001000\\right\\rangle }}{16} + \\frac{{\\left|11001001\\right\\rangle }}{16} + \\frac{{\\left|11001010\\right\\rangle }}{16} + \\frac{{\\left|11001011\\right\\rangle }}{16} + \\frac{{\\left|11001100\\right\\rangle }}{16} + \\frac{{\\left|11001101\\right\\rangle }}{16} + \\frac{{\\left|11001110\\right\\rangle }}{16} + \\frac{{\\left|11001111\\right\\rangle }}{16} + \\frac{{\\left|11010000\\right\\rangle }}{16} + \\frac{{\\left|11010001\\right\\rangle }}{16} + \\frac{{\\left|11010010\\right\\rangle }}{16} + \\frac{{\\left|11010011\\right\\rangle }}{16} + \\frac{{\\left|11010100\\right\\rangle }}{16} + \\frac{{\\left|11010101\\right\\rangle }}{16} + \\frac{{\\left|11010110\\right\\rangle }}{16} + \\frac{{\\left|11010111\\right\\rangle }}{16} + \\frac{{\\left|11011000\\right\\rangle }}{16} + \\frac{{\\left|11011001\\right\\rangle }}{16} + \\frac{{\\left|11011010\\right\\rangle }}{16} + \\frac{{\\left|11011011\\right\\rangle }}{16} + \\frac{{\\left|11011100\\right\\rangle }}{16} + \\frac{{\\left|11011101\\right\\rangle }}{16} + \\frac{{\\left|11011110\\right\\rangle }}{16} + \\frac{{\\left|11011111\\right\\rangle }}{16} + \\frac{{\\left|11100000\\right\\rangle }}{16} + \\frac{{\\left|11100001\\right\\rangle }}{16} + \\frac{{\\left|11100010\\right\\rangle }}{16} + \\frac{{\\left|11100011\\right\\rangle }}{16} + \\frac{{\\left|11100100\\right\\rangle }}{16} + \\frac{{\\left|11100101\\right\\rangle }}{16} + \\frac{{\\left|11100110\\right\\rangle }}{16} + \\frac{{\\left|11100111\\right\\rangle }}{16} + \\frac{{\\left|11101000\\right\\rangle }}{16} + \\frac{{\\left|11101001\\right\\rangle }}{16} + \\frac{{\\left|11101010\\right\\rangle }}{16} + \\frac{{\\left|11101011\\right\\rangle }}{16} + \\frac{{\\left|11101100\\right\\rangle }}{16} + \\frac{{\\left|11101101\\right\\rangle }}{16} + \\frac{{\\left|11101110\\right\\rangle }}{16} + \\frac{{\\left|11101111\\right\\rangle }}{16} + \\frac{{\\left|11110000\\right\\rangle }}{16} + \\frac{{\\left|11110001\\right\\rangle }}{16} + \\frac{{\\left|11110010\\right\\rangle }}{16} + \\frac{{\\left|11110011\\right\\rangle }}{16} + \\frac{{\\left|11110100\\right\\rangle }}{16} + \\frac{{\\left|11110101\\right\\rangle }}{16} + \\frac{{\\left|11110110\\right\\rangle }}{16} + \\frac{{\\left|11110111\\right\\rangle }}{16} + \\frac{{\\left|11111000\\right\\rangle }}{16} + \\frac{{\\left|11111001\\right\\rangle }}{16} + \\frac{{\\left|11111010\\right\\rangle }}{16} + \\frac{{\\left|11111011\\right\\rangle }}{16} + \\frac{{\\left|11111100\\right\\rangle }}{16} + \\frac{{\\left|11111101\\right\\rangle }}{16} + \\frac{{\\left|11111110\\right\\rangle }}{16} + \\frac{{\\left|11111111\\right\\rangle }}{16}$$"
      ],
      "text/plain": [
       "❘00000000⟩   ❘00000001⟩   ❘00000010⟩   ❘00000011⟩   ❘00000100⟩   ❘00000101⟩   \n",
       "────────── + ────────── + ────────── + ────────── + ────────── + ────────── + \n",
       "    16           16           16           16           16           16       \n",
       "\n",
       "❘00000110⟩   ❘00000111⟩   ❘00001000⟩   ❘00001001⟩   ❘00001010⟩   ❘00001011⟩   \n",
       "────────── + ────────── + ────────── + ────────── + ────────── + ────────── + \n",
       "    16           16           16           16           16           16       \n",
       "\n",
       "❘00001100⟩   ❘00001101⟩   ❘00001110⟩   ❘00001111⟩   ❘00010000⟩   ❘00010001⟩   \n",
       "────────── + ────────── + ────────── + ────────── + ────────── + ────────── + \n",
       "    16           16           16           16           16           16       \n",
       "\n",
       "❘00010010⟩   ❘00010011⟩   ❘00010100⟩   ❘00010101⟩   ❘00010110⟩   ❘00010111⟩   \n",
       "────────── + ────────── + ────────── + ────────── + ────────── + ────────── + \n",
       "    16           16           16           16           16           16       \n",
       "\n",
       "❘00011000⟩   ❘00011001⟩   ❘00011010⟩   ❘00011011⟩   ❘00011100⟩   ❘00011101⟩   \n",
       "────────── + ────────── + ────────── + ────────── + ────────── + ────────── + \n",
       "    16           16           16           16           16           16       \n",
       "\n",
       "❘00011110⟩   ❘00011111⟩   ❘00100000⟩   ❘00100001⟩   ❘00100010⟩   ❘00100011⟩   \n",
       "────────── + ────────── + ────────── + ────────── + ────────── + ────────── + \n",
       "    16           16           16           16           16           16       \n",
       "\n",
       "❘00100100⟩   ❘00100101⟩   ❘00100110⟩   ❘00100111⟩   ❘00101000⟩   ❘00101001⟩   \n",
       "────────── + ────────── + ────────── + ────────── + ────────── + ────────── + \n",
       "    16           16           16           16           16           16       \n",
       "\n",
       "❘00101010⟩   ❘00101011⟩   ❘00101100⟩   ❘00101101⟩   ❘00101110⟩   ❘00101111⟩   \n",
       "────────── + ────────── + ────────── + ────────── + ────────── + ────────── + \n",
       "    16           16           16           16           16           16       \n",
       "\n",
       "❘00110000⟩   ❘00110001⟩   ❘00110010⟩   ❘00110011⟩   ❘00110100⟩   ❘00110101⟩   \n",
       "────────── + ────────── + ────────── + ────────── + ────────── + ────────── + \n",
       "    16           16           16           16           16           16       \n",
       "\n",
       "❘00110110⟩   ❘00110111⟩   ❘00111000⟩   ❘00111001⟩   ❘00111010⟩   ❘00111011⟩   \n",
       "────────── + ────────── + ────────── + ────────── + ────────── + ────────── + \n",
       "    16           16           16           16           16           16       \n",
       "\n",
       "❘00111100⟩   ❘00111101⟩   ❘00111110⟩   ❘00111111⟩   ❘01000000⟩   ❘01000001⟩   \n",
       "────────── + ────────── + ────────── + ────────── + ────────── + ────────── + \n",
       "    16           16           16           16           16           16       \n",
       "\n",
       "❘01000010⟩   ❘01000011⟩   ❘01000100⟩   ❘01000101⟩   ❘01000110⟩   ❘01000111⟩   \n",
       "────────── + ────────── + ────────── + ────────── + ────────── + ────────── + \n",
       "    16           16           16           16           16           16       \n",
       "\n",
       "❘01001000⟩   ❘01001001⟩   ❘01001010⟩   ❘01001011⟩   ❘01001100⟩   ❘01001101⟩   \n",
       "────────── + ────────── + ────────── + ────────── + ────────── + ────────── + \n",
       "    16           16           16           16           16           16       \n",
       "\n",
       "❘01001110⟩   ❘01001111⟩   ❘01010000⟩   ❘01010001⟩   ❘01010010⟩   ❘01010011⟩   \n",
       "────────── + ────────── + ────────── + ────────── + ────────── + ────────── + \n",
       "    16           16           16           16           16           16       \n",
       "\n",
       "❘01010100⟩   ❘01010101⟩   ❘01010110⟩   ❘01010111⟩   ❘01011000⟩   ❘01011001⟩   \n",
       "────────── + ────────── + ────────── + ────────── + ────────── + ────────── + \n",
       "    16           16           16           16           16           16       \n",
       "\n",
       "❘01011010⟩   ❘01011011⟩   ❘01011100⟩   ❘01011101⟩   ❘01011110⟩   ❘01011111⟩   \n",
       "────────── + ────────── + ────────── + ────────── + ────────── + ────────── + \n",
       "    16           16           16           16           16           16       \n",
       "\n",
       "❘01100000⟩   ❘01100001⟩   ❘01100010⟩   ❘01100011⟩   ❘01100100⟩   ❘01100101⟩   \n",
       "────────── + ────────── + ────────── + ────────── + ────────── + ────────── + \n",
       "    16           16           16           16           16           16       \n",
       "\n",
       "❘01100110⟩   ❘01100111⟩   ❘01101000⟩   ❘01101001⟩   ❘01101010⟩   ❘01101011⟩   \n",
       "────────── + ────────── + ────────── + ────────── + ────────── + ────────── + \n",
       "    16           16           16           16           16           16       \n",
       "\n",
       "❘01101100⟩   ❘01101101⟩   ❘01101110⟩   ❘01101111⟩   ❘01110000⟩   ❘01110001⟩   \n",
       "────────── + ────────── + ────────── + ────────── + ────────── + ────────── + \n",
       "    16           16           16           16           16           16       \n",
       "\n",
       "❘01110010⟩   ❘01110011⟩   ❘01110100⟩   ❘01110101⟩   ❘01110110⟩   ❘01110111⟩   \n",
       "────────── + ────────── + ────────── + ────────── + ────────── + ────────── + \n",
       "    16           16           16           16           16           16       \n",
       "\n",
       "❘01111000⟩   ❘01111001⟩   ❘01111010⟩   ❘01111011⟩   ❘01111100⟩   ❘01111101⟩   \n",
       "────────── + ────────── + ────────── + ────────── + ────────── + ────────── + \n",
       "    16           16           16           16           16           16       \n",
       "\n",
       "❘01111110⟩   ❘01111111⟩   ❘10000000⟩   ❘10000001⟩   ❘10000010⟩   ❘10000011⟩   \n",
       "────────── + ────────── + ────────── + ────────── + ────────── + ────────── + \n",
       "    16           16           16           16           16           16       \n",
       "\n",
       "❘10000100⟩   ❘10000101⟩   ❘10000110⟩   ❘10000111⟩   ❘10001000⟩   ❘10001001⟩   \n",
       "────────── + ────────── + ────────── + ────────── + ────────── + ────────── + \n",
       "    16           16           16           16           16           16       \n",
       "\n",
       "❘10001010⟩   ❘10001011⟩   ❘10001100⟩   ❘10001101⟩   ❘10001110⟩   ❘10001111⟩   \n",
       "────────── + ────────── + ────────── + ────────── + ────────── + ────────── + \n",
       "    16           16           16           16           16           16       \n",
       "\n",
       "❘10010000⟩   ❘10010001⟩   ❘10010010⟩   ❘10010011⟩   ❘10010100⟩   ❘10010101⟩   \n",
       "────────── + ────────── + ────────── + ────────── + ────────── + ────────── + \n",
       "    16           16           16           16           16           16       \n",
       "\n",
       "❘10010110⟩   ❘10010111⟩   ❘10011000⟩   ❘10011001⟩   ❘10011010⟩   ❘10011011⟩   \n",
       "────────── + ────────── + ────────── + ────────── + ────────── + ────────── + \n",
       "    16           16           16           16           16           16       \n",
       "\n",
       "❘10011100⟩   ❘10011101⟩   ❘10011110⟩   ❘10011111⟩   ❘10100000⟩   ❘10100001⟩   \n",
       "────────── + ────────── + ────────── + ────────── + ────────── + ────────── + \n",
       "    16           16           16           16           16           16       \n",
       "\n",
       "❘10100010⟩   ❘10100011⟩   ❘10100100⟩   ❘10100101⟩   ❘10100110⟩   ❘10100111⟩   \n",
       "────────── + ────────── + ────────── + ────────── + ────────── + ────────── + \n",
       "    16           16           16           16           16           16       \n",
       "\n",
       "❘10101000⟩   ❘10101001⟩   ❘10101010⟩   ❘10101011⟩   ❘10101100⟩   ❘10101101⟩   \n",
       "────────── + ────────── + ────────── + ────────── + ────────── + ────────── + \n",
       "    16           16           16           16           16           16       \n",
       "\n",
       "❘10101110⟩   ❘10101111⟩   ❘10110000⟩   ❘10110001⟩   ❘10110010⟩   ❘10110011⟩   \n",
       "────────── + ────────── + ────────── + ────────── + ────────── + ────────── + \n",
       "    16           16           16           16           16           16       \n",
       "\n",
       "❘10110100⟩   ❘10110101⟩   ❘10110110⟩   ❘10110111⟩   ❘10111000⟩   ❘10111001⟩   \n",
       "────────── + ────────── + ────────── + ────────── + ────────── + ────────── + \n",
       "    16           16           16           16           16           16       \n",
       "\n",
       "❘10111010⟩   ❘10111011⟩   ❘10111100⟩   ❘10111101⟩   ❘10111110⟩   ❘10111111⟩   \n",
       "────────── + ────────── + ────────── + ────────── + ────────── + ────────── + \n",
       "    16           16           16           16           16           16       \n",
       "\n",
       "❘11000000⟩   ❘11000001⟩   ❘11000010⟩   ❘11000011⟩   ❘11000100⟩   ❘11000101⟩   \n",
       "────────── + ────────── + ────────── + ────────── + ────────── + ────────── + \n",
       "    16           16           16           16           16           16       \n",
       "\n",
       "❘11000110⟩   ❘11000111⟩   ❘11001000⟩   ❘11001001⟩   ❘11001010⟩   ❘11001011⟩   \n",
       "────────── + ────────── + ────────── + ────────── + ────────── + ────────── + \n",
       "    16           16           16           16           16           16       \n",
       "\n",
       "❘11001100⟩   ❘11001101⟩   ❘11001110⟩   ❘11001111⟩   ❘11010000⟩   ❘11010001⟩   \n",
       "────────── + ────────── + ────────── + ────────── + ────────── + ────────── + \n",
       "    16           16           16           16           16           16       \n",
       "\n",
       "❘11010010⟩   ❘11010011⟩   ❘11010100⟩   ❘11010101⟩   ❘11010110⟩   ❘11010111⟩   \n",
       "────────── + ────────── + ────────── + ────────── + ────────── + ────────── + \n",
       "    16           16           16           16           16           16       \n",
       "\n",
       "❘11011000⟩   ❘11011001⟩   ❘11011010⟩   ❘11011011⟩   ❘11011100⟩   ❘11011101⟩   \n",
       "────────── + ────────── + ────────── + ────────── + ────────── + ────────── + \n",
       "    16           16           16           16           16           16       \n",
       "\n",
       "❘11011110⟩   ❘11011111⟩   ❘11100000⟩   ❘11100001⟩   ❘11100010⟩   ❘11100011⟩   \n",
       "────────── + ────────── + ────────── + ────────── + ────────── + ────────── + \n",
       "    16           16           16           16           16           16       \n",
       "\n",
       "❘11100100⟩   ❘11100101⟩   ❘11100110⟩   ❘11100111⟩   ❘11101000⟩   ❘11101001⟩   \n",
       "────────── + ────────── + ────────── + ────────── + ────────── + ────────── + \n",
       "    16           16           16           16           16           16       \n",
       "\n",
       "❘11101010⟩   ❘11101011⟩   ❘11101100⟩   ❘11101101⟩   ❘11101110⟩   ❘11101111⟩   \n",
       "────────── + ────────── + ────────── + ────────── + ────────── + ────────── + \n",
       "    16           16           16           16           16           16       \n",
       "\n",
       "❘11110000⟩   ❘11110001⟩   ❘11110010⟩   ❘11110011⟩   ❘11110100⟩   ❘11110101⟩   \n",
       "────────── + ────────── + ────────── + ────────── + ────────── + ────────── + \n",
       "    16           16           16           16           16           16       \n",
       "\n",
       "❘11110110⟩   ❘11110111⟩   ❘11111000⟩   ❘11111001⟩   ❘11111010⟩   ❘11111011⟩   \n",
       "────────── + ────────── + ────────── + ────────── + ────────── + ────────── + \n",
       "    16           16           16           16           16           16       \n",
       "\n",
       "❘11111100⟩   ❘11111101⟩   ❘11111110⟩   ❘11111111⟩\n",
       "────────── + ────────── + ────────── + ──────────\n",
       "    16           16           16           16    "
      ]
     },
     "execution_count": 42,
     "metadata": {},
     "output_type": "execute_result"
    }
   ],
   "source": [
    "hadamard_8=qapply(h_8*q_8)\n",
    "hadamard_8"
   ]
  },
  {
   "cell_type": "markdown",
   "metadata": {
    "deletable": true,
    "editable": true
   },
   "source": [
    "### 4. 測定する\n",
    "\n",
    "ここまでの量子計算（qapply）では、量子状態のまま計算されます。  \n",
    "シミュレーション上の理論的な計算では、qapplyまで行えば、目的が達成することが多いです。  \n",
    "\n",
    "\n",
    "SymPy には、観測のためのメソッドも備わっています。  \n",
    "measure_all()では、引数で渡された量子ビットのすべての状態の測定確率を計算で求めて出力します。  \n",
    "\n",
    "そのほかにも幾つか観測のためのメソッドが提供されます。例えば、measure_partial()は、第一引数で指定された量子ビットに対して、第二引数で指定された部分的な振幅の測定を実行します。"
   ]
  },
  {
   "cell_type": "code",
   "execution_count": 43,
   "metadata": {
    "collapsed": true,
    "deletable": true,
    "editable": true
   },
   "outputs": [],
   "source": [
    "from sympy.physics.quantum.qubit import measure_all, measure_partial, measure_all_oneshot, measure_partial_oneshot"
   ]
  },
  {
   "cell_type": "code",
   "execution_count": 44,
   "metadata": {
    "collapsed": false,
    "deletable": true,
    "editable": true
   },
   "outputs": [
    {
     "data": {
      "image/png": "[encoded data removed]",
      "text/latex": [
       "$$\\left [ \\left ( {\\left|00000000\\right\\rangle }, \\quad \\frac{1}{256}\\right ), \\quad \\left ( {\\left|00000001\\right\\rangle }, \\quad \\frac{1}{256}\\right ), \\quad \\left ( {\\left|00000010\\right\\rangle }, \\quad \\frac{1}{256}\\right ), \\quad \\left ( {\\left|00000011\\right\\rangle }, \\quad \\frac{1}{256}\\right ), \\quad \\left ( {\\left|00000100\\right\\rangle }, \\quad \\frac{1}{256}\\right ), \\quad \\left ( {\\left|00000101\\right\\rangle }, \\quad \\frac{1}{256}\\right ), \\quad \\left ( {\\left|00000110\\right\\rangle }, \\quad \\frac{1}{256}\\right ), \\quad \\left ( {\\left|00000111\\right\\rangle }, \\quad \\frac{1}{256}\\right ), \\quad \\left ( {\\left|00001000\\right\\rangle }, \\quad \\frac{1}{256}\\right ), \\quad \\left ( {\\left|00001001\\right\\rangle }, \\quad \\frac{1}{256}\\right ), \\quad \\left ( {\\left|00001010\\right\\rangle }, \\quad \\frac{1}{256}\\right ), \\quad \\left ( {\\left|00001011\\right\\rangle }, \\quad \\frac{1}{256}\\right ), \\quad \\left ( {\\left|00001100\\right\\rangle }, \\quad \\frac{1}{256}\\right ), \\quad \\left ( {\\left|00001101\\right\\rangle }, \\quad \\frac{1}{256}\\right ), \\quad \\left ( {\\left|00001110\\right\\rangle }, \\quad \\frac{1}{256}\\right ), \\quad \\left ( {\\left|00001111\\right\\rangle }, \\quad \\frac{1}{256}\\right ), \\quad \\left ( {\\left|00010000\\right\\rangle }, \\quad \\frac{1}{256}\\right ), \\quad \\left ( {\\left|00010001\\right\\rangle }, \\quad \\frac{1}{256}\\right ), \\quad \\left ( {\\left|00010010\\right\\rangle }, \\quad \\frac{1}{256}\\right ), \\quad \\left ( {\\left|00010011\\right\\rangle }, \\quad \\frac{1}{256}\\right ), \\quad \\left ( {\\left|00010100\\right\\rangle }, \\quad \\frac{1}{256}\\right ), \\quad \\left ( {\\left|00010101\\right\\rangle }, \\quad \\frac{1}{256}\\right ), \\quad \\left ( {\\left|00010110\\right\\rangle }, \\quad \\frac{1}{256}\\right ), \\quad \\left ( {\\left|00010111\\right\\rangle }, \\quad \\frac{1}{256}\\right ), \\quad \\left ( {\\left|00011000\\right\\rangle }, \\quad \\frac{1}{256}\\right ), \\quad \\left ( {\\left|00011001\\right\\rangle }, \\quad \\frac{1}{256}\\right ), \\quad \\left ( {\\left|00011010\\right\\rangle }, \\quad \\frac{1}{256}\\right ), \\quad \\left ( {\\left|00011011\\right\\rangle }, \\quad \\frac{1}{256}\\right ), \\quad \\left ( {\\left|00011100\\right\\rangle }, \\quad \\frac{1}{256}\\right ), \\quad \\left ( {\\left|00011101\\right\\rangle }, \\quad \\frac{1}{256}\\right ), \\quad \\left ( {\\left|00011110\\right\\rangle }, \\quad \\frac{1}{256}\\right ), \\quad \\left ( {\\left|00011111\\right\\rangle }, \\quad \\frac{1}{256}\\right ), \\quad \\left ( {\\left|00100000\\right\\rangle }, \\quad \\frac{1}{256}\\right ), \\quad \\left ( {\\left|00100001\\right\\rangle }, \\quad \\frac{1}{256}\\right ), \\quad \\left ( {\\left|00100010\\right\\rangle }, \\quad \\frac{1}{256}\\right ), \\quad \\left ( {\\left|00100011\\right\\rangle }, \\quad \\frac{1}{256}\\right ), \\quad \\left ( {\\left|00100100\\right\\rangle }, \\quad \\frac{1}{256}\\right ), \\quad \\left ( {\\left|00100101\\right\\rangle }, \\quad \\frac{1}{256}\\right ), \\quad \\left ( {\\left|00100110\\right\\rangle }, \\quad \\frac{1}{256}\\right ), \\quad \\left ( {\\left|00100111\\right\\rangle }, \\quad \\frac{1}{256}\\right ), \\quad \\left ( {\\left|00101000\\right\\rangle }, \\quad \\frac{1}{256}\\right ), \\quad \\left ( {\\left|00101001\\right\\rangle }, \\quad \\frac{1}{256}\\right ), \\quad \\left ( {\\left|00101010\\right\\rangle }, \\quad \\frac{1}{256}\\right ), \\quad \\left ( {\\left|00101011\\right\\rangle }, \\quad \\frac{1}{256}\\right ), \\quad \\left ( {\\left|00101100\\right\\rangle }, \\quad \\frac{1}{256}\\right ), \\quad \\left ( {\\left|00101101\\right\\rangle }, \\quad \\frac{1}{256}\\right ), \\quad \\left ( {\\left|00101110\\right\\rangle }, \\quad \\frac{1}{256}\\right ), \\quad \\left ( {\\left|00101111\\right\\rangle }, \\quad \\frac{1}{256}\\right ), \\quad \\left ( {\\left|00110000\\right\\rangle }, \\quad \\frac{1}{256}\\right ), \\quad \\left ( {\\left|00110001\\right\\rangle }, \\quad \\frac{1}{256}\\right ), \\quad \\left ( {\\left|00110010\\right\\rangle }, \\quad \\frac{1}{256}\\right ), \\quad \\left ( {\\left|00110011\\right\\rangle }, \\quad \\frac{1}{256}\\right ), \\quad \\left ( {\\left|00110100\\right\\rangle }, \\quad \\frac{1}{256}\\right ), \\quad \\left ( {\\left|00110101\\right\\rangle }, \\quad \\frac{1}{256}\\right ), \\quad \\left ( {\\left|00110110\\right\\rangle }, \\quad \\frac{1}{256}\\right ), \\quad \\left ( {\\left|00110111\\right\\rangle }, \\quad \\frac{1}{256}\\right ), \\quad \\left ( {\\left|00111000\\right\\rangle }, \\quad \\frac{1}{256}\\right ), \\quad \\left ( {\\left|00111001\\right\\rangle }, \\quad \\frac{1}{256}\\right ), \\quad \\left ( {\\left|00111010\\right\\rangle }, \\quad \\frac{1}{256}\\right ), \\quad \\left ( {\\left|00111011\\right\\rangle }, \\quad \\frac{1}{256}\\right ), \\quad \\left ( {\\left|00111100\\right\\rangle }, \\quad \\frac{1}{256}\\right ), \\quad \\left ( {\\left|00111101\\right\\rangle }, \\quad \\frac{1}{256}\\right ), \\quad \\left ( {\\left|00111110\\right\\rangle }, \\quad \\frac{1}{256}\\right ), \\quad \\left ( {\\left|00111111\\right\\rangle }, \\quad \\frac{1}{256}\\right ), \\quad \\left ( {\\left|01000000\\right\\rangle }, \\quad \\frac{1}{256}\\right ), \\quad \\left ( {\\left|01000001\\right\\rangle }, \\quad \\frac{1}{256}\\right ), \\quad \\left ( {\\left|01000010\\right\\rangle }, \\quad \\frac{1}{256}\\right ), \\quad \\left ( {\\left|01000011\\right\\rangle }, \\quad \\frac{1}{256}\\right ), \\quad \\left ( {\\left|01000100\\right\\rangle }, \\quad \\frac{1}{256}\\right ), \\quad \\left ( {\\left|01000101\\right\\rangle }, \\quad \\frac{1}{256}\\right ), \\quad \\left ( {\\left|01000110\\right\\rangle }, \\quad \\frac{1}{256}\\right ), \\quad \\left ( {\\left|01000111\\right\\rangle }, \\quad \\frac{1}{256}\\right ), \\quad \\left ( {\\left|01001000\\right\\rangle }, \\quad \\frac{1}{256}\\right ), \\quad \\left ( {\\left|01001001\\right\\rangle }, \\quad \\frac{1}{256}\\right ), \\quad \\left ( {\\left|01001010\\right\\rangle }, \\quad \\frac{1}{256}\\right ), \\quad \\left ( {\\left|01001011\\right\\rangle }, \\quad \\frac{1}{256}\\right ), \\quad \\left ( {\\left|01001100\\right\\rangle }, \\quad \\frac{1}{256}\\right ), \\quad \\left ( {\\left|01001101\\right\\rangle }, \\quad \\frac{1}{256}\\right ), \\quad \\left ( {\\left|01001110\\right\\rangle }, \\quad \\frac{1}{256}\\right ), \\quad \\left ( {\\left|01001111\\right\\rangle }, \\quad \\frac{1}{256}\\right ), \\quad \\left ( {\\left|01010000\\right\\rangle }, \\quad \\frac{1}{256}\\right ), \\quad \\left ( {\\left|01010001\\right\\rangle }, \\quad \\frac{1}{256}\\right ), \\quad \\left ( {\\left|01010010\\right\\rangle }, \\quad \\frac{1}{256}\\right ), \\quad \\left ( {\\left|01010011\\right\\rangle }, \\quad \\frac{1}{256}\\right ), \\quad \\left ( {\\left|01010100\\right\\rangle }, \\quad \\frac{1}{256}\\right ), \\quad \\left ( {\\left|01010101\\right\\rangle }, \\quad \\frac{1}{256}\\right ), \\quad \\left ( {\\left|01010110\\right\\rangle }, \\quad \\frac{1}{256}\\right ), \\quad \\left ( {\\left|01010111\\right\\rangle }, \\quad \\frac{1}{256}\\right ), \\quad \\left ( {\\left|01011000\\right\\rangle }, \\quad \\frac{1}{256}\\right ), \\quad \\left ( {\\left|01011001\\right\\rangle }, \\quad \\frac{1}{256}\\right ), \\quad \\left ( {\\left|01011010\\right\\rangle }, \\quad \\frac{1}{256}\\right ), \\quad \\left ( {\\left|01011011\\right\\rangle }, \\quad \\frac{1}{256}\\right ), \\quad \\left ( {\\left|01011100\\right\\rangle }, \\quad \\frac{1}{256}\\right ), \\quad \\left ( {\\left|01011101\\right\\rangle }, \\quad \\frac{1}{256}\\right ), \\quad \\left ( {\\left|01011110\\right\\rangle }, \\quad \\frac{1}{256}\\right ), \\quad \\left ( {\\left|01011111\\right\\rangle }, \\quad \\frac{1}{256}\\right ), \\quad \\left ( {\\left|01100000\\right\\rangle }, \\quad \\frac{1}{256}\\right ), \\quad \\left ( {\\left|01100001\\right\\rangle }, \\quad \\frac{1}{256}\\right ), \\quad \\left ( {\\left|01100010\\right\\rangle }, \\quad \\frac{1}{256}\\right ), \\quad \\left ( {\\left|01100011\\right\\rangle }, \\quad \\frac{1}{256}\\right ), \\quad \\left ( {\\left|01100100\\right\\rangle }, \\quad \\frac{1}{256}\\right ), \\quad \\left ( {\\left|01100101\\right\\rangle }, \\quad \\frac{1}{256}\\right ), \\quad \\left ( {\\left|01100110\\right\\rangle }, \\quad \\frac{1}{256}\\right ), \\quad \\left ( {\\left|01100111\\right\\rangle }, \\quad \\frac{1}{256}\\right ), \\quad \\left ( {\\left|01101000\\right\\rangle }, \\quad \\frac{1}{256}\\right ), \\quad \\left ( {\\left|01101001\\right\\rangle }, \\quad \\frac{1}{256}\\right ), \\quad \\left ( {\\left|01101010\\right\\rangle }, \\quad \\frac{1}{256}\\right ), \\quad \\left ( {\\left|01101011\\right\\rangle }, \\quad \\frac{1}{256}\\right ), \\quad \\left ( {\\left|01101100\\right\\rangle }, \\quad \\frac{1}{256}\\right ), \\quad \\left ( {\\left|01101101\\right\\rangle }, \\quad \\frac{1}{256}\\right ), \\quad \\left ( {\\left|01101110\\right\\rangle }, \\quad \\frac{1}{256}\\right ), \\quad \\left ( {\\left|01101111\\right\\rangle }, \\quad \\frac{1}{256}\\right ), \\quad \\left ( {\\left|01110000\\right\\rangle }, \\quad \\frac{1}{256}\\right ), \\quad \\left ( {\\left|01110001\\right\\rangle }, \\quad \\frac{1}{256}\\right ), \\quad \\left ( {\\left|01110010\\right\\rangle }, \\quad \\frac{1}{256}\\right ), \\quad \\left ( {\\left|01110011\\right\\rangle }, \\quad \\frac{1}{256}\\right ), \\quad \\left ( {\\left|01110100\\right\\rangle }, \\quad \\frac{1}{256}\\right ), \\quad \\left ( {\\left|01110101\\right\\rangle }, \\quad \\frac{1}{256}\\right ), \\quad \\left ( {\\left|01110110\\right\\rangle }, \\quad \\frac{1}{256}\\right ), \\quad \\left ( {\\left|01110111\\right\\rangle }, \\quad \\frac{1}{256}\\right ), \\quad \\left ( {\\left|01111000\\right\\rangle }, \\quad \\frac{1}{256}\\right ), \\quad \\left ( {\\left|01111001\\right\\rangle }, \\quad \\frac{1}{256}\\right ), \\quad \\left ( {\\left|01111010\\right\\rangle }, \\quad \\frac{1}{256}\\right ), \\quad \\left ( {\\left|01111011\\right\\rangle }, \\quad \\frac{1}{256}\\right ), \\quad \\left ( {\\left|01111100\\right\\rangle }, \\quad \\frac{1}{256}\\right ), \\quad \\left ( {\\left|01111101\\right\\rangle }, \\quad \\frac{1}{256}\\right ), \\quad \\left ( {\\left|01111110\\right\\rangle }, \\quad \\frac{1}{256}\\right ), \\quad \\left ( {\\left|01111111\\right\\rangle }, \\quad \\frac{1}{256}\\right ), \\quad \\left ( {\\left|10000000\\right\\rangle }, \\quad \\frac{1}{256}\\right ), \\quad \\left ( {\\left|10000001\\right\\rangle }, \\quad \\frac{1}{256}\\right ), \\quad \\left ( {\\left|10000010\\right\\rangle }, \\quad \\frac{1}{256}\\right ), \\quad \\left ( {\\left|10000011\\right\\rangle }, \\quad \\frac{1}{256}\\right ), \\quad \\left ( {\\left|10000100\\right\\rangle }, \\quad \\frac{1}{256}\\right ), \\quad \\left ( {\\left|10000101\\right\\rangle }, \\quad \\frac{1}{256}\\right ), \\quad \\left ( {\\left|10000110\\right\\rangle }, \\quad \\frac{1}{256}\\right ), \\quad \\left ( {\\left|10000111\\right\\rangle }, \\quad \\frac{1}{256}\\right ), \\quad \\left ( {\\left|10001000\\right\\rangle }, \\quad \\frac{1}{256}\\right ), \\quad \\left ( {\\left|10001001\\right\\rangle }, \\quad \\frac{1}{256}\\right ), \\quad \\left ( {\\left|10001010\\right\\rangle }, \\quad \\frac{1}{256}\\right ), \\quad \\left ( {\\left|10001011\\right\\rangle }, \\quad \\frac{1}{256}\\right ), \\quad \\left ( {\\left|10001100\\right\\rangle }, \\quad \\frac{1}{256}\\right ), \\quad \\left ( {\\left|10001101\\right\\rangle }, \\quad \\frac{1}{256}\\right ), \\quad \\left ( {\\left|10001110\\right\\rangle }, \\quad \\frac{1}{256}\\right ), \\quad \\left ( {\\left|10001111\\right\\rangle }, \\quad \\frac{1}{256}\\right ), \\quad \\left ( {\\left|10010000\\right\\rangle }, \\quad \\frac{1}{256}\\right ), \\quad \\left ( {\\left|10010001\\right\\rangle }, \\quad \\frac{1}{256}\\right ), \\quad \\left ( {\\left|10010010\\right\\rangle }, \\quad \\frac{1}{256}\\right ), \\quad \\left ( {\\left|10010011\\right\\rangle }, \\quad \\frac{1}{256}\\right ), \\quad \\left ( {\\left|10010100\\right\\rangle }, \\quad \\frac{1}{256}\\right ), \\quad \\left ( {\\left|10010101\\right\\rangle }, \\quad \\frac{1}{256}\\right ), \\quad \\left ( {\\left|10010110\\right\\rangle }, \\quad \\frac{1}{256}\\right ), \\quad \\left ( {\\left|10010111\\right\\rangle }, \\quad \\frac{1}{256}\\right ), \\quad \\left ( {\\left|10011000\\right\\rangle }, \\quad \\frac{1}{256}\\right ), \\quad \\left ( {\\left|10011001\\right\\rangle }, \\quad \\frac{1}{256}\\right ), \\quad \\left ( {\\left|10011010\\right\\rangle }, \\quad \\frac{1}{256}\\right ), \\quad \\left ( {\\left|10011011\\right\\rangle }, \\quad \\frac{1}{256}\\right ), \\quad \\left ( {\\left|10011100\\right\\rangle }, \\quad \\frac{1}{256}\\right ), \\quad \\left ( {\\left|10011101\\right\\rangle }, \\quad \\frac{1}{256}\\right ), \\quad \\left ( {\\left|10011110\\right\\rangle }, \\quad \\frac{1}{256}\\right ), \\quad \\left ( {\\left|10011111\\right\\rangle }, \\quad \\frac{1}{256}\\right ), \\quad \\left ( {\\left|10100000\\right\\rangle }, \\quad \\frac{1}{256}\\right ), \\quad \\left ( {\\left|10100001\\right\\rangle }, \\quad \\frac{1}{256}\\right ), \\quad \\left ( {\\left|10100010\\right\\rangle }, \\quad \\frac{1}{256}\\right ), \\quad \\left ( {\\left|10100011\\right\\rangle }, \\quad \\frac{1}{256}\\right ), \\quad \\left ( {\\left|10100100\\right\\rangle }, \\quad \\frac{1}{256}\\right ), \\quad \\left ( {\\left|10100101\\right\\rangle }, \\quad \\frac{1}{256}\\right ), \\quad \\left ( {\\left|10100110\\right\\rangle }, \\quad \\frac{1}{256}\\right ), \\quad \\left ( {\\left|10100111\\right\\rangle }, \\quad \\frac{1}{256}\\right ), \\quad \\left ( {\\left|10101000\\right\\rangle }, \\quad \\frac{1}{256}\\right ), \\quad \\left ( {\\left|10101001\\right\\rangle }, \\quad \\frac{1}{256}\\right ), \\quad \\left ( {\\left|10101010\\right\\rangle }, \\quad \\frac{1}{256}\\right ), \\quad \\left ( {\\left|10101011\\right\\rangle }, \\quad \\frac{1}{256}\\right ), \\quad \\left ( {\\left|10101100\\right\\rangle }, \\quad \\frac{1}{256}\\right ), \\quad \\left ( {\\left|10101101\\right\\rangle }, \\quad \\frac{1}{256}\\right ), \\quad \\left ( {\\left|10101110\\right\\rangle }, \\quad \\frac{1}{256}\\right ), \\quad \\left ( {\\left|10101111\\right\\rangle }, \\quad \\frac{1}{256}\\right ), \\quad \\left ( {\\left|10110000\\right\\rangle }, \\quad \\frac{1}{256}\\right ), \\quad \\left ( {\\left|10110001\\right\\rangle }, \\quad \\frac{1}{256}\\right ), \\quad \\left ( {\\left|10110010\\right\\rangle }, \\quad \\frac{1}{256}\\right ), \\quad \\left ( {\\left|10110011\\right\\rangle }, \\quad \\frac{1}{256}\\right ), \\quad \\left ( {\\left|10110100\\right\\rangle }, \\quad \\frac{1}{256}\\right ), \\quad \\left ( {\\left|10110101\\right\\rangle }, \\quad \\frac{1}{256}\\right ), \\quad \\left ( {\\left|10110110\\right\\rangle }, \\quad \\frac{1}{256}\\right ), \\quad \\left ( {\\left|10110111\\right\\rangle }, \\quad \\frac{1}{256}\\right ), \\quad \\left ( {\\left|10111000\\right\\rangle }, \\quad \\frac{1}{256}\\right ), \\quad \\left ( {\\left|10111001\\right\\rangle }, \\quad \\frac{1}{256}\\right ), \\quad \\left ( {\\left|10111010\\right\\rangle }, \\quad \\frac{1}{256}\\right ), \\quad \\left ( {\\left|10111011\\right\\rangle }, \\quad \\frac{1}{256}\\right ), \\quad \\left ( {\\left|10111100\\right\\rangle }, \\quad \\frac{1}{256}\\right ), \\quad \\left ( {\\left|10111101\\right\\rangle }, \\quad \\frac{1}{256}\\right ), \\quad \\left ( {\\left|10111110\\right\\rangle }, \\quad \\frac{1}{256}\\right ), \\quad \\left ( {\\left|10111111\\right\\rangle }, \\quad \\frac{1}{256}\\right ), \\quad \\left ( {\\left|11000000\\right\\rangle }, \\quad \\frac{1}{256}\\right ), \\quad \\left ( {\\left|11000001\\right\\rangle }, \\quad \\frac{1}{256}\\right ), \\quad \\left ( {\\left|11000010\\right\\rangle }, \\quad \\frac{1}{256}\\right ), \\quad \\left ( {\\left|11000011\\right\\rangle }, \\quad \\frac{1}{256}\\right ), \\quad \\left ( {\\left|11000100\\right\\rangle }, \\quad \\frac{1}{256}\\right ), \\quad \\left ( {\\left|11000101\\right\\rangle }, \\quad \\frac{1}{256}\\right ), \\quad \\left ( {\\left|11000110\\right\\rangle }, \\quad \\frac{1}{256}\\right ), \\quad \\left ( {\\left|11000111\\right\\rangle }, \\quad \\frac{1}{256}\\right ), \\quad \\left ( {\\left|11001000\\right\\rangle }, \\quad \\frac{1}{256}\\right ), \\quad \\left ( {\\left|11001001\\right\\rangle }, \\quad \\frac{1}{256}\\right ), \\quad \\left ( {\\left|11001010\\right\\rangle }, \\quad \\frac{1}{256}\\right ), \\quad \\left ( {\\left|11001011\\right\\rangle }, \\quad \\frac{1}{256}\\right ), \\quad \\left ( {\\left|11001100\\right\\rangle }, \\quad \\frac{1}{256}\\right ), \\quad \\left ( {\\left|11001101\\right\\rangle }, \\quad \\frac{1}{256}\\right ), \\quad \\left ( {\\left|11001110\\right\\rangle }, \\quad \\frac{1}{256}\\right ), \\quad \\left ( {\\left|11001111\\right\\rangle }, \\quad \\frac{1}{256}\\right ), \\quad \\left ( {\\left|11010000\\right\\rangle }, \\quad \\frac{1}{256}\\right ), \\quad \\left ( {\\left|11010001\\right\\rangle }, \\quad \\frac{1}{256}\\right ), \\quad \\left ( {\\left|11010010\\right\\rangle }, \\quad \\frac{1}{256}\\right ), \\quad \\left ( {\\left|11010011\\right\\rangle }, \\quad \\frac{1}{256}\\right ), \\quad \\left ( {\\left|11010100\\right\\rangle }, \\quad \\frac{1}{256}\\right ), \\quad \\left ( {\\left|11010101\\right\\rangle }, \\quad \\frac{1}{256}\\right ), \\quad \\left ( {\\left|11010110\\right\\rangle }, \\quad \\frac{1}{256}\\right ), \\quad \\left ( {\\left|11010111\\right\\rangle }, \\quad \\frac{1}{256}\\right ), \\quad \\left ( {\\left|11011000\\right\\rangle }, \\quad \\frac{1}{256}\\right ), \\quad \\left ( {\\left|11011001\\right\\rangle }, \\quad \\frac{1}{256}\\right ), \\quad \\left ( {\\left|11011010\\right\\rangle }, \\quad \\frac{1}{256}\\right ), \\quad \\left ( {\\left|11011011\\right\\rangle }, \\quad \\frac{1}{256}\\right ), \\quad \\left ( {\\left|11011100\\right\\rangle }, \\quad \\frac{1}{256}\\right ), \\quad \\left ( {\\left|11011101\\right\\rangle }, \\quad \\frac{1}{256}\\right ), \\quad \\left ( {\\left|11011110\\right\\rangle }, \\quad \\frac{1}{256}\\right ), \\quad \\left ( {\\left|11011111\\right\\rangle }, \\quad \\frac{1}{256}\\right ), \\quad \\left ( {\\left|11100000\\right\\rangle }, \\quad \\frac{1}{256}\\right ), \\quad \\left ( {\\left|11100001\\right\\rangle }, \\quad \\frac{1}{256}\\right ), \\quad \\left ( {\\left|11100010\\right\\rangle }, \\quad \\frac{1}{256}\\right ), \\quad \\left ( {\\left|11100011\\right\\rangle }, \\quad \\frac{1}{256}\\right ), \\quad \\left ( {\\left|11100100\\right\\rangle }, \\quad \\frac{1}{256}\\right ), \\quad \\left ( {\\left|11100101\\right\\rangle }, \\quad \\frac{1}{256}\\right ), \\quad \\left ( {\\left|11100110\\right\\rangle }, \\quad \\frac{1}{256}\\right ), \\quad \\left ( {\\left|11100111\\right\\rangle }, \\quad \\frac{1}{256}\\right ), \\quad \\left ( {\\left|11101000\\right\\rangle }, \\quad \\frac{1}{256}\\right ), \\quad \\left ( {\\left|11101001\\right\\rangle }, \\quad \\frac{1}{256}\\right ), \\quad \\left ( {\\left|11101010\\right\\rangle }, \\quad \\frac{1}{256}\\right ), \\quad \\left ( {\\left|11101011\\right\\rangle }, \\quad \\frac{1}{256}\\right ), \\quad \\left ( {\\left|11101100\\right\\rangle }, \\quad \\frac{1}{256}\\right ), \\quad \\left ( {\\left|11101101\\right\\rangle }, \\quad \\frac{1}{256}\\right ), \\quad \\left ( {\\left|11101110\\right\\rangle }, \\quad \\frac{1}{256}\\right ), \\quad \\left ( {\\left|11101111\\right\\rangle }, \\quad \\frac{1}{256}\\right ), \\quad \\left ( {\\left|11110000\\right\\rangle }, \\quad \\frac{1}{256}\\right ), \\quad \\left ( {\\left|11110001\\right\\rangle }, \\quad \\frac{1}{256}\\right ), \\quad \\left ( {\\left|11110010\\right\\rangle }, \\quad \\frac{1}{256}\\right ), \\quad \\left ( {\\left|11110011\\right\\rangle }, \\quad \\frac{1}{256}\\right ), \\quad \\left ( {\\left|11110100\\right\\rangle }, \\quad \\frac{1}{256}\\right ), \\quad \\left ( {\\left|11110101\\right\\rangle }, \\quad \\frac{1}{256}\\right ), \\quad \\left ( {\\left|11110110\\right\\rangle }, \\quad \\frac{1}{256}\\right ), \\quad \\left ( {\\left|11110111\\right\\rangle }, \\quad \\frac{1}{256}\\right ), \\quad \\left ( {\\left|11111000\\right\\rangle }, \\quad \\frac{1}{256}\\right ), \\quad \\left ( {\\left|11111001\\right\\rangle }, \\quad \\frac{1}{256}\\right ), \\quad \\left ( {\\left|11111010\\right\\rangle }, \\quad \\frac{1}{256}\\right ), \\quad \\left ( {\\left|11111011\\right\\rangle }, \\quad \\frac{1}{256}\\right ), \\quad \\left ( {\\left|11111100\\right\\rangle }, \\quad \\frac{1}{256}\\right ), \\quad \\left ( {\\left|11111101\\right\\rangle }, \\quad \\frac{1}{256}\\right ), \\quad \\left ( {\\left|11111110\\right\\rangle }, \\quad \\frac{1}{256}\\right ), \\quad \\left ( {\\left|11111111\\right\\rangle }, \\quad \\frac{1}{256}\\right )\\right ]$$"
      ],
      "text/plain": [
       "[(❘00000000⟩, 1/256), (❘00000001⟩, 1/256), (❘00000010⟩, 1/256), (❘00000011⟩, 1\n",
       "/256), (❘00000100⟩, 1/256), (❘00000101⟩, 1/256), (❘00000110⟩, 1/256), (❘000001\n",
       "11⟩, 1/256), (❘00001000⟩, 1/256), (❘00001001⟩, 1/256), (❘00001010⟩, 1/256), (❘\n",
       "00001011⟩, 1/256), (❘00001100⟩, 1/256), (❘00001101⟩, 1/256), (❘00001110⟩, 1/25\n",
       "6), (❘00001111⟩, 1/256), (❘00010000⟩, 1/256), (❘00010001⟩, 1/256), (❘00010010⟩\n",
       ", 1/256), (❘00010011⟩, 1/256), (❘00010100⟩, 1/256), (❘00010101⟩, 1/256), (❘000\n",
       "10110⟩, 1/256), (❘00010111⟩, 1/256), (❘00011000⟩, 1/256), (❘00011001⟩, 1/256),\n",
       " (❘00011010⟩, 1/256), (❘00011011⟩, 1/256), (❘00011100⟩, 1/256), (❘00011101⟩, 1\n",
       "/256), (❘00011110⟩, 1/256), (❘00011111⟩, 1/256), (❘00100000⟩, 1/256), (❘001000\n",
       "01⟩, 1/256), (❘00100010⟩, 1/256), (❘00100011⟩, 1/256), (❘00100100⟩, 1/256), (❘\n",
       "00100101⟩, 1/256), (❘00100110⟩, 1/256), (❘00100111⟩, 1/256), (❘00101000⟩, 1/25\n",
       "6), (❘00101001⟩, 1/256), (❘00101010⟩, 1/256), (❘00101011⟩, 1/256), (❘00101100⟩\n",
       ", 1/256), (❘00101101⟩, 1/256), (❘00101110⟩, 1/256), (❘00101111⟩, 1/256), (❘001\n",
       "10000⟩, 1/256), (❘00110001⟩, 1/256), (❘00110010⟩, 1/256), (❘00110011⟩, 1/256),\n",
       " (❘00110100⟩, 1/256), (❘00110101⟩, 1/256), (❘00110110⟩, 1/256), (❘00110111⟩, 1\n",
       "/256), (❘00111000⟩, 1/256), (❘00111001⟩, 1/256), (❘00111010⟩, 1/256), (❘001110\n",
       "11⟩, 1/256), (❘00111100⟩, 1/256), (❘00111101⟩, 1/256), (❘00111110⟩, 1/256), (❘\n",
       "00111111⟩, 1/256), (❘01000000⟩, 1/256), (❘01000001⟩, 1/256), (❘01000010⟩, 1/25\n",
       "6), (❘01000011⟩, 1/256), (❘01000100⟩, 1/256), (❘01000101⟩, 1/256), (❘01000110⟩\n",
       ", 1/256), (❘01000111⟩, 1/256), (❘01001000⟩, 1/256), (❘01001001⟩, 1/256), (❘010\n",
       "01010⟩, 1/256), (❘01001011⟩, 1/256), (❘01001100⟩, 1/256), (❘01001101⟩, 1/256),\n",
       " (❘01001110⟩, 1/256), (❘01001111⟩, 1/256), (❘01010000⟩, 1/256), (❘01010001⟩, 1\n",
       "/256), (❘01010010⟩, 1/256), (❘01010011⟩, 1/256), (❘01010100⟩, 1/256), (❘010101\n",
       "01⟩, 1/256), (❘01010110⟩, 1/256), (❘01010111⟩, 1/256), (❘01011000⟩, 1/256), (❘\n",
       "01011001⟩, 1/256), (❘01011010⟩, 1/256), (❘01011011⟩, 1/256), (❘01011100⟩, 1/25\n",
       "6), (❘01011101⟩, 1/256), (❘01011110⟩, 1/256), (❘01011111⟩, 1/256), (❘01100000⟩\n",
       ", 1/256), (❘01100001⟩, 1/256), (❘01100010⟩, 1/256), (❘01100011⟩, 1/256), (❘011\n",
       "00100⟩, 1/256), (❘01100101⟩, 1/256), (❘01100110⟩, 1/256), (❘01100111⟩, 1/256),\n",
       " (❘01101000⟩, 1/256), (❘01101001⟩, 1/256), (❘01101010⟩, 1/256), (❘01101011⟩, 1\n",
       "/256), (❘01101100⟩, 1/256), (❘01101101⟩, 1/256), (❘01101110⟩, 1/256), (❘011011\n",
       "11⟩, 1/256), (❘01110000⟩, 1/256), (❘01110001⟩, 1/256), (❘01110010⟩, 1/256), (❘\n",
       "01110011⟩, 1/256), (❘01110100⟩, 1/256), (❘01110101⟩, 1/256), (❘01110110⟩, 1/25\n",
       "6), (❘01110111⟩, 1/256), (❘01111000⟩, 1/256), (❘01111001⟩, 1/256), (❘01111010⟩\n",
       ", 1/256), (❘01111011⟩, 1/256), (❘01111100⟩, 1/256), (❘01111101⟩, 1/256), (❘011\n",
       "11110⟩, 1/256), (❘01111111⟩, 1/256), (❘10000000⟩, 1/256), (❘10000001⟩, 1/256),\n",
       " (❘10000010⟩, 1/256), (❘10000011⟩, 1/256), (❘10000100⟩, 1/256), (❘10000101⟩, 1\n",
       "/256), (❘10000110⟩, 1/256), (❘10000111⟩, 1/256), (❘10001000⟩, 1/256), (❘100010\n",
       "01⟩, 1/256), (❘10001010⟩, 1/256), (❘10001011⟩, 1/256), (❘10001100⟩, 1/256), (❘\n",
       "10001101⟩, 1/256), (❘10001110⟩, 1/256), (❘10001111⟩, 1/256), (❘10010000⟩, 1/25\n",
       "6), (❘10010001⟩, 1/256), (❘10010010⟩, 1/256), (❘10010011⟩, 1/256), (❘10010100⟩\n",
       ", 1/256), (❘10010101⟩, 1/256), (❘10010110⟩, 1/256), (❘10010111⟩, 1/256), (❘100\n",
       "11000⟩, 1/256), (❘10011001⟩, 1/256), (❘10011010⟩, 1/256), (❘10011011⟩, 1/256),\n",
       " (❘10011100⟩, 1/256), (❘10011101⟩, 1/256), (❘10011110⟩, 1/256), (❘10011111⟩, 1\n",
       "/256), (❘10100000⟩, 1/256), (❘10100001⟩, 1/256), (❘10100010⟩, 1/256), (❘101000\n",
       "11⟩, 1/256), (❘10100100⟩, 1/256), (❘10100101⟩, 1/256), (❘10100110⟩, 1/256), (❘\n",
       "10100111⟩, 1/256), (❘10101000⟩, 1/256), (❘10101001⟩, 1/256), (❘10101010⟩, 1/25\n",
       "6), (❘10101011⟩, 1/256), (❘10101100⟩, 1/256), (❘10101101⟩, 1/256), (❘10101110⟩\n",
       ", 1/256), (❘10101111⟩, 1/256), (❘10110000⟩, 1/256), (❘10110001⟩, 1/256), (❘101\n",
       "10010⟩, 1/256), (❘10110011⟩, 1/256), (❘10110100⟩, 1/256), (❘10110101⟩, 1/256),\n",
       " (❘10110110⟩, 1/256), (❘10110111⟩, 1/256), (❘10111000⟩, 1/256), (❘10111001⟩, 1\n",
       "/256), (❘10111010⟩, 1/256), (❘10111011⟩, 1/256), (❘10111100⟩, 1/256), (❘101111\n",
       "01⟩, 1/256), (❘10111110⟩, 1/256), (❘10111111⟩, 1/256), (❘11000000⟩, 1/256), (❘\n",
       "11000001⟩, 1/256), (❘11000010⟩, 1/256), (❘11000011⟩, 1/256), (❘11000100⟩, 1/25\n",
       "6), (❘11000101⟩, 1/256), (❘11000110⟩, 1/256), (❘11000111⟩, 1/256), (❘11001000⟩\n",
       ", 1/256), (❘11001001⟩, 1/256), (❘11001010⟩, 1/256), (❘11001011⟩, 1/256), (❘110\n",
       "01100⟩, 1/256), (❘11001101⟩, 1/256), (❘11001110⟩, 1/256), (❘11001111⟩, 1/256),\n",
       " (❘11010000⟩, 1/256), (❘11010001⟩, 1/256), (❘11010010⟩, 1/256), (❘11010011⟩, 1\n",
       "/256), (❘11010100⟩, 1/256), (❘11010101⟩, 1/256), (❘11010110⟩, 1/256), (❘110101\n",
       "11⟩, 1/256), (❘11011000⟩, 1/256), (❘11011001⟩, 1/256), (❘11011010⟩, 1/256), (❘\n",
       "11011011⟩, 1/256), (❘11011100⟩, 1/256), (❘11011101⟩, 1/256), (❘11011110⟩, 1/25\n",
       "6), (❘11011111⟩, 1/256), (❘11100000⟩, 1/256), (❘11100001⟩, 1/256), (❘11100010⟩\n",
       ", 1/256), (❘11100011⟩, 1/256), (❘11100100⟩, 1/256), (❘11100101⟩, 1/256), (❘111\n",
       "00110⟩, 1/256), (❘11100111⟩, 1/256), (❘11101000⟩, 1/256), (❘11101001⟩, 1/256),\n",
       " (❘11101010⟩, 1/256), (❘11101011⟩, 1/256), (❘11101100⟩, 1/256), (❘11101101⟩, 1\n",
       "/256), (❘11101110⟩, 1/256), (❘11101111⟩, 1/256), (❘11110000⟩, 1/256), (❘111100\n",
       "01⟩, 1/256), (❘11110010⟩, 1/256), (❘11110011⟩, 1/256), (❘11110100⟩, 1/256), (❘\n",
       "11110101⟩, 1/256), (❘11110110⟩, 1/256), (❘11110111⟩, 1/256), (❘11111000⟩, 1/25\n",
       "6), (❘11111001⟩, 1/256), (❘11111010⟩, 1/256), (❘11111011⟩, 1/256), (❘11111100⟩\n",
       ", 1/256), (❘11111101⟩, 1/256), (❘11111110⟩, 1/256), (❘11111111⟩, 1/256)]"
      ]
     },
     "execution_count": 44,
     "metadata": {},
     "output_type": "execute_result"
    }
   ],
   "source": [
    "measure_all(hadamard_8)"
   ]
  },
  {
   "cell_type": "code",
   "execution_count": 45,
   "metadata": {
    "collapsed": false,
    "deletable": true,
    "editable": true
   },
   "outputs": [
    {
     "name": "stdout",
     "output_type": "stream",
     "text": [
      "❘10011110⟩\n",
      "❘01101111⟩\n",
      "❘00011011⟩\n",
      "❘00100000⟩\n",
      "❘01111111⟩\n",
      "❘10000101⟩\n",
      "❘00110100⟩\n",
      "❘00010001⟩\n"
     ]
    }
   ],
   "source": [
    "for i in range(8):\n",
    "    pprint(measure_all_oneshot(hadamard_8))"
   ]
  },
  {
   "cell_type": "markdown",
   "metadata": {
    "deletable": true,
    "editable": true
   },
   "source": [
    "## （例題１）Toffoli（CCX）, CCCX, CCCCX ..."
   ]
  },
  {
   "cell_type": "code",
   "execution_count": 46,
   "metadata": {
    "collapsed": false,
    "deletable": true,
    "editable": true
   },
   "outputs": [],
   "source": [
    "from sympy.physics.quantum.gate import CGateS"
   ]
  },
  {
   "cell_type": "code",
   "execution_count": 47,
   "metadata": {
    "collapsed": false,
    "deletable": true,
    "editable": true
   },
   "outputs": [
    {
     "data": {
      "text/plain": [
       "<sympy.physics.quantum.circuitplot.CircuitPlot at 0x112979ba8>"
      ]
     },
     "execution_count": 47,
     "metadata": {},
     "output_type": "execute_result"
    },
    {
     "data": {
      "image/png": "[encoded data removed]",
      "text/plain": [
       "<matplotlib.figure.Figure at 0x112979be0>"
      ]
     },
     "metadata": {},
     "output_type": "display_data"
    }
   ],
   "source": [
    "def CCX(c1,c2,t):  return CGateS((c1,c2),X(t))\n",
    "def Toffoli(c1,c2,t):  return CGateS((c1,c2),X(t))\n",
    "CircuitPlot(CCX(1,2,0),3,labels=labeller(3)[::-1])"
   ]
  },
  {
   "cell_type": "code",
   "execution_count": 48,
   "metadata": {
    "collapsed": false,
    "deletable": true,
    "editable": true
   },
   "outputs": [
    {
     "data": {
      "image/png": "[encoded data removed]",
      "text/latex": [
       "$$\\left[\\begin{matrix}1 & 0 & 0 & 0 & 0 & 0 & 0 & 0\\\\0 & 1 & 0 & 0 & 0 & 0 & 0 & 0\\\\0 & 0 & 1 & 0 & 0 & 0 & 0 & 0\\\\0 & 0 & 0 & 1 & 0 & 0 & 0 & 0\\\\0 & 0 & 0 & 0 & 1 & 0 & 0 & 0\\\\0 & 0 & 0 & 0 & 0 & 1 & 0 & 0\\\\0 & 0 & 0 & 0 & 0 & 0 & 0 & 1\\\\0 & 0 & 0 & 0 & 0 & 0 & 1 & 0\\end{matrix}\\right]$$"
      ],
      "text/plain": [
       "⎡1  0  0  0  0  0  0  0⎤\n",
       "⎢                      ⎥\n",
       "⎢0  1  0  0  0  0  0  0⎥\n",
       "⎢                      ⎥\n",
       "⎢0  0  1  0  0  0  0  0⎥\n",
       "⎢                      ⎥\n",
       "⎢0  0  0  1  0  0  0  0⎥\n",
       "⎢                      ⎥\n",
       "⎢0  0  0  0  1  0  0  0⎥\n",
       "⎢                      ⎥\n",
       "⎢0  0  0  0  0  1  0  0⎥\n",
       "⎢                      ⎥\n",
       "⎢0  0  0  0  0  0  0  1⎥\n",
       "⎢                      ⎥\n",
       "⎣0  0  0  0  0  0  1  0⎦"
      ]
     },
     "execution_count": 48,
     "metadata": {},
     "output_type": "execute_result"
    }
   ],
   "source": [
    "represent(CCX(1,2,0),nqubits=3)"
   ]
  },
  {
   "cell_type": "code",
   "execution_count": 49,
   "metadata": {
    "collapsed": false,
    "deletable": true,
    "editable": true
   },
   "outputs": [
    {
     "data": {
      "text/plain": [
       "<sympy.physics.quantum.circuitplot.CircuitPlot at 0x1122d6ac8>"
      ]
     },
     "execution_count": 49,
     "metadata": {},
     "output_type": "execute_result"
    },
    {
     "data": {
      "image/png": "[encoded data removed]",
      "text/plain": [
       "<matplotlib.figure.Figure at 0x1122d66d8>"
      ]
     },
     "metadata": {},
     "output_type": "display_data"
    }
   ],
   "source": [
    "def CCCX(c1,c2,c3,t): return CGateS((c1,c2,c3),X(t))\n",
    "CircuitPlot(CCCX(1,2,3,0),4,labels=labeller(4)[::-1])"
   ]
  },
  {
   "cell_type": "code",
   "execution_count": 50,
   "metadata": {
    "collapsed": false,
    "deletable": true,
    "editable": true
   },
   "outputs": [
    {
     "data": {
      "text/plain": [
       "<sympy.physics.quantum.circuitplot.CircuitPlot at 0x112a74390>"
      ]
     },
     "execution_count": 50,
     "metadata": {},
     "output_type": "execute_result"
    },
    {
     "data": {
      "image/png": "[encoded data removed]",
      "text/plain": [
       "<matplotlib.figure.Figure at 0x112a746a0>"
      ]
     },
     "metadata": {},
     "output_type": "display_data"
    }
   ],
   "source": [
    "def CCCCX(c1,c2,c3,c4,t): return CGateS((c1,c2,c3,c4),X(t))\n",
    "CircuitPlot(CCCCX(1,2,3,4,0),5,labels=labeller(5)[::-1])"
   ]
  },
  {
   "cell_type": "markdown",
   "metadata": {
    "deletable": true,
    "editable": true
   },
   "source": [
    "## （例題２）重ね合わせ状態の中の、ある状態のみマーキングする\n",
    "\n",
    "重ね合わせ状態の中の、ある状態 $ s_t $ のみに、−１掛ける操作（ここでは、マーキングを呼びます）を考えます。  \n",
    "  \n",
    "たとえば、２量子ビットの重ね合わせ状態 $\\displaystyle \\frac{1}{\\sqrt{2}} \\left(\\ |\\ 00\\ \\rangle\\ +\\ |\\ 01\\ \\rangle\\ +\\ |\\ 10\\ \\rangle\\ +\\ |\\ 11\\ \\rangle\\ \\right) $ を考えるとき、  \n",
    "状態 $\\;|\\ 10\\ \\rangle\\;$ をマーキングするとします。   \n",
    "  \n",
    "マーキング後の状態は、$\\displaystyle  \\frac{1}{\\sqrt{2}} \\left(\\ |\\ 00\\ \\rangle\\ +\\ |\\ 01\\ \\rangle\\ -\\ |\\ 10\\ \\rangle\\ +\\ |\\ 11\\ \\rangle\\ \\right) $ となることを目指します。"
   ]
  },
  {
   "cell_type": "markdown",
   "metadata": {
    "deletable": true,
    "editable": true
   },
   "source": [
    "### ３量子ビットのマーキング操作を試してみましょう"
   ]
  },
  {
   "cell_type": "code",
   "execution_count": 51,
   "metadata": {
    "collapsed": false,
    "deletable": true,
    "editable": true
   },
   "outputs": [],
   "source": [
    "h_3 = hadamard(0,3)\n",
    "target_state_3 = qapply(h_3*Qubit('000'))          #３量子ビットの重ね合わせ状態を準備します。\n",
    "def CCZ(c1,c2,t): return (H(t)*CCX(c1,c2,t)*H(t)) # ＣＣＺ演算子を定義します。"
   ]
  },
  {
   "cell_type": "code",
   "execution_count": 52,
   "metadata": {
    "collapsed": false,
    "deletable": true,
    "editable": true
   },
   "outputs": [
    {
     "data": {
      "image/png": "[encoded data removed]",
      "text/latex": [
       "$$\\frac{\\sqrt{2}}{4} {\\left|000\\right\\rangle } + \\frac{\\sqrt{2}}{4} {\\left|001\\right\\rangle } + \\frac{\\sqrt{2}}{4} {\\left|010\\right\\rangle } + \\frac{\\sqrt{2}}{4} {\\left|011\\right\\rangle } + \\frac{\\sqrt{2}}{4} {\\left|100\\right\\rangle } + \\frac{\\sqrt{2}}{4} {\\left|101\\right\\rangle } + \\frac{\\sqrt{2}}{4} {\\left|110\\right\\rangle } - \\frac{\\sqrt{2}}{4} {\\left|111\\right\\rangle }$$"
      ],
      "text/plain": [
       "√2⋅❘000⟩   √2⋅❘001⟩   √2⋅❘010⟩   √2⋅❘011⟩   √2⋅❘100⟩   √2⋅❘101⟩   √2⋅❘110⟩   √\n",
       "──────── + ──────── + ──────── + ──────── + ──────── + ──────── + ──────── - ─\n",
       "   4          4          4          4          4          4          4        \n",
       "\n",
       "2⋅❘111⟩\n",
       "───────\n",
       "  4    "
      ]
     },
     "execution_count": 52,
     "metadata": {},
     "output_type": "execute_result"
    }
   ],
   "source": [
    "mark_7 = CCZ(1,2,0)\n",
    "qapply(mark_7*target_state_3)"
   ]
  },
  {
   "cell_type": "code",
   "execution_count": 53,
   "metadata": {
    "collapsed": false,
    "deletable": true,
    "editable": true
   },
   "outputs": [
    {
     "data": {
      "image/png": "[encoded data removed]",
      "text/latex": [
       "$$\\frac{\\sqrt{2}}{4} {\\left|000\\right\\rangle } + \\frac{\\sqrt{2}}{4} {\\left|001\\right\\rangle } + \\frac{\\sqrt{2}}{4} {\\left|010\\right\\rangle } + \\frac{\\sqrt{2}}{4} {\\left|011\\right\\rangle } + \\frac{\\sqrt{2}}{4} {\\left|100\\right\\rangle } + \\frac{\\sqrt{2}}{4} {\\left|101\\right\\rangle } - \\frac{\\sqrt{2}}{4} {\\left|110\\right\\rangle } + \\frac{\\sqrt{2}}{4} {\\left|111\\right\\rangle }$$"
      ],
      "text/plain": [
       "√2⋅❘000⟩   √2⋅❘001⟩   √2⋅❘010⟩   √2⋅❘011⟩   √2⋅❘100⟩   √2⋅❘101⟩   √2⋅❘110⟩   √\n",
       "──────── + ──────── + ──────── + ──────── + ──────── + ──────── - ──────── + ─\n",
       "   4          4          4          4          4          4          4        \n",
       "\n",
       "2⋅❘111⟩\n",
       "───────\n",
       "  4    "
      ]
     },
     "execution_count": 53,
     "metadata": {},
     "output_type": "execute_result"
    }
   ],
   "source": [
    "mark_6 = X(0)*CCZ(1,2,0)*X(0)\n",
    "qapply(mark_6*target_state_3)"
   ]
  },
  {
   "cell_type": "code",
   "execution_count": 54,
   "metadata": {
    "collapsed": false,
    "deletable": true,
    "editable": true
   },
   "outputs": [
    {
     "data": {
      "image/png": "[encoded data removed]",
      "text/latex": [
       "$$\\frac{\\sqrt{2}}{4} {\\left|000\\right\\rangle } + \\frac{\\sqrt{2}}{4} {\\left|001\\right\\rangle } + \\frac{\\sqrt{2}}{4} {\\left|010\\right\\rangle } + \\frac{\\sqrt{2}}{4} {\\left|011\\right\\rangle } + \\frac{\\sqrt{2}}{4} {\\left|100\\right\\rangle } - \\frac{\\sqrt{2}}{4} {\\left|101\\right\\rangle } + \\frac{\\sqrt{2}}{4} {\\left|110\\right\\rangle } + \\frac{\\sqrt{2}}{4} {\\left|111\\right\\rangle }$$"
      ],
      "text/plain": [
       "√2⋅❘000⟩   √2⋅❘001⟩   √2⋅❘010⟩   √2⋅❘011⟩   √2⋅❘100⟩   √2⋅❘101⟩   √2⋅❘110⟩   √\n",
       "──────── + ──────── + ──────── + ──────── + ──────── - ──────── + ──────── + ─\n",
       "   4          4          4          4          4          4          4        \n",
       "\n",
       "2⋅❘111⟩\n",
       "───────\n",
       "  4    "
      ]
     },
     "execution_count": 54,
     "metadata": {},
     "output_type": "execute_result"
    }
   ],
   "source": [
    "mark_5 = X(1)*CCZ(1,2,0)*X(1)\n",
    "qapply(mark_5*target_state_3)"
   ]
  },
  {
   "cell_type": "code",
   "execution_count": 55,
   "metadata": {
    "collapsed": false,
    "deletable": true,
    "editable": true
   },
   "outputs": [
    {
     "data": {
      "image/png": "[encoded data removed]",
      "text/latex": [
       "$$\\frac{\\sqrt{2}}{4} {\\left|000\\right\\rangle } + \\frac{\\sqrt{2}}{4} {\\left|001\\right\\rangle } + \\frac{\\sqrt{2}}{4} {\\left|010\\right\\rangle } + \\frac{\\sqrt{2}}{4} {\\left|011\\right\\rangle } - \\frac{\\sqrt{2}}{4} {\\left|100\\right\\rangle } + \\frac{\\sqrt{2}}{4} {\\left|101\\right\\rangle } + \\frac{\\sqrt{2}}{4} {\\left|110\\right\\rangle } + \\frac{\\sqrt{2}}{4} {\\left|111\\right\\rangle }$$"
      ],
      "text/plain": [
       "√2⋅❘000⟩   √2⋅❘001⟩   √2⋅❘010⟩   √2⋅❘011⟩   √2⋅❘100⟩   √2⋅❘101⟩   √2⋅❘110⟩   √\n",
       "──────── + ──────── + ──────── + ──────── - ──────── + ──────── + ──────── + ─\n",
       "   4          4          4          4          4          4          4        \n",
       "\n",
       "2⋅❘111⟩\n",
       "───────\n",
       "  4    "
      ]
     },
     "execution_count": 55,
     "metadata": {},
     "output_type": "execute_result"
    }
   ],
   "source": [
    "mark_4 = X(1)*X(0)*CCZ(1,2,0)*X(1)*X(0)\n",
    "qapply(mark_4*target_state_3)"
   ]
  },
  {
   "cell_type": "code",
   "execution_count": 56,
   "metadata": {
    "collapsed": false,
    "deletable": true,
    "editable": true
   },
   "outputs": [
    {
     "data": {
      "image/png": "[encoded data removed]",
      "text/latex": [
       "$$\\frac{\\sqrt{2}}{4} {\\left|000\\right\\rangle } + \\frac{\\sqrt{2}}{4} {\\left|001\\right\\rangle } + \\frac{\\sqrt{2}}{4} {\\left|010\\right\\rangle } - \\frac{\\sqrt{2}}{4} {\\left|011\\right\\rangle } + \\frac{\\sqrt{2}}{4} {\\left|100\\right\\rangle } + \\frac{\\sqrt{2}}{4} {\\left|101\\right\\rangle } + \\frac{\\sqrt{2}}{4} {\\left|110\\right\\rangle } + \\frac{\\sqrt{2}}{4} {\\left|111\\right\\rangle }$$"
      ],
      "text/plain": [
       "√2⋅❘000⟩   √2⋅❘001⟩   √2⋅❘010⟩   √2⋅❘011⟩   √2⋅❘100⟩   √2⋅❘101⟩   √2⋅❘110⟩   √\n",
       "──────── + ──────── + ──────── - ──────── + ──────── + ──────── + ──────── + ─\n",
       "   4          4          4          4          4          4          4        \n",
       "\n",
       "2⋅❘111⟩\n",
       "───────\n",
       "  4    "
      ]
     },
     "execution_count": 56,
     "metadata": {},
     "output_type": "execute_result"
    }
   ],
   "source": [
    "mark_3 = X(2)*CCZ(1,2,0)*X(2)\n",
    "qapply(mark_3*target_state_3)"
   ]
  },
  {
   "cell_type": "code",
   "execution_count": 57,
   "metadata": {
    "collapsed": false,
    "deletable": true,
    "editable": true
   },
   "outputs": [
    {
     "data": {
      "image/png": "[encoded data removed]",
      "text/latex": [
       "$$\\frac{\\sqrt{2}}{4} {\\left|000\\right\\rangle } + \\frac{\\sqrt{2}}{4} {\\left|001\\right\\rangle } - \\frac{\\sqrt{2}}{4} {\\left|010\\right\\rangle } + \\frac{\\sqrt{2}}{4} {\\left|011\\right\\rangle } + \\frac{\\sqrt{2}}{4} {\\left|100\\right\\rangle } + \\frac{\\sqrt{2}}{4} {\\left|101\\right\\rangle } + \\frac{\\sqrt{2}}{4} {\\left|110\\right\\rangle } + \\frac{\\sqrt{2}}{4} {\\left|111\\right\\rangle }$$"
      ],
      "text/plain": [
       "√2⋅❘000⟩   √2⋅❘001⟩   √2⋅❘010⟩   √2⋅❘011⟩   √2⋅❘100⟩   √2⋅❘101⟩   √2⋅❘110⟩   √\n",
       "──────── + ──────── - ──────── + ──────── + ──────── + ──────── + ──────── + ─\n",
       "   4          4          4          4          4          4          4        \n",
       "\n",
       "2⋅❘111⟩\n",
       "───────\n",
       "  4    "
      ]
     },
     "execution_count": 57,
     "metadata": {},
     "output_type": "execute_result"
    }
   ],
   "source": [
    "mark_2 = X(2)*X(0)*CCZ(1,2,0)*X(2)*X(0)\n",
    "qapply(mark_2*target_state_3)"
   ]
  },
  {
   "cell_type": "code",
   "execution_count": 58,
   "metadata": {
    "collapsed": false,
    "deletable": true,
    "editable": true
   },
   "outputs": [
    {
     "data": {
      "image/png": "[encoded data removed]",
      "text/latex": [
       "$$\\frac{\\sqrt{2}}{4} {\\left|000\\right\\rangle } - \\frac{\\sqrt{2}}{4} {\\left|001\\right\\rangle } + \\frac{\\sqrt{2}}{4} {\\left|010\\right\\rangle } + \\frac{\\sqrt{2}}{4} {\\left|011\\right\\rangle } + \\frac{\\sqrt{2}}{4} {\\left|100\\right\\rangle } + \\frac{\\sqrt{2}}{4} {\\left|101\\right\\rangle } + \\frac{\\sqrt{2}}{4} {\\left|110\\right\\rangle } + \\frac{\\sqrt{2}}{4} {\\left|111\\right\\rangle }$$"
      ],
      "text/plain": [
       "√2⋅❘000⟩   √2⋅❘001⟩   √2⋅❘010⟩   √2⋅❘011⟩   √2⋅❘100⟩   √2⋅❘101⟩   √2⋅❘110⟩   √\n",
       "──────── - ──────── + ──────── + ──────── + ──────── + ──────── + ──────── + ─\n",
       "   4          4          4          4          4          4          4        \n",
       "\n",
       "2⋅❘111⟩\n",
       "───────\n",
       "  4    "
      ]
     },
     "execution_count": 58,
     "metadata": {},
     "output_type": "execute_result"
    }
   ],
   "source": [
    "mark_1 = X(2)*X(1)*CCZ(1,2,0)*X(2)*X(1)\n",
    "qapply(mark_1*target_state_3)"
   ]
  },
  {
   "cell_type": "code",
   "execution_count": 59,
   "metadata": {
    "collapsed": false,
    "deletable": true,
    "editable": true
   },
   "outputs": [
    {
     "data": {
      "image/png": "[encoded data removed]",
      "text/latex": [
       "$$- \\frac{\\sqrt{2}}{4} {\\left|000\\right\\rangle } + \\frac{\\sqrt{2}}{4} {\\left|001\\right\\rangle } + \\frac{\\sqrt{2}}{4} {\\left|010\\right\\rangle } + \\frac{\\sqrt{2}}{4} {\\left|011\\right\\rangle } + \\frac{\\sqrt{2}}{4} {\\left|100\\right\\rangle } + \\frac{\\sqrt{2}}{4} {\\left|101\\right\\rangle } + \\frac{\\sqrt{2}}{4} {\\left|110\\right\\rangle } + \\frac{\\sqrt{2}}{4} {\\left|111\\right\\rangle }$$"
      ],
      "text/plain": [
       "  √2⋅❘000⟩   √2⋅❘001⟩   √2⋅❘010⟩   √2⋅❘011⟩   √2⋅❘100⟩   √2⋅❘101⟩   √2⋅❘110⟩  \n",
       "- ──────── + ──────── + ──────── + ──────── + ──────── + ──────── + ──────── +\n",
       "     4          4          4          4          4          4          4      \n",
       "\n",
       " √2⋅❘111⟩\n",
       " ────────\n",
       "    4    "
      ]
     },
     "execution_count": 59,
     "metadata": {},
     "output_type": "execute_result"
    }
   ],
   "source": [
    "mark_0 = X(2)*X(1)*X(0)*CCZ(1,2,0)*X(2)*X(1)*X(0)\n",
    "qapply(mark_0*h_3*Qubit('000'))"
   ]
  },
  {
   "cell_type": "markdown",
   "metadata": {
    "deletable": true,
    "editable": true
   },
   "source": [
    "## （例題３）重ね合わせ状態の中に、マーキングした状態があるかを見る\n",
    "  \n",
    "著名な操作「Grover のアルゴリズム」を試してみましょう。  \n",
    "\n",
    "（ヒント１）平均値周りの反転操作：$\\displaystyle D_{n} = H_{n} \\cdot \\Big( 2\\ |\\ 0\\ \\rangle\\langle\\ 0\\ |_{n}\\ -\\ I_{n} \\Big) \\cdot H_{n} $ を使います。  \n",
    "  \n",
    "（ヒント２）試行回数は、$\\displaystyle \\mathcal{O}(\\sqrt{n}) $ \n"
   ]
  },
  {
   "cell_type": "code",
   "execution_count": 60,
   "metadata": {
    "collapsed": false,
    "deletable": true,
    "editable": true
   },
   "outputs": [
    {
     "data": {
      "image/png": "[encoded data removed]",
      "text/latex": [
       "$$\\left[\\begin{matrix}- \\frac{3}{4} & \\frac{1}{4} & \\frac{1}{4} & \\frac{1}{4} & \\frac{1}{4} & \\frac{1}{4} & \\frac{1}{4} & \\frac{1}{4}\\\\\\frac{1}{4} & - \\frac{3}{4} & \\frac{1}{4} & \\frac{1}{4} & \\frac{1}{4} & \\frac{1}{4} & \\frac{1}{4} & \\frac{1}{4}\\\\\\frac{1}{4} & \\frac{1}{4} & - \\frac{3}{4} & \\frac{1}{4} & \\frac{1}{4} & \\frac{1}{4} & \\frac{1}{4} & \\frac{1}{4}\\\\\\frac{1}{4} & \\frac{1}{4} & \\frac{1}{4} & - \\frac{3}{4} & \\frac{1}{4} & \\frac{1}{4} & \\frac{1}{4} & \\frac{1}{4}\\\\\\frac{1}{4} & \\frac{1}{4} & \\frac{1}{4} & \\frac{1}{4} & - \\frac{3}{4} & \\frac{1}{4} & \\frac{1}{4} & \\frac{1}{4}\\\\\\frac{1}{4} & \\frac{1}{4} & \\frac{1}{4} & \\frac{1}{4} & \\frac{1}{4} & - \\frac{3}{4} & \\frac{1}{4} & \\frac{1}{4}\\\\\\frac{1}{4} & \\frac{1}{4} & \\frac{1}{4} & \\frac{1}{4} & \\frac{1}{4} & \\frac{1}{4} & - \\frac{3}{4} & \\frac{1}{4}\\\\\\frac{1}{4} & \\frac{1}{4} & \\frac{1}{4} & \\frac{1}{4} & \\frac{1}{4} & \\frac{1}{4} & \\frac{1}{4} & - \\frac{3}{4}\\end{matrix}\\right]$$"
      ],
      "text/plain": [
       "⎡-3/4  1/4   1/4   1/4   1/4   1/4   1/4   1/4 ⎤\n",
       "⎢                                              ⎥\n",
       "⎢1/4   -3/4  1/4   1/4   1/4   1/4   1/4   1/4 ⎥\n",
       "⎢                                              ⎥\n",
       "⎢1/4   1/4   -3/4  1/4   1/4   1/4   1/4   1/4 ⎥\n",
       "⎢                                              ⎥\n",
       "⎢1/4   1/4   1/4   -3/4  1/4   1/4   1/4   1/4 ⎥\n",
       "⎢                                              ⎥\n",
       "⎢1/4   1/4   1/4   1/4   -3/4  1/4   1/4   1/4 ⎥\n",
       "⎢                                              ⎥\n",
       "⎢1/4   1/4   1/4   1/4   1/4   -3/4  1/4   1/4 ⎥\n",
       "⎢                                              ⎥\n",
       "⎢1/4   1/4   1/4   1/4   1/4   1/4   -3/4  1/4 ⎥\n",
       "⎢                                              ⎥\n",
       "⎣1/4   1/4   1/4   1/4   1/4   1/4   1/4   -3/4⎦"
      ]
     },
     "execution_count": 60,
     "metadata": {},
     "output_type": "execute_result"
    }
   ],
   "source": [
    "# d_3 = h_3 * X(0)*X(1)*X(2) * H(0)*CCX(1,2,0)*H(0) * X(0)*X(1)*X(2) * h_3    # グローバル位相（絶対位相）の差に注意\n",
    "# d_3 = h_3 * X(0)*X(1)*X(2) * CGateS((1,2), Z(0)) * X(0)*X(1)*X(2) * h_3\n",
    "def DOp(n): return (Qubit('0'*n)*QubitBra('0'*n)*2-_I(0))     # ゲート操作で計算するには、上記コメントのような演算になります。\n",
    "d_3 = h_3 * DOp(3) * h_3    # 平均値周りの反転操作\n",
    "represent(d_3,nqubits=3)"
   ]
  },
  {
   "cell_type": "markdown",
   "metadata": {
    "deletable": true,
    "editable": true
   },
   "source": [
    "### ３量子ビットで状態｜７＞を探す"
   ]
  },
  {
   "cell_type": "code",
   "execution_count": 61,
   "metadata": {
    "collapsed": false,
    "deletable": true,
    "editable": true
   },
   "outputs": [
    {
     "data": {
      "image/png": "[encoded data removed]",
      "text/latex": [
       "$$\\left [ \\left ( {\\left|000\\right\\rangle }, \\quad \\frac{1}{32}\\right ), \\quad \\left ( {\\left|001\\right\\rangle }, \\quad \\frac{1}{32}\\right ), \\quad \\left ( {\\left|010\\right\\rangle }, \\quad \\frac{1}{32}\\right ), \\quad \\left ( {\\left|011\\right\\rangle }, \\quad \\frac{1}{32}\\right ), \\quad \\left ( {\\left|100\\right\\rangle }, \\quad \\frac{1}{32}\\right ), \\quad \\left ( {\\left|101\\right\\rangle }, \\quad \\frac{1}{32}\\right ), \\quad \\left ( {\\left|110\\right\\rangle }, \\quad \\frac{1}{32}\\right ), \\quad \\left ( {\\left|111\\right\\rangle }, \\quad \\frac{25}{32}\\right )\\right ]$$"
      ],
      "text/plain": [
       "⎡                                                                             \n",
       "⎢(❘000⟩, 1/32), (❘001⟩, 1/32), (❘010⟩, 1/32), (❘011⟩, 1/32), (❘100⟩, 1/32), (❘\n",
       "⎣                                                                             \n",
       "\n",
       "                            ⎛       25⎞⎤\n",
       "101⟩, 1/32), (❘110⟩, 1/32), ⎜❘111⟩, ──⎟⎥\n",
       "                            ⎝       32⎠⎦"
      ]
     },
     "execution_count": 61,
     "metadata": {},
     "output_type": "execute_result"
    }
   ],
   "source": [
    "ret1=qapply(d_3*mark_7*target_state_3)\n",
    "measure_all(ret1)"
   ]
  },
  {
   "cell_type": "code",
   "execution_count": 62,
   "metadata": {
    "collapsed": false,
    "deletable": true,
    "editable": true
   },
   "outputs": [
    {
     "data": {
      "image/png": "[encoded data removed]",
      "text/latex": [
       "$$\\left [ \\left ( {\\left|000\\right\\rangle }, \\quad \\frac{1}{128}\\right ), \\quad \\left ( {\\left|001\\right\\rangle }, \\quad \\frac{1}{128}\\right ), \\quad \\left ( {\\left|010\\right\\rangle }, \\quad \\frac{1}{128}\\right ), \\quad \\left ( {\\left|011\\right\\rangle }, \\quad \\frac{1}{128}\\right ), \\quad \\left ( {\\left|100\\right\\rangle }, \\quad \\frac{1}{128}\\right ), \\quad \\left ( {\\left|101\\right\\rangle }, \\quad \\frac{1}{128}\\right ), \\quad \\left ( {\\left|110\\right\\rangle }, \\quad \\frac{1}{128}\\right ), \\quad \\left ( {\\left|111\\right\\rangle }, \\quad \\frac{121}{128}\\right )\\right ]$$"
      ],
      "text/plain": [
       "⎡                                                                             \n",
       "⎢(❘000⟩, 1/128), (❘001⟩, 1/128), (❘010⟩, 1/128), (❘011⟩, 1/128), (❘100⟩, 1/128\n",
       "⎣                                                                             \n",
       "\n",
       "                                   ⎛       121⎞⎤\n",
       "), (❘101⟩, 1/128), (❘110⟩, 1/128), ⎜❘111⟩, ───⎟⎥\n",
       "                                   ⎝       128⎠⎦"
      ]
     },
     "execution_count": 62,
     "metadata": {},
     "output_type": "execute_result"
    }
   ],
   "source": [
    "ret2=qapply(d_3*mark_7*ret1)  # シミュレーター計算ですから、上で一度観測した ret1 を使っても観測の影響なく次の計算に利用可能。\n",
    "measure_all(ret2)"
   ]
  },
  {
   "cell_type": "code",
   "execution_count": 63,
   "metadata": {
    "collapsed": false,
    "deletable": true,
    "editable": true
   },
   "outputs": [
    {
     "data": {
      "image/png": "[encoded data removed]",
      "text/latex": [
       "$$\\left [ \\left ( {\\left|000\\right\\rangle }, \\quad \\frac{49}{512}\\right ), \\quad \\left ( {\\left|001\\right\\rangle }, \\quad \\frac{49}{512}\\right ), \\quad \\left ( {\\left|010\\right\\rangle }, \\quad \\frac{49}{512}\\right ), \\quad \\left ( {\\left|011\\right\\rangle }, \\quad \\frac{49}{512}\\right ), \\quad \\left ( {\\left|100\\right\\rangle }, \\quad \\frac{49}{512}\\right ), \\quad \\left ( {\\left|101\\right\\rangle }, \\quad \\frac{49}{512}\\right ), \\quad \\left ( {\\left|110\\right\\rangle }, \\quad \\frac{49}{512}\\right ), \\quad \\left ( {\\left|111\\right\\rangle }, \\quad \\frac{169}{512}\\right )\\right ]$$"
      ],
      "text/plain": [
       "⎡⎛        49⎞  ⎛        49⎞  ⎛        49⎞  ⎛        49⎞  ⎛        49⎞  ⎛      \n",
       "⎢⎜❘000⟩, ───⎟, ⎜❘001⟩, ───⎟, ⎜❘010⟩, ───⎟, ⎜❘011⟩, ───⎟, ⎜❘100⟩, ───⎟, ⎜❘101⟩,\n",
       "⎣⎝       512⎠  ⎝       512⎠  ⎝       512⎠  ⎝       512⎠  ⎝       512⎠  ⎝      \n",
       "\n",
       "  49⎞  ⎛        49⎞  ⎛       169⎞⎤\n",
       " ───⎟, ⎜❘110⟩, ───⎟, ⎜❘111⟩, ───⎟⎥\n",
       " 512⎠  ⎝       512⎠  ⎝       512⎠⎦"
      ]
     },
     "execution_count": 63,
     "metadata": {},
     "output_type": "execute_result"
    }
   ],
   "source": [
    "over_1=qapply(d_3*mark_7*ret2)  # 試行回数が多いとどうなるでしょう。\n",
    "measure_all(over_1)"
   ]
  },
  {
   "cell_type": "code",
   "execution_count": 64,
   "metadata": {
    "collapsed": false,
    "deletable": true,
    "editable": true
   },
   "outputs": [
    {
     "data": {
      "image/png": "[encoded data removed]",
      "text/latex": [
       "$$\\left [ \\left ( {\\left|000\\right\\rangle }, \\quad \\frac{289}{2048}\\right ), \\quad \\left ( {\\left|001\\right\\rangle }, \\quad \\frac{289}{2048}\\right ), \\quad \\left ( {\\left|010\\right\\rangle }, \\quad \\frac{289}{2048}\\right ), \\quad \\left ( {\\left|011\\right\\rangle }, \\quad \\frac{289}{2048}\\right ), \\quad \\left ( {\\left|100\\right\\rangle }, \\quad \\frac{289}{2048}\\right ), \\quad \\left ( {\\left|101\\right\\rangle }, \\quad \\frac{289}{2048}\\right ), \\quad \\left ( {\\left|110\\right\\rangle }, \\quad \\frac{289}{2048}\\right ), \\quad \\left ( {\\left|111\\right\\rangle }, \\quad \\frac{25}{2048}\\right )\\right ]$$"
      ],
      "text/plain": [
       "⎡⎛       289 ⎞  ⎛       289 ⎞  ⎛       289 ⎞  ⎛       289 ⎞  ⎛       289 ⎞  ⎛ \n",
       "⎢⎜❘000⟩, ────⎟, ⎜❘001⟩, ────⎟, ⎜❘010⟩, ────⎟, ⎜❘011⟩, ────⎟, ⎜❘100⟩, ────⎟, ⎜❘\n",
       "⎣⎝       2048⎠  ⎝       2048⎠  ⎝       2048⎠  ⎝       2048⎠  ⎝       2048⎠  ⎝ \n",
       "\n",
       "      289 ⎞  ⎛       289 ⎞  ⎛        25 ⎞⎤\n",
       "101⟩, ────⎟, ⎜❘110⟩, ────⎟, ⎜❘111⟩, ────⎟⎥\n",
       "      2048⎠  ⎝       2048⎠  ⎝       2048⎠⎦"
      ]
     },
     "execution_count": 64,
     "metadata": {},
     "output_type": "execute_result"
    }
   ],
   "source": [
    "over_2=qapply(d_3*mark_7*over_1)  # 試行回数が多いとどうなるでしょう。\n",
    "measure_all(over_2)"
   ]
  },
  {
   "cell_type": "markdown",
   "metadata": {
    "deletable": true,
    "editable": true
   },
   "source": [
    "通しで計算すると、回路が長くなってきています。少し時間かかります。"
   ]
  },
  {
   "cell_type": "code",
   "execution_count": 65,
   "metadata": {
    "collapsed": false,
    "deletable": true,
    "editable": true
   },
   "outputs": [
    {
     "data": {
      "image/png": "[encoded data removed]",
      "text/latex": [
       "$$- \\frac{\\sqrt{2}}{16} {\\left|000\\right\\rangle } - \\frac{\\sqrt{2}}{16} {\\left|001\\right\\rangle } - \\frac{\\sqrt{2}}{16} {\\left|010\\right\\rangle } - \\frac{\\sqrt{2}}{16} {\\left|011\\right\\rangle } - \\frac{\\sqrt{2}}{16} {\\left|100\\right\\rangle } - \\frac{\\sqrt{2}}{16} {\\left|101\\right\\rangle } - \\frac{\\sqrt{2}}{16} {\\left|110\\right\\rangle } + \\frac{11 \\sqrt{2}}{16} {\\left|111\\right\\rangle }$$"
      ],
      "text/plain": [
       "  √2⋅❘000⟩   √2⋅❘001⟩   √2⋅❘010⟩   √2⋅❘011⟩   √2⋅❘100⟩   √2⋅❘101⟩   √2⋅❘110⟩  \n",
       "- ──────── - ──────── - ──────── - ──────── - ──────── - ──────── - ──────── +\n",
       "     16         16         16         16         16         16         16     \n",
       "\n",
       " 11⋅√2⋅❘111⟩\n",
       " ───────────\n",
       "      16    "
      ]
     },
     "execution_count": 65,
     "metadata": {},
     "output_type": "execute_result"
    }
   ],
   "source": [
    "from sympy.physics.quantum.gate import gate_simp\n",
    "search_7_in_3qubit = gate_simp(d_3*mark_7*d_3*mark_7)\n",
    "ret3=qapply(search_7_in_3qubit*target_state_3)\n",
    "ret3"
   ]
  },
  {
   "cell_type": "code",
   "execution_count": 68,
   "metadata": {
    "collapsed": false,
    "deletable": true,
    "editable": true
   },
   "outputs": [
    {
     "name": "stdout",
     "output_type": "stream",
     "text": [
      "[(|000>, 1/128), (|001>, 1/128), (|010>, 1/128), (|011>, 1/128), (|100>, 1/128), (|101>, 1/128), (|110>, 1/128), (|111>, 121/128)]\n",
      "❘111⟩\n",
      "❘111⟩\n",
      "❘111⟩\n",
      "❘111⟩\n",
      "❘111⟩\n",
      "❘111⟩\n",
      "❘111⟩\n",
      "❘111⟩\n",
      "❘111⟩\n",
      "❘111⟩\n"
     ]
    }
   ],
   "source": [
    "print(measure_all(ret3))\n",
    "for i in range(10):\n",
    "    pprint(measure_all_oneshot(ret3))"
   ]
  },
  {
   "cell_type": "code",
   "execution_count": 69,
   "metadata": {
    "collapsed": false,
    "deletable": true,
    "editable": true,
    "scrolled": true
   },
   "outputs": [
    {
     "data": {
      "text/plain": [
       "<sympy.physics.quantum.circuitplot.CircuitPlot at 0x112f0dd30>"
      ]
     },
     "execution_count": 69,
     "metadata": {},
     "output_type": "execute_result"
    },
    {
     "data": {
      "image/png": "[encoded data removed]",
      "text/plain": [
       "<matplotlib.figure.Figure at 0x112f0d080>"
      ]
     },
     "metadata": {},
     "output_type": "display_data"
    }
   ],
   "source": [
    "d_3_gate = h_3 * X(0)*X(1)*X(2) * H(0)*CCX(1,2,0)*H(0) * X(0)*X(1)*X(2) * h_3\n",
    "CircuitPlot(gate_simp(d_3_gate*mark_7*d_3_gate*mark_7*h_3),nqubits=3,labels=labeller(3)[::-1])"
   ]
  },
  {
   "cell_type": "markdown",
   "metadata": {
    "deletable": true,
    "editable": true
   },
   "source": [
    "## OpenQL 発のPythonライブラリ QuantPy を紹介します\n",
    "  \n",
    "QuantPy は、フロントエンドを SymPy を使っています。  \n",
    "「量子ビットの準備」「量子操作（ゲート演算子）の記述」は SymPy で行います。  \n",
    "「量子ビットにゲート演算子を作用」する qapply() を置き換えて動作します。  \n"
   ]
  },
  {
   "cell_type": "code",
   "execution_count": 70,
   "metadata": {
    "collapsed": true,
    "deletable": true,
    "editable": true
   },
   "outputs": [],
   "source": [
    "from quantpy.sympy.qapply import qapply  \n",
    "# sympy.physics.quantum.qapply を上書きします。sympy.physics.quantum のインポートの後に読み込んでください。"
   ]
  },
  {
   "cell_type": "code",
   "execution_count": 71,
   "metadata": {
    "collapsed": false,
    "deletable": true,
    "editable": true
   },
   "outputs": [
    {
     "name": "stdout",
     "output_type": "stream",
     "text": [
      "(1+0j)|100>\n",
      "(1+0j)|100>\n",
      "(1+0j)|000>\n",
      "(1+0j)|111>\n",
      "(1+0j)|111>\n",
      "(1+0j)|110>\n",
      "(1+0j)|000>\n",
      "(1+0j)|010>\n"
     ]
    }
   ],
   "source": [
    "from quantpy.sympy.executor.classical_simulation_executor import ClassicalSimulationExecutor\n",
    "classical_simulator = ClassicalSimulationExecutor()\n",
    "for i in range(8):\n",
    "    print(qapply(H(2)*H(1)*H(0)*Qubit('000'), executor=classical_simulator))"
   ]
  },
  {
   "cell_type": "code",
   "execution_count": 73,
   "metadata": {
    "collapsed": false,
    "deletable": true,
    "editable": true
   },
   "outputs": [
    {
     "name": "stdout",
     "output_type": "stream",
     "text": [
      "{'110': 111, '101': 137, '001': 131, '000': 107, '011': 99, '010': 144, '111': 134, '100': 161}\n"
     ]
    }
   ],
   "source": [
    "from quantpy.sympy.executor.ibmq_executor import IBMQExecutor\n",
    "# APItoken = 'hogehoge'\n",
    "# ibmq_simulator = IBMQExecutor(api_key=APItoken, backend='ibmqx2')\n",
    "ibmq_simulator = IBMQExecutor(backend='local_qasm_simulator')\n",
    "qpy_ret=qapply(H(2)*H(1)*H(0)*Qubit('000'), executor=ibmq_simulator)\n",
    "print(qpy_ret)"
   ]
  },
  {
   "cell_type": "markdown",
   "metadata": {
    "deletable": true,
    "editable": true
   },
   "source": [
    "## （Homework）Toffoli 再び\n",
    "\n",
    "### 課題１）　Toffoli ゲートを、基本的な量子ゲートだけで表してください。"
   ]
  },
  {
   "cell_type": "code",
   "execution_count": 84,
   "metadata": {
    "collapsed": false,
    "deletable": true,
    "editable": true
   },
   "outputs": [
    {
     "data": {
      "text/plain": [
       "<sympy.physics.quantum.circuitplot.CircuitPlot at 0x117416208>"
      ]
     },
     "execution_count": 84,
     "metadata": {},
     "output_type": "execute_result"
    },
    {
     "data": {
      "image/png": "[encoded data removed]",
      "text/plain": [
       "<matplotlib.figure.Figure at 0x117416ba8>"
      ]
     },
     "metadata": {},
     "output_type": "display_data"
    }
   ],
   "source": [
    "def ToffoliGate_plot(q0,q1,q2):\n",
    "    return T(q0)*S(q1)*CNOT(q0,q1)*Tdag(q1)*CNOT(q0,q1)\\\n",
    "            *H(q2)*Tdag(q1)*T(q2)*CNOT(q0,q2)*Tdag(q2)*CNOT(q1,q2)\\\n",
    "            *T(q2)*CNOT(q0,q2)*Tdag(q2)*CNOT(q1,q2)*H(q2)\n",
    "CircuitPlot(ToffoliGate_plot(2,1,0), nqubits=3)"
   ]
  },
  {
   "cell_type": "code",
   "execution_count": 85,
   "metadata": {
    "collapsed": false,
    "deletable": true,
    "editable": true
   },
   "outputs": [
    {
     "data": {
      "image/png": "[encoded data removed]",
      "text/latex": [
       "$$T_{2} S_{1} CNOT_{2,1} T_{1}^{-1} CNOT_{2,1} H_{0} T_{1}^{-1} T_{0} CNOT_{2,0} T_{0}^{-1} CNOT_{1,0} T_{0} CNOT_{2,0} T_{0}^{-1} CNOT_{1,0} H_{0}$$"
      ],
      "text/plain": [
       "                  -1                -1                -1                      \n",
       "T ⋅S ⋅CNOT   ⋅⎛T ⎞  ⋅CNOT   ⋅H ⋅⎛T ⎞  ⋅T ⋅CNOT   ⋅⎛T ⎞  ⋅CNOT   ⋅T ⋅CNOT   ⋅⎛T\n",
       " 2  1     2,1 ⎝ 1⎠       2,1  0 ⎝ 1⎠    0     2,0 ⎝ 0⎠       1,0  0     2,0 ⎝ \n",
       "\n",
       "  -1           \n",
       " ⎞  ⋅CNOT   ⋅H \n",
       "0⎠       1,0  0"
      ]
     },
     "execution_count": 85,
     "metadata": {},
     "output_type": "execute_result"
    }
   ],
   "source": [
    "def Tdg(q): return (T(q)**(-1))\n",
    "def ToffoliGate(q0,q1,q2):\n",
    "    return T(q0)*S(q1)*CNOT(q0,q1)*Tdg(q1)*CNOT(q0,q1)\\\n",
    "            *H(q2)*Tdg(q1)*T(q2)*CNOT(q0,q2)*Tdg(q2)*CNOT(q1,q2)\\\n",
    "            *T(q2)*CNOT(q0,q2)*Tdg(q2)*CNOT(q1,q2)*H(q2)\n",
    "ToffoliGate(2,1,0)\n",
    "# qapply(ToffoliGate(2,1,0)*Qubit('110'), dagger=True)   # 残念ながら、計算ができませんでした。"
   ]
  },
  {
   "cell_type": "markdown",
   "metadata": {
    "deletable": true,
    "editable": true
   },
   "source": [
    "### 課題２）　CCCX ゲートを、 Toffoli ゲートと CNOT ゲートで表してください。"
   ]
  },
  {
   "cell_type": "code",
   "execution_count": 86,
   "metadata": {
    "collapsed": false,
    "deletable": true,
    "editable": true,
    "scrolled": false
   },
   "outputs": [
    {
     "data": {
      "text/plain": [
       "<sympy.physics.quantum.circuitplot.CircuitPlot at 0x1177d1f60>"
      ]
     },
     "execution_count": 86,
     "metadata": {},
     "output_type": "execute_result"
    },
    {
     "data": {
      "image/png": "[encoded data removed]",
      "text/plain": [
       "<matplotlib.figure.Figure at 0x117416860>"
      ]
     },
     "metadata": {},
     "output_type": "display_data"
    }
   ],
   "source": [
    "def CCCX_with_ancilla(q0,q1,q2,t,a0,a1,a2): \n",
    "    return CNOT(q0,a0)*Toffoli(q1,a0,a1)*Toffoli(q2,a1,a2)*CNOT(a2,t)*Toffoli(q2,a1,a2)*Toffoli(q1,a0,a1)*CNOT(q0,a0)\n",
    "CircuitPlot(CCCX_with_ancilla(6,5,4,3,2,1,0),nqubits=7,labels=(labeller(3,'a')+['t']+labeller(3,)))"
   ]
  },
  {
   "cell_type": "code",
   "execution_count": 87,
   "metadata": {
    "collapsed": false,
    "deletable": true,
    "editable": true
   },
   "outputs": [
    {
     "data": {
      "image/png": "[encoded data removed]",
      "text/latex": [
       "$${\\left|1110000\\right\\rangle }$$"
      ],
      "text/plain": [
       "❘1110000⟩"
      ]
     },
     "execution_count": 87,
     "metadata": {},
     "output_type": "execute_result"
    }
   ],
   "source": [
    "qapply(CCCX_with_ancilla(6,5,4,3,2,1,0)*Qubit('1111000'))"
   ]
  },
  {
   "cell_type": "code",
   "execution_count": 88,
   "metadata": {
    "collapsed": false,
    "deletable": true,
    "editable": true
   },
   "outputs": [
    {
     "data": {
      "image/png": "[encoded data removed]",
      "text/latex": [
       "$${\\left|1111000\\right\\rangle }$$"
      ],
      "text/plain": [
       "❘1111000⟩"
      ]
     },
     "execution_count": 88,
     "metadata": {},
     "output_type": "execute_result"
    }
   ],
   "source": [
    "qapply(CCCX_with_ancilla(6,5,4,3,2,1,0)*Qubit('1110000'))"
   ]
  },
  {
   "cell_type": "markdown",
   "metadata": {
    "deletable": true,
    "editable": true
   },
   "source": [
    "### 付録Ａ：ブラ・ベクトル\n",
    "複素共役を表すための dagger（ $ \\dagger $ ） をQubitオプジェクトに作用させると、ブラ・ベクトルになります。  \n",
    "また、内積も計算できます。  \n",
    "シンボルのままで内積にするには、単にブラ・ベクトル QubitBra とケット・ベクトル Qubit を掛ける（*）だけです。  \n",
    "実際の値を計算するには、この内積オブジェクトのdoit()メソッドで計算します。"
   ]
  },
  {
   "cell_type": "code",
   "execution_count": 89,
   "metadata": {
    "collapsed": false,
    "deletable": true,
    "editable": true
   },
   "outputs": [
    {
     "data": {
      "image/png": "[encoded data removed]",
      "text/latex": [
       "$${\\left\\langle 000\\right|}$$"
      ],
      "text/plain": [
       "⟨000❘"
      ]
     },
     "execution_count": 89,
     "metadata": {},
     "output_type": "execute_result"
    }
   ],
   "source": [
    "from sympy.physics.quantum.dagger import Dagger\n",
    "Dagger(q)"
   ]
  },
  {
   "cell_type": "code",
   "execution_count": 90,
   "metadata": {
    "collapsed": false,
    "deletable": true,
    "editable": true
   },
   "outputs": [
    {
     "data": {
      "text/plain": [
       "sympy.physics.quantum.qubit.QubitBra"
      ]
     },
     "execution_count": 90,
     "metadata": {},
     "output_type": "execute_result"
    }
   ],
   "source": [
    "type(Dagger(q))"
   ]
  },
  {
   "cell_type": "code",
   "execution_count": 91,
   "metadata": {
    "collapsed": false,
    "deletable": true,
    "editable": true
   },
   "outputs": [
    {
     "data": {
      "image/png": "[encoded data removed]",
      "text/latex": [
       "$$\\left\\langle 000 \\right. {\\left|000\\right\\rangle }$$"
      ],
      "text/plain": [
       "⟨000❘000⟩"
      ]
     },
     "execution_count": 91,
     "metadata": {},
     "output_type": "execute_result"
    }
   ],
   "source": [
    "ip = Dagger(q)*q\n",
    "ip"
   ]
  },
  {
   "cell_type": "code",
   "execution_count": 92,
   "metadata": {
    "collapsed": false,
    "deletable": true,
    "editable": true
   },
   "outputs": [
    {
     "data": {
      "image/png": "[encoded data removed]",
      "text/latex": [
       "$$1$$"
      ],
      "text/plain": [
       "1"
      ]
     },
     "execution_count": 92,
     "metadata": {},
     "output_type": "execute_result"
    }
   ],
   "source": [
    "ip.doit()"
   ]
  },
  {
   "cell_type": "markdown",
   "metadata": {
    "deletable": true,
    "editable": true
   },
   "source": [
    "### 付録Ｂ：量子フーリエ変換"
   ]
  },
  {
   "cell_type": "code",
   "execution_count": 93,
   "metadata": {
    "collapsed": false,
    "deletable": true,
    "editable": true
   },
   "outputs": [
    {
     "data": {
      "image/png": "[encoded data removed]",
      "text/latex": [
       "$$SWAP_{0,2} H_{0} C_{0}{\\left(S_{1}\\right)} H_{1} C_{0}{\\left(T_{2}\\right)} C_{1}{\\left(S_{2}\\right)} H_{2}$$"
      ],
      "text/plain": [
       "SWAP   ⋅H ⋅C ⎛S ⎞⋅H ⋅C ⎛T ⎞⋅C ⎛S ⎞⋅H \n",
       "    0,2  0  0⎝ 1⎠  1  0⎝ 2⎠  1⎝ 2⎠  2"
      ]
     },
     "execution_count": 93,
     "metadata": {},
     "output_type": "execute_result"
    }
   ],
   "source": [
    "from sympy.physics.quantum.qft import QFT\n",
    "fourier_3 = QFT(0,3).decompose()\n",
    "fourier_3"
   ]
  },
  {
   "cell_type": "code",
   "execution_count": 95,
   "metadata": {
    "collapsed": false,
    "deletable": true,
    "editable": true,
    "scrolled": true
   },
   "outputs": [
    {
     "data": {
      "image/png": "[encoded data removed]",
      "text/latex": [
       "$$\\frac{\\sqrt{2}}{4} {\\left|000\\right\\rangle } + \\frac{\\sqrt{2}}{4} {\\left|001\\right\\rangle } + \\frac{\\sqrt{2}}{4} {\\left|010\\right\\rangle } + \\frac{\\sqrt{2}}{4} {\\left|011\\right\\rangle } + \\frac{\\sqrt{2}}{4} {\\left|100\\right\\rangle } + \\frac{\\sqrt{2}}{4} {\\left|101\\right\\rangle } + \\frac{\\sqrt{2}}{4} {\\left|110\\right\\rangle } + \\frac{\\sqrt{2}}{4} {\\left|111\\right\\rangle }$$"
      ],
      "text/plain": [
       "√2⋅❘000⟩   √2⋅❘001⟩   √2⋅❘010⟩   √2⋅❘011⟩   √2⋅❘100⟩   √2⋅❘101⟩   √2⋅❘110⟩   √\n",
       "──────── + ──────── + ──────── + ──────── + ──────── + ──────── + ──────── + ─\n",
       "   4          4          4          4          4          4          4        \n",
       "\n",
       "2⋅❘111⟩\n",
       "───────\n",
       "  4    "
      ]
     },
     "execution_count": 95,
     "metadata": {},
     "output_type": "execute_result"
    },
    {
     "data": {
      "image/png": "[encoded data removed]",
      "text/plain": [
       "<matplotlib.figure.Figure at 0x117cfb8d0>"
      ]
     },
     "metadata": {},
     "output_type": "display_data"
    }
   ],
   "source": [
    "figure_qft3 = CircuitPlot(fourier_3, nqubits=3)\n",
    "qapply(fourier_3 * Qubit('000'))"
   ]
  },
  {
   "cell_type": "markdown",
   "metadata": {
    "deletable": true,
    "editable": true
   },
   "source": [
    "### 付録Ｃ：QASM\n",
    "  \n",
    "SymPy独自のQASMでゲートを記述できます。  \n",
    "ただし、OpenQASM とは異なるフォーマットです。注意してください。"
   ]
  },
  {
   "cell_type": "code",
   "execution_count": 96,
   "metadata": {
    "collapsed": false,
    "deletable": true,
    "editable": true
   },
   "outputs": [
    {
     "data": {
      "text/plain": [
       "<sympy.physics.quantum.circuitplot.CircuitPlot at 0x117dbe5c0>"
      ]
     },
     "execution_count": 96,
     "metadata": {},
     "output_type": "execute_result"
    },
    {
     "data": {
      "image/png": "[encoded data removed]",
      "text/plain": [
       "<matplotlib.figure.Figure at 0x117d28710>"
      ]
     },
     "metadata": {},
     "output_type": "display_data"
    }
   ],
   "source": [
    "from sympy.physics.quantum.qasm import Qasm\n",
    "qprog1 = Qasm(\n",
    "    'qubit q0',\n",
    "    'qubit q1',\n",
    "    'h q0',\n",
    "    'cnot q0,q1')\n",
    "CircuitPlot(qprog1.get_circuit(),2,labels=labeller(2))"
   ]
  },
  {
   "cell_type": "code",
   "execution_count": 97,
   "metadata": {
    "collapsed": false,
    "deletable": true,
    "editable": true
   },
   "outputs": [
    {
     "data": {
      "image/png": "[encoded data removed]",
      "text/latex": [
       "$$\\frac{\\sqrt{2}}{4} {\\left|000\\right\\rangle } + \\frac{\\sqrt{2}}{4} {\\left|001\\right\\rangle } + \\frac{\\sqrt{2}}{4} {\\left|010\\right\\rangle } + \\frac{\\sqrt{2}}{4} {\\left|011\\right\\rangle } + \\frac{\\sqrt{2}}{4} {\\left|100\\right\\rangle } + \\frac{\\sqrt{2}}{4} {\\left|101\\right\\rangle } + \\frac{\\sqrt{2}}{4} {\\left|110\\right\\rangle } + \\frac{\\sqrt{2}}{4} {\\left|111\\right\\rangle }$$"
      ],
      "text/plain": [
       "√2⋅❘000⟩   √2⋅❘001⟩   √2⋅❘010⟩   √2⋅❘011⟩   √2⋅❘100⟩   √2⋅❘101⟩   √2⋅❘110⟩   √\n",
       "──────── + ──────── + ──────── + ──────── + ──────── + ──────── + ──────── + ─\n",
       "   4          4          4          4          4          4          4        \n",
       "\n",
       "2⋅❘111⟩\n",
       "───────\n",
       "  4    "
      ]
     },
     "execution_count": 97,
     "metadata": {},
     "output_type": "execute_result"
    },
    {
     "data": {
      "image/png": "[encoded data removed]",
      "text/plain": [
       "<matplotlib.figure.Figure at 0x117f0c438>"
      ]
     },
     "metadata": {},
     "output_type": "display_data"
    }
   ],
   "source": [
    "qprog2 = Qasm(\"def\tc-S,1,'S'\",\n",
    "        \"def\tc-T,1,'T'\",\n",
    "        \"qubit\tj_0\",\n",
    "        \"qubit\tj_1\",\n",
    "        \"qubit\tj_2\",\n",
    "        \"h\tj_0\",\n",
    "        \"c-S\tj_1,j_0\",\n",
    "        \"c-T\tj_2,j_0\",\n",
    "        \"nop\tj_1\",\n",
    "        \"h\tj_1\",\n",
    "        \"c-S\tj_2,j_1\",\n",
    "        \"h\tj_2\",\n",
    "        \"swap\tj_0,j_2\")\n",
    "qprog2.plot()\n",
    "qapply(qprog2.get_circuit()*Qubit('000'))"
   ]
  },
  {
   "cell_type": "code",
   "execution_count": 98,
   "metadata": {
    "collapsed": false,
    "deletable": true,
    "editable": true
   },
   "outputs": [
    {
     "data": {
      "image/png": "[encoded data removed]",
      "text/plain": [
       "<matplotlib.figure.Figure at 0x117dd6748>"
      ]
     },
     "metadata": {},
     "output_type": "display_data"
    }
   ],
   "source": [
    "qasm_lines = \"\"\"\\\n",
    "\tdef\tCU,1,'U'\n",
    "\tdef\tCU2,1,'U^2'\n",
    "\tdef\tCU4,1,'U^4'\n",
    "\tdef\tc-S,1,'S'\n",
    "\tdef\tc-T,1,'T'\n",
    "\tqubit\tj_0,0\t# QFT qubits\n",
    "\tqubit\tj_1,0\n",
    "\tqubit\tj_2,0\n",
    "\tqubit\ts_0\t# U qubits\n",
    "\th\tj_0\t# equal superposition\n",
    "\th\tj_1\n",
    "\th\tj_2\n",
    "\tCU4\tj_0,s_0\t# controlled-U\n",
    "\tCU2\tj_1,s_0\n",
    "\tCU\tj_2,s_0\n",
    "\th\tj_0\t# QFT\n",
    "\tc-S\tj_0,j_1\n",
    "\th\tj_1\n",
    "\tnop\tj_0\n",
    "\tc-T\tj_0,j_2\n",
    "\tc-S\tj_1,j_2\n",
    "\th\tj_2\n",
    "\tnop\tj_0\n",
    "\tnop\tj_0\n",
    "\tnop\tj_1\n",
    "\tmeasure\tj_0\t# final measurement\n",
    "\tmeasure\tj_1\t\n",
    "\tmeasure\tj_2\"\"\"\n",
    "\n",
    "qprog3 = Qasm(*qasm_lines.splitlines())\n",
    "qprog3.plot()"
   ]
  }
 ],
 "metadata": {
  "kernelspec": {
   "display_name": "Python 3",
   "language": "python",
   "name": "python3"
  },
  "language_info": {
   "codemirror_mode": {
    "name": "ipython",
    "version": 3
   },
   "file_extension": ".py",
   "mimetype": "text/x-python",
   "name": "python",
   "nbconvert_exporter": "python",
   "pygments_lexer": "ipython3",
   "version": "3.6.4"
  }
 },
 "nbformat": 4,
 "nbformat_minor": 2
}
